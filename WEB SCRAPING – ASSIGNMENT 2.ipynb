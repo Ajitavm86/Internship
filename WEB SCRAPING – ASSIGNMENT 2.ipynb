{
 "cells": [
  {
   "cell_type": "markdown",
   "id": "08d79f07",
   "metadata": {},
   "source": [
    "# WEB SCRAPING – ASSIGNMENT 2\n"
   ]
  },
  {
   "cell_type": "markdown",
   "id": "6e5201f4",
   "metadata": {},
   "source": [
    "# Q1: Write a python program to scrape data for “Data Analyst” Job position in “Bangalore” location.\n"
   ]
  },
  {
   "cell_type": "code",
   "execution_count": 1,
   "id": "21d0ffa4",
   "metadata": {},
   "outputs": [
    {
     "name": "stdout",
     "output_type": "stream",
     "text": [
      "Collecting selenium\n",
      "  Downloading selenium-4.4.2-py3-none-any.whl (985 kB)\n",
      "Collecting trio~=0.17\n",
      "  Downloading trio-0.21.0-py3-none-any.whl (358 kB)\n",
      "Requirement already satisfied: urllib3[socks]~=1.26 in c:\\users\\ajita\\anaconda3\\lib\\site-packages (from selenium) (1.26.7)\n",
      "Requirement already satisfied: certifi~=2021.10.8 in c:\\users\\ajita\\anaconda3\\lib\\site-packages (from selenium) (2021.10.8)\n",
      "Collecting trio-websocket~=0.9\n",
      "  Downloading trio_websocket-0.9.2-py3-none-any.whl (16 kB)\n",
      "Requirement already satisfied: sniffio in c:\\users\\ajita\\anaconda3\\lib\\site-packages (from trio~=0.17->selenium) (1.2.0)\n",
      "Requirement already satisfied: cffi>=1.14 in c:\\users\\ajita\\anaconda3\\lib\\site-packages (from trio~=0.17->selenium) (1.14.6)\n",
      "Collecting outcome\n",
      "  Downloading outcome-1.2.0-py2.py3-none-any.whl (9.7 kB)\n",
      "Requirement already satisfied: sortedcontainers in c:\\users\\ajita\\anaconda3\\lib\\site-packages (from trio~=0.17->selenium) (2.4.0)\n",
      "Requirement already satisfied: async-generator>=1.9 in c:\\users\\ajita\\anaconda3\\lib\\site-packages (from trio~=0.17->selenium) (1.10)\n",
      "Requirement already satisfied: attrs>=19.2.0 in c:\\users\\ajita\\anaconda3\\lib\\site-packages (from trio~=0.17->selenium) (21.2.0)\n",
      "Requirement already satisfied: idna in c:\\users\\ajita\\anaconda3\\lib\\site-packages (from trio~=0.17->selenium) (3.2)\n",
      "Requirement already satisfied: pycparser in c:\\users\\ajita\\anaconda3\\lib\\site-packages (from cffi>=1.14->trio~=0.17->selenium) (2.20)\n",
      "Collecting wsproto>=0.14\n",
      "  Downloading wsproto-1.1.0-py3-none-any.whl (24 kB)\n",
      "Requirement already satisfied: PySocks!=1.5.7,<2.0,>=1.5.6 in c:\\users\\ajita\\anaconda3\\lib\\site-packages (from urllib3[socks]~=1.26->selenium) (1.7.1)\n",
      "Collecting h11<1,>=0.9.0\n",
      "  Downloading h11-0.13.0-py3-none-any.whl (58 kB)\n",
      "Installing collected packages: outcome, h11, wsproto, trio, trio-websocket, selenium\n",
      "Successfully installed h11-0.13.0 outcome-1.2.0 selenium-4.4.2 trio-0.21.0 trio-websocket-0.9.2 wsproto-1.1.0\n"
     ]
    }
   ],
   "source": [
    "\n",
    "get_ipython().system('pip install selenium')"
   ]
  },
  {
   "cell_type": "code",
   "execution_count": 32,
   "id": "c27a1601",
   "metadata": {},
   "outputs": [],
   "source": [
    "import selenium\n",
    "import pandas as pd\n",
    "from selenium import webdriver\n",
    "import warnings\n",
    "warnings.filterwarnings('ignore')\n",
    "from selenium.common.exceptions import StaleElementReferenceException, NoSuchElementException\n",
    "from selenium.webdriver.common.by import By\n",
    "import time"
   ]
  },
  {
   "cell_type": "code",
   "execution_count": 33,
   "id": "45ec17a4",
   "metadata": {},
   "outputs": [],
   "source": [
    "driver=webdriver.Chrome(r\"C:\\Users\\ajita\\Downloads\\chromedriver_win32\\chromedriver.exe\")\n"
   ]
  },
  {
   "cell_type": "code",
   "execution_count": 34,
   "id": "fd0e2306",
   "metadata": {},
   "outputs": [],
   "source": [
    "driver=webdriver.Chrome(r\"chromedriver.exe\")"
   ]
  },
  {
   "cell_type": "code",
   "execution_count": 35,
   "id": "bb00a46f",
   "metadata": {},
   "outputs": [],
   "source": [
    "driver.get(\"https://www.naukri.com/\")\n"
   ]
  },
  {
   "cell_type": "code",
   "execution_count": 36,
   "id": "1f2a241e",
   "metadata": {},
   "outputs": [],
   "source": [
    "designation=driver.find_element(By.CLASS_NAME,\"suggestor-input\")\n",
    "designation.send_keys('Data Analyst')"
   ]
  },
  {
   "cell_type": "code",
   "execution_count": 37,
   "id": "56af78c7",
   "metadata": {},
   "outputs": [],
   "source": [
    "location=driver.find_element(By.XPATH,\"/html/body/div[1]/div[2]/div[3]/div/div/div[5]/div/div/div/input\")\n",
    "location.send_keys('Bangalore')"
   ]
  },
  {
   "cell_type": "code",
   "execution_count": 38,
   "id": "f5299291",
   "metadata": {},
   "outputs": [],
   "source": [
    "search=driver.find_element(By.CLASS_NAME,\"qsbSubmit\")\n",
    "search.click()"
   ]
  },
  {
   "cell_type": "code",
   "execution_count": 39,
   "id": "d6de36c5",
   "metadata": {},
   "outputs": [],
   "source": [
    "job_title=[]\n",
    "job_location=[]\n",
    "company_name=[]\n",
    "experience_required=[]"
   ]
  },
  {
   "cell_type": "code",
   "execution_count": 40,
   "id": "d8aeb402",
   "metadata": {},
   "outputs": [],
   "source": [
    "title_tags=driver.find_elements(By.XPATH,'//a[@class=\"title fw500 ellipsis\"]')\n",
    "for i in title_tags[0:10]:\n",
    "    title=i.text\n",
    "    job_title.append(title)"
   ]
  },
  {
   "cell_type": "code",
   "execution_count": 41,
   "id": "e2496c9e",
   "metadata": {},
   "outputs": [],
   "source": [
    "location_tags=driver.find_elements(By.XPATH,'//li[@class=\"fleft grey-text br2 placeHolderLi location\"]')\n",
    "for i in location_tags[0:10]:\n",
    "    location=i.text\n",
    "    job_location.append(location)"
   ]
  },
  {
   "cell_type": "code",
   "execution_count": 42,
   "id": "6a651e54",
   "metadata": {},
   "outputs": [],
   "source": [
    "company_tags=driver.find_elements(By.XPATH,'//a[@class=\"subTitle ellipsis fleft\"]')\n",
    "for i in company_tags[0:10]:\n",
    "  company=i.text\n",
    "  company_name.append(company)"
   ]
  },
  {
   "cell_type": "code",
   "execution_count": 43,
   "id": "0fdba657",
   "metadata": {},
   "outputs": [],
   "source": [
    "\n",
    "experience_tags=driver.find_elements(By.XPATH,'//li[@class=\"fleft grey-text br2 placeHolderLi experience\"]//span')\n",
    "for i in experience_tags[0:10]:\n",
    "    exp=i.text\n",
    "    experience_required.append(exp) "
   ]
  },
  {
   "cell_type": "code",
   "execution_count": 44,
   "id": "ef27ee37",
   "metadata": {},
   "outputs": [
    {
     "name": "stdout",
     "output_type": "stream",
     "text": [
      "10 10 10 10\n"
     ]
    }
   ],
   "source": [
    "print(len(job_title),len(job_location),len(company_name),len(experience_required))\n"
   ]
  },
  {
   "cell_type": "code",
   "execution_count": 45,
   "id": "6d212b84",
   "metadata": {},
   "outputs": [
    {
     "data": {
      "text/html": [
       "<div>\n",
       "<style scoped>\n",
       "    .dataframe tbody tr th:only-of-type {\n",
       "        vertical-align: middle;\n",
       "    }\n",
       "\n",
       "    .dataframe tbody tr th {\n",
       "        vertical-align: top;\n",
       "    }\n",
       "\n",
       "    .dataframe thead th {\n",
       "        text-align: right;\n",
       "    }\n",
       "</style>\n",
       "<table border=\"1\" class=\"dataframe\">\n",
       "  <thead>\n",
       "    <tr style=\"text-align: right;\">\n",
       "      <th></th>\n",
       "      <th>Job Title</th>\n",
       "      <th>Job Location</th>\n",
       "      <th>Company Name</th>\n",
       "      <th>Experience Required</th>\n",
       "    </tr>\n",
       "  </thead>\n",
       "  <tbody>\n",
       "    <tr>\n",
       "      <th>0</th>\n",
       "      <td>Business &amp; Data Analyst- Assistant Manager</td>\n",
       "      <td>Bangalore/Bengaluru, Hyderabad/Secunderabad</td>\n",
       "      <td>State Street</td>\n",
       "      <td>1-3 Yrs</td>\n",
       "    </tr>\n",
       "    <tr>\n",
       "      <th>1</th>\n",
       "      <td>Senior Data Analyst</td>\n",
       "      <td>Bangalore/Bengaluru(Old Madras Road)</td>\n",
       "      <td>KrazyBee</td>\n",
       "      <td>3-6 Yrs</td>\n",
       "    </tr>\n",
       "    <tr>\n",
       "      <th>2</th>\n",
       "      <td>Senior Data Analyst</td>\n",
       "      <td>Bangalore/Bengaluru</td>\n",
       "      <td>Qualitest India Private Limited</td>\n",
       "      <td>5-8 Yrs</td>\n",
       "    </tr>\n",
       "    <tr>\n",
       "      <th>3</th>\n",
       "      <td>Sr. Data Analyst</td>\n",
       "      <td>Bangalore/Bengaluru, Pune</td>\n",
       "      <td>Global Indian School Education Services</td>\n",
       "      <td>6-11 Yrs</td>\n",
       "    </tr>\n",
       "    <tr>\n",
       "      <th>4</th>\n",
       "      <td>Sr Clinical Data Analyst</td>\n",
       "      <td>Bangalore/Bengaluru</td>\n",
       "      <td>LabCorp</td>\n",
       "      <td>2-5 Yrs</td>\n",
       "    </tr>\n",
       "    <tr>\n",
       "      <th>5</th>\n",
       "      <td>Master Data Management Business Analyst</td>\n",
       "      <td>Bangalore/Bengaluru</td>\n",
       "      <td>Accenture</td>\n",
       "      <td>6-8 Yrs</td>\n",
       "    </tr>\n",
       "    <tr>\n",
       "      <th>6</th>\n",
       "      <td>Intern Data Analyst</td>\n",
       "      <td>Bangalore/Bengaluru</td>\n",
       "      <td>FullStackTechies</td>\n",
       "      <td>0-1 Yrs</td>\n",
       "    </tr>\n",
       "    <tr>\n",
       "      <th>7</th>\n",
       "      <td>Data Analyst - Python/Artificial Intelligence</td>\n",
       "      <td>Bangalore/Bengaluru, Mumbai, Hyderabad/Secunde...</td>\n",
       "      <td>iMindYourBusiness</td>\n",
       "      <td>0-2 Yrs</td>\n",
       "    </tr>\n",
       "    <tr>\n",
       "      <th>8</th>\n",
       "      <td>Asst Clinical Data Analyst</td>\n",
       "      <td>Bangalore/Bengaluru</td>\n",
       "      <td>LabCorp</td>\n",
       "      <td>1-3 Yrs</td>\n",
       "    </tr>\n",
       "    <tr>\n",
       "      <th>9</th>\n",
       "      <td>Lead Data Analyst</td>\n",
       "      <td>Bangalore/Bengaluru</td>\n",
       "      <td>McAfee</td>\n",
       "      <td>5-9 Yrs</td>\n",
       "    </tr>\n",
       "  </tbody>\n",
       "</table>\n",
       "</div>"
      ],
      "text/plain": [
       "                                       Job Title  \\\n",
       "0     Business & Data Analyst- Assistant Manager   \n",
       "1                            Senior Data Analyst   \n",
       "2                            Senior Data Analyst   \n",
       "3                               Sr. Data Analyst   \n",
       "4                       Sr Clinical Data Analyst   \n",
       "5        Master Data Management Business Analyst   \n",
       "6                            Intern Data Analyst   \n",
       "7  Data Analyst - Python/Artificial Intelligence   \n",
       "8                     Asst Clinical Data Analyst   \n",
       "9                              Lead Data Analyst   \n",
       "\n",
       "                                        Job Location  \\\n",
       "0        Bangalore/Bengaluru, Hyderabad/Secunderabad   \n",
       "1               Bangalore/Bengaluru(Old Madras Road)   \n",
       "2                                Bangalore/Bengaluru   \n",
       "3                          Bangalore/Bengaluru, Pune   \n",
       "4                                Bangalore/Bengaluru   \n",
       "5                                Bangalore/Bengaluru   \n",
       "6                                Bangalore/Bengaluru   \n",
       "7  Bangalore/Bengaluru, Mumbai, Hyderabad/Secunde...   \n",
       "8                                Bangalore/Bengaluru   \n",
       "9                                Bangalore/Bengaluru   \n",
       "\n",
       "                              Company Name Experience Required  \n",
       "0                             State Street             1-3 Yrs  \n",
       "1                                 KrazyBee             3-6 Yrs  \n",
       "2          Qualitest India Private Limited             5-8 Yrs  \n",
       "3  Global Indian School Education Services            6-11 Yrs  \n",
       "4                                  LabCorp             2-5 Yrs  \n",
       "5                                Accenture             6-8 Yrs  \n",
       "6                         FullStackTechies             0-1 Yrs  \n",
       "7                        iMindYourBusiness             0-2 Yrs  \n",
       "8                                  LabCorp             1-3 Yrs  \n",
       "9                                   McAfee             5-9 Yrs  "
      ]
     },
     "execution_count": 45,
     "metadata": {},
     "output_type": "execute_result"
    }
   ],
   "source": [
    "df=pd.DataFrame({'Job Title':job_title,'Job Location':job_location,'Company Name':company_name,'Experience Required':experience_required})\n",
    "df"
   ]
  },
  {
   "cell_type": "code",
   "execution_count": null,
   "id": "5acb5a3e",
   "metadata": {},
   "outputs": [],
   "source": []
  },
  {
   "cell_type": "markdown",
   "id": "ff36ec21",
   "metadata": {},
   "source": [
    "# # Q2. Python program to scrape data for “Data Scientist” Job position in “Bangalore” location\n"
   ]
  },
  {
   "cell_type": "code",
   "execution_count": 46,
   "id": "66ecef2b",
   "metadata": {},
   "outputs": [],
   "source": [
    "driver=webdriver.Chrome(r\"chromedriver.exe\")\n"
   ]
  },
  {
   "cell_type": "code",
   "execution_count": 47,
   "id": "2d335372",
   "metadata": {},
   "outputs": [],
   "source": [
    "driver.get(\"https://www.naukri.com/\")\n"
   ]
  },
  {
   "cell_type": "code",
   "execution_count": 48,
   "id": "c67647bf",
   "metadata": {},
   "outputs": [],
   "source": [
    "designation=driver.find_element(By.CLASS_NAME,\"suggestor-input\")\n",
    "designation.send_keys('Data Scientist')"
   ]
  },
  {
   "cell_type": "code",
   "execution_count": 49,
   "id": "c3a99883",
   "metadata": {},
   "outputs": [],
   "source": [
    "location=driver.find_element(By.XPATH,\"/html/body/div[1]/div[2]/div[3]/div/div/div[5]/div/div/div/input\")\n",
    "location.send_keys('Bangalore')"
   ]
  },
  {
   "cell_type": "code",
   "execution_count": 50,
   "id": "f229189f",
   "metadata": {},
   "outputs": [],
   "source": [
    "search=driver.find_element(By.CLASS_NAME,\"qsbSubmit\")\n",
    "search.click()"
   ]
  },
  {
   "cell_type": "code",
   "execution_count": 51,
   "id": "b0e8fb15",
   "metadata": {},
   "outputs": [],
   "source": [
    "job_title=[]\n",
    "job_location=[]\n",
    "company_name=[]\n",
    "experience_required=[]"
   ]
  },
  {
   "cell_type": "code",
   "execution_count": 52,
   "id": "80faead8",
   "metadata": {},
   "outputs": [],
   "source": [
    "title_tags=driver.find_elements(By.XPATH,'//a[@class=\"title fw500 ellipsis\"]')\n",
    "for i in title_tags[0:10]:\n",
    "    title=i.text\n",
    "    job_title.append(title)"
   ]
  },
  {
   "cell_type": "code",
   "execution_count": 53,
   "id": "0987ebce",
   "metadata": {},
   "outputs": [],
   "source": [
    "company_tags=driver.find_elements(By.XPATH,'//a[@class=\"subTitle ellipsis fleft\"]')\n",
    "for i in company_tags[0:10]:\n",
    "    company=i.text\n",
    "    company_name.append(company)"
   ]
  },
  {
   "cell_type": "code",
   "execution_count": 54,
   "id": "d32a9edf",
   "metadata": {},
   "outputs": [],
   "source": [
    "location_tags=driver.find_elements(By.XPATH,'//li[@class=\"fleft grey-text br2 placeHolderLi location\"]')\n",
    "for i in location_tags[0:10]:\n",
    "    location=i.text\n",
    "    job_location.append(location)\n"
   ]
  },
  {
   "cell_type": "code",
   "execution_count": 55,
   "id": "c1bba1b5",
   "metadata": {},
   "outputs": [],
   "source": [
    "experience_tags=driver.find_elements(By.XPATH,'//li[@class=\"fleft grey-text br2 placeHolderLi experience\"]//span')\n",
    "for i in experience_tags[0:10]:\n",
    "    exp=i.text\n",
    "    experience_required.append(exp) "
   ]
  },
  {
   "cell_type": "code",
   "execution_count": 56,
   "id": "860c5a03",
   "metadata": {},
   "outputs": [
    {
     "name": "stdout",
     "output_type": "stream",
     "text": [
      "10 10 10 10\n"
     ]
    }
   ],
   "source": [
    "print(len(job_title),len(job_location),len(company_name),len(experience_required))\n"
   ]
  },
  {
   "cell_type": "code",
   "execution_count": 57,
   "id": "6d4fbd8d",
   "metadata": {},
   "outputs": [
    {
     "data": {
      "text/html": [
       "<div>\n",
       "<style scoped>\n",
       "    .dataframe tbody tr th:only-of-type {\n",
       "        vertical-align: middle;\n",
       "    }\n",
       "\n",
       "    .dataframe tbody tr th {\n",
       "        vertical-align: top;\n",
       "    }\n",
       "\n",
       "    .dataframe thead th {\n",
       "        text-align: right;\n",
       "    }\n",
       "</style>\n",
       "<table border=\"1\" class=\"dataframe\">\n",
       "  <thead>\n",
       "    <tr style=\"text-align: right;\">\n",
       "      <th></th>\n",
       "      <th>Job Title</th>\n",
       "      <th>Job Location</th>\n",
       "      <th>Company Name</th>\n",
       "      <th>Experience Required</th>\n",
       "    </tr>\n",
       "  </thead>\n",
       "  <tbody>\n",
       "    <tr>\n",
       "      <th>0</th>\n",
       "      <td>Lead ML Scientist</td>\n",
       "      <td>Bangalore/Bengaluru, Mumbai</td>\n",
       "      <td>Fractal Analytics</td>\n",
       "      <td>6-10 Yrs</td>\n",
       "    </tr>\n",
       "    <tr>\n",
       "      <th>1</th>\n",
       "      <td>Senior Manager - EmTech - Machine Learning - P&amp;T</td>\n",
       "      <td>Bangalore/Bengaluru, Mumbai, Hyderabad/Secunde...</td>\n",
       "      <td>PwC</td>\n",
       "      <td>5-12 Yrs</td>\n",
       "    </tr>\n",
       "    <tr>\n",
       "      <th>2</th>\n",
       "      <td>Analystics &amp; Modeling Specialist</td>\n",
       "      <td>Bangalore/Bengaluru, Kolkata, Mumbai, Hyderaba...</td>\n",
       "      <td>Accenture</td>\n",
       "      <td>6-8 Yrs</td>\n",
       "    </tr>\n",
       "    <tr>\n",
       "      <th>3</th>\n",
       "      <td>Data scientist _Tata Consultancy Services(Tcs)</td>\n",
       "      <td>Bangalore/Bengaluru, Kochi/Cochin, Indore, New...</td>\n",
       "      <td>TATA CONSULTANCY SERVICES (TCS)</td>\n",
       "      <td>9-14 Yrs</td>\n",
       "    </tr>\n",
       "    <tr>\n",
       "      <th>4</th>\n",
       "      <td>Job||Job Opening For AI Technologist - Data Sc...</td>\n",
       "      <td>Bangalore/Bengaluru, New Delhi, Hyderabad/Secu...</td>\n",
       "      <td>Wipro</td>\n",
       "      <td>5-10 Yrs</td>\n",
       "    </tr>\n",
       "    <tr>\n",
       "      <th>5</th>\n",
       "      <td>Hiring For DATA Scientist @ NTT DATA Business ...</td>\n",
       "      <td>Bangalore/Bengaluru, Noida, Hyderabad/Secunder...</td>\n",
       "      <td>NTT DATA Business Solutions Private Limited</td>\n",
       "      <td>4-9 Yrs</td>\n",
       "    </tr>\n",
       "    <tr>\n",
       "      <th>6</th>\n",
       "      <td>Tcs Hiring For Data Scientist</td>\n",
       "      <td>Bangalore/Bengaluru, Chennai, Mumbai (All Areas)</td>\n",
       "      <td>TATA CONSULTANCY SERVICES (TCS)</td>\n",
       "      <td>3-8 Yrs</td>\n",
       "    </tr>\n",
       "    <tr>\n",
       "      <th>7</th>\n",
       "      <td>Urgent Job Opening For AI Practitioner - Data ...</td>\n",
       "      <td>Bangalore/Bengaluru, Kochi/Cochin, New Delhi, ...</td>\n",
       "      <td>Wipro</td>\n",
       "      <td>11-20 Yrs</td>\n",
       "    </tr>\n",
       "    <tr>\n",
       "      <th>8</th>\n",
       "      <td>Data Scientist Lead_Tata Consultancy Services(...</td>\n",
       "      <td>Bangalore/Bengaluru, Kolkata, Hyderabad/Secund...</td>\n",
       "      <td>TATA CONSULTANCY SERVICES (TCS)</td>\n",
       "      <td>8-12 Yrs</td>\n",
       "    </tr>\n",
       "    <tr>\n",
       "      <th>9</th>\n",
       "      <td>Assistant Manager - Data Science</td>\n",
       "      <td>Bangalore/Bengaluru, Mumbai, Pune</td>\n",
       "      <td>CitiusTech</td>\n",
       "      <td>5-9 Yrs</td>\n",
       "    </tr>\n",
       "  </tbody>\n",
       "</table>\n",
       "</div>"
      ],
      "text/plain": [
       "                                           Job Title  \\\n",
       "0                                  Lead ML Scientist   \n",
       "1   Senior Manager - EmTech - Machine Learning - P&T   \n",
       "2                   Analystics & Modeling Specialist   \n",
       "3     Data scientist _Tata Consultancy Services(Tcs)   \n",
       "4  Job||Job Opening For AI Technologist - Data Sc...   \n",
       "5  Hiring For DATA Scientist @ NTT DATA Business ...   \n",
       "6                      Tcs Hiring For Data Scientist   \n",
       "7  Urgent Job Opening For AI Practitioner - Data ...   \n",
       "8  Data Scientist Lead_Tata Consultancy Services(...   \n",
       "9                   Assistant Manager - Data Science   \n",
       "\n",
       "                                        Job Location  \\\n",
       "0                        Bangalore/Bengaluru, Mumbai   \n",
       "1  Bangalore/Bengaluru, Mumbai, Hyderabad/Secunde...   \n",
       "2  Bangalore/Bengaluru, Kolkata, Mumbai, Hyderaba...   \n",
       "3  Bangalore/Bengaluru, Kochi/Cochin, Indore, New...   \n",
       "4  Bangalore/Bengaluru, New Delhi, Hyderabad/Secu...   \n",
       "5  Bangalore/Bengaluru, Noida, Hyderabad/Secunder...   \n",
       "6   Bangalore/Bengaluru, Chennai, Mumbai (All Areas)   \n",
       "7  Bangalore/Bengaluru, Kochi/Cochin, New Delhi, ...   \n",
       "8  Bangalore/Bengaluru, Kolkata, Hyderabad/Secund...   \n",
       "9                  Bangalore/Bengaluru, Mumbai, Pune   \n",
       "\n",
       "                                  Company Name Experience Required  \n",
       "0                            Fractal Analytics            6-10 Yrs  \n",
       "1                                          PwC            5-12 Yrs  \n",
       "2                                    Accenture             6-8 Yrs  \n",
       "3              TATA CONSULTANCY SERVICES (TCS)            9-14 Yrs  \n",
       "4                                        Wipro            5-10 Yrs  \n",
       "5  NTT DATA Business Solutions Private Limited             4-9 Yrs  \n",
       "6              TATA CONSULTANCY SERVICES (TCS)             3-8 Yrs  \n",
       "7                                        Wipro           11-20 Yrs  \n",
       "8              TATA CONSULTANCY SERVICES (TCS)            8-12 Yrs  \n",
       "9                                   CitiusTech             5-9 Yrs  "
      ]
     },
     "execution_count": 57,
     "metadata": {},
     "output_type": "execute_result"
    }
   ],
   "source": [
    "df=pd.DataFrame({'Job Title':job_title,'Job Location':job_location,'Company Name':company_name,'Experience Required':experience_required})\n",
    "df"
   ]
  },
  {
   "cell_type": "code",
   "execution_count": null,
   "id": "ac783a06",
   "metadata": {},
   "outputs": [],
   "source": []
  },
  {
   "cell_type": "markdown",
   "id": "d7170ad7",
   "metadata": {},
   "source": [
    "# # Q3. Python Program to Scrape Loacation and Salary Filter\n"
   ]
  },
  {
   "cell_type": "code",
   "execution_count": 67,
   "id": "ebb84caa",
   "metadata": {},
   "outputs": [],
   "source": [
    "driver=webdriver.Chrome(r\"chromedriver.exe\")\n"
   ]
  },
  {
   "cell_type": "code",
   "execution_count": 68,
   "id": "e6706436",
   "metadata": {},
   "outputs": [],
   "source": [
    "driver.get(\"https://www.naukri.com/\")\n"
   ]
  },
  {
   "cell_type": "code",
   "execution_count": 69,
   "id": "e52ca401",
   "metadata": {},
   "outputs": [],
   "source": [
    "designation=driver.find_element(By.CLASS_NAME,\"suggestor-input\")\n",
    "designation.send_keys('Data Scientist')"
   ]
  },
  {
   "cell_type": "code",
   "execution_count": 70,
   "id": "dbc43132",
   "metadata": {},
   "outputs": [],
   "source": [
    "location=driver.find_element(By.XPATH,\"/html/body/div[1]/div[2]/div[3]/div/div/div[5]/div/div/div/input\")\n",
    "location.send_keys('Delhi')"
   ]
  },
  {
   "cell_type": "code",
   "execution_count": 71,
   "id": "a07aeb88",
   "metadata": {},
   "outputs": [],
   "source": [
    "search=driver.find_element(By.CLASS_NAME,\"qsbSubmit\")\n",
    "search.click()"
   ]
  },
  {
   "cell_type": "code",
   "execution_count": 72,
   "id": "831587e9",
   "metadata": {},
   "outputs": [],
   "source": [
    "salary=driver.find_element(By.XPATH,'/html/body/div[1]/div[3]/div[2]/section[1]/div[2]/div[5]/div[2]/div[2]/label/p')\n",
    "salary.click()"
   ]
  },
  {
   "cell_type": "code",
   "execution_count": 73,
   "id": "06b757fb",
   "metadata": {},
   "outputs": [],
   "source": [
    "\n",
    "job_title=[]\n",
    "job_location=[]\n",
    "company_name=[]\n",
    "experience_required=[]\n"
   ]
  },
  {
   "cell_type": "code",
   "execution_count": 74,
   "id": "e92218f4",
   "metadata": {},
   "outputs": [],
   "source": [
    "title_tags=driver.find_elements(By.XPATH,'//a[@class=\"title fw500 ellipsis\"]')\n",
    "for i in title_tags[0:10]:\n",
    "    title=i.text\n",
    "    job_title.append(title)"
   ]
  },
  {
   "cell_type": "code",
   "execution_count": 75,
   "id": "a615c336",
   "metadata": {},
   "outputs": [],
   "source": [
    "company_tags=driver.find_elements(By.XPATH,'//a[@class=\"subTitle ellipsis fleft\"]')\n",
    "for i in company_tags[0:10]:\n",
    "    company=i.text\n",
    "    company_name.append(company)\n"
   ]
  },
  {
   "cell_type": "code",
   "execution_count": 76,
   "id": "d699fda2",
   "metadata": {},
   "outputs": [],
   "source": [
    "\n",
    "location_tags=driver.find_elements(By.XPATH,'//li[@class=\"fleft grey-text br2 placeHolderLi location\"]')\n",
    "for i in location_tags[0:10]:\n",
    "    location=i.text\n",
    "    job_location.append(location)"
   ]
  },
  {
   "cell_type": "code",
   "execution_count": 77,
   "id": "e617070e",
   "metadata": {},
   "outputs": [],
   "source": [
    "experience_tags=driver.find_elements(By.XPATH,'//li[@class=\"fleft grey-text br2 placeHolderLi experience\"]//span')\n",
    "for i in experience_tags[0:10]:\n",
    "    exp=i.text\n",
    "    experience_required.append(exp) \n"
   ]
  },
  {
   "cell_type": "code",
   "execution_count": 78,
   "id": "58d4db83",
   "metadata": {},
   "outputs": [
    {
     "name": "stdout",
     "output_type": "stream",
     "text": [
      "10 10 10 10\n"
     ]
    }
   ],
   "source": [
    "print(len(job_title),len(job_location),len(company_name),len(experience_required))\n"
   ]
  },
  {
   "cell_type": "code",
   "execution_count": 79,
   "id": "cbc3e207",
   "metadata": {},
   "outputs": [
    {
     "data": {
      "text/html": [
       "<div>\n",
       "<style scoped>\n",
       "    .dataframe tbody tr th:only-of-type {\n",
       "        vertical-align: middle;\n",
       "    }\n",
       "\n",
       "    .dataframe tbody tr th {\n",
       "        vertical-align: top;\n",
       "    }\n",
       "\n",
       "    .dataframe thead th {\n",
       "        text-align: right;\n",
       "    }\n",
       "</style>\n",
       "<table border=\"1\" class=\"dataframe\">\n",
       "  <thead>\n",
       "    <tr style=\"text-align: right;\">\n",
       "      <th></th>\n",
       "      <th>Job Title</th>\n",
       "      <th>Job Location</th>\n",
       "      <th>Company Name</th>\n",
       "      <th>Experience Required</th>\n",
       "    </tr>\n",
       "  </thead>\n",
       "  <tbody>\n",
       "    <tr>\n",
       "      <th>0</th>\n",
       "      <td>Job||Job Opening For AI Technologist - Data Sc...</td>\n",
       "      <td>New Delhi, Hyderabad/Secunderabad, Pune, Chenn...</td>\n",
       "      <td>Wipro</td>\n",
       "      <td>5-10 Yrs</td>\n",
       "    </tr>\n",
       "    <tr>\n",
       "      <th>1</th>\n",
       "      <td>Data Scientist - Noida/Bangalore</td>\n",
       "      <td>Noida, Bangalore/Bengaluru</td>\n",
       "      <td>EXL</td>\n",
       "      <td>5-10 Yrs</td>\n",
       "    </tr>\n",
       "    <tr>\n",
       "      <th>2</th>\n",
       "      <td>DigitalBCG GAMMA Data Scientist</td>\n",
       "      <td>New Delhi, Bangalore/Bengaluru</td>\n",
       "      <td>Boston Consulting Group</td>\n",
       "      <td>2-5 Yrs</td>\n",
       "    </tr>\n",
       "    <tr>\n",
       "      <th>3</th>\n",
       "      <td>Data Scientist</td>\n",
       "      <td>Gurgaon/Gurugram</td>\n",
       "      <td>Optum</td>\n",
       "      <td>2-7 Yrs</td>\n",
       "    </tr>\n",
       "    <tr>\n",
       "      <th>4</th>\n",
       "      <td>Data Scientist - Predictive Analytics</td>\n",
       "      <td>Noida, Mumbai, Chandigarh, Hyderabad/Secundera...</td>\n",
       "      <td>Confidential</td>\n",
       "      <td>1-6 Yrs</td>\n",
       "    </tr>\n",
       "    <tr>\n",
       "      <th>5</th>\n",
       "      <td>Chat-bot Developer / Data Scientist</td>\n",
       "      <td>Mumbai, New Delhi, Bangalore/Bengaluru\\n(WFH d...</td>\n",
       "      <td>Big Seo Buzz</td>\n",
       "      <td>2-7 Yrs</td>\n",
       "    </tr>\n",
       "    <tr>\n",
       "      <th>6</th>\n",
       "      <td>Data Scientist / Chat-bot Developer</td>\n",
       "      <td>New Delhi, Bangalore/Bengaluru, Mumbai (All Ar...</td>\n",
       "      <td>Big Seo Buzz</td>\n",
       "      <td>3-7 Yrs</td>\n",
       "    </tr>\n",
       "    <tr>\n",
       "      <th>7</th>\n",
       "      <td>Data Scientist - Engine Algorithm</td>\n",
       "      <td>Kolkata, Mumbai, Hyderabad/Secunderabad, Luckn...</td>\n",
       "      <td>Primo Hiring</td>\n",
       "      <td>1-3 Yrs</td>\n",
       "    </tr>\n",
       "    <tr>\n",
       "      <th>8</th>\n",
       "      <td>Data Scientist For Healthcare Product team</td>\n",
       "      <td>Chennai, Bangalore/Bengaluru, Delhi / NCR</td>\n",
       "      <td>SECUREKLOUD TECHNOLOGIES</td>\n",
       "      <td>2-7 Yrs</td>\n",
       "    </tr>\n",
       "    <tr>\n",
       "      <th>9</th>\n",
       "      <td>data science analyst</td>\n",
       "      <td>Bangalore/Bengaluru</td>\n",
       "      <td>CRED</td>\n",
       "      <td>1-3 Yrs</td>\n",
       "    </tr>\n",
       "  </tbody>\n",
       "</table>\n",
       "</div>"
      ],
      "text/plain": [
       "                                           Job Title  \\\n",
       "0  Job||Job Opening For AI Technologist - Data Sc...   \n",
       "1                   Data Scientist - Noida/Bangalore   \n",
       "2                    DigitalBCG GAMMA Data Scientist   \n",
       "3                                     Data Scientist   \n",
       "4              Data Scientist - Predictive Analytics   \n",
       "5                Chat-bot Developer / Data Scientist   \n",
       "6                Data Scientist / Chat-bot Developer   \n",
       "7                  Data Scientist - Engine Algorithm   \n",
       "8         Data Scientist For Healthcare Product team   \n",
       "9                               data science analyst   \n",
       "\n",
       "                                        Job Location  \\\n",
       "0  New Delhi, Hyderabad/Secunderabad, Pune, Chenn...   \n",
       "1                         Noida, Bangalore/Bengaluru   \n",
       "2                     New Delhi, Bangalore/Bengaluru   \n",
       "3                                   Gurgaon/Gurugram   \n",
       "4  Noida, Mumbai, Chandigarh, Hyderabad/Secundera...   \n",
       "5  Mumbai, New Delhi, Bangalore/Bengaluru\\n(WFH d...   \n",
       "6  New Delhi, Bangalore/Bengaluru, Mumbai (All Ar...   \n",
       "7  Kolkata, Mumbai, Hyderabad/Secunderabad, Luckn...   \n",
       "8          Chennai, Bangalore/Bengaluru, Delhi / NCR   \n",
       "9                                Bangalore/Bengaluru   \n",
       "\n",
       "               Company Name Experience Required  \n",
       "0                     Wipro            5-10 Yrs  \n",
       "1                       EXL            5-10 Yrs  \n",
       "2   Boston Consulting Group             2-5 Yrs  \n",
       "3                     Optum             2-7 Yrs  \n",
       "4              Confidential             1-6 Yrs  \n",
       "5              Big Seo Buzz             2-7 Yrs  \n",
       "6              Big Seo Buzz             3-7 Yrs  \n",
       "7              Primo Hiring             1-3 Yrs  \n",
       "8  SECUREKLOUD TECHNOLOGIES             2-7 Yrs  \n",
       "9                      CRED             1-3 Yrs  "
      ]
     },
     "execution_count": 79,
     "metadata": {},
     "output_type": "execute_result"
    }
   ],
   "source": [
    "df=pd.DataFrame({'Job Title':job_title,'Job Location':job_location,'Company Name':company_name,'Experience Required':experience_required})\n",
    "df"
   ]
  },
  {
   "cell_type": "code",
   "execution_count": null,
   "id": "56eb1e09",
   "metadata": {},
   "outputs": [],
   "source": []
  },
  {
   "cell_type": "markdown",
   "id": "02173af5",
   "metadata": {},
   "source": [
    "\n",
    "Q4. Data of first 100 sunglasses listings on flipkart.com\n"
   ]
  },
  {
   "cell_type": "code",
   "execution_count": 80,
   "id": "ae820660",
   "metadata": {},
   "outputs": [],
   "source": [
    "driver=webdriver.Chrome(r\"chromedriver.exe\")\n"
   ]
  },
  {
   "cell_type": "code",
   "execution_count": 81,
   "id": "06b68937",
   "metadata": {},
   "outputs": [],
   "source": [
    "driver.get(\"http://www.flipkart.com/\")\n"
   ]
  },
  {
   "cell_type": "code",
   "execution_count": 82,
   "id": "b4ac9052",
   "metadata": {},
   "outputs": [],
   "source": [
    "cross=driver.find_element(By.XPATH,\"/html/body/div[2]/div/div/button\")\n",
    "cross.click()"
   ]
  },
  {
   "cell_type": "code",
   "execution_count": 83,
   "id": "6652e7a3",
   "metadata": {},
   "outputs": [],
   "source": [
    "product=driver.find_element(By.XPATH,\"/html/body/div[1]/div/div[1]/div[1]/div[2]/div[2]/form/div/div/input\")\n",
    "product.send_keys('sunglasses')"
   ]
  },
  {
   "cell_type": "code",
   "execution_count": 84,
   "id": "af18b797",
   "metadata": {},
   "outputs": [],
   "source": [
    "search=driver.find_element(By.CLASS_NAME,\"L0Z3Pu\")\n",
    "search.click()"
   ]
  },
  {
   "cell_type": "code",
   "execution_count": 85,
   "id": "5e9638c8",
   "metadata": {},
   "outputs": [],
   "source": [
    "brand=[]\n",
    "price=[]\n",
    "product_description=[]"
   ]
  },
  {
   "cell_type": "code",
   "execution_count": 86,
   "id": "32a6c0a4",
   "metadata": {},
   "outputs": [],
   "source": [
    "brand_tags=driver.find_elements(By.XPATH,'//div[@class=\"_2WkVRV\"]')\n",
    "for i in brand_tags[0:100]:\n",
    "    bd=i.text\n",
    "    brand.append(bd)"
   ]
  },
  {
   "cell_type": "code",
   "execution_count": 87,
   "id": "9df77bc4",
   "metadata": {},
   "outputs": [],
   "source": [
    "price_tags=driver.find_elements(By.XPATH,'//div[@class=\"_30jeq3\"]')\n",
    "for i in price_tags[0:100]:\n",
    "    PR=i.text\n",
    "    price.append(PR)"
   ]
  },
  {
   "cell_type": "code",
   "execution_count": 88,
   "id": "f6fbfe59",
   "metadata": {},
   "outputs": [],
   "source": [
    "df=pd.DataFrame({'Brand':brand,\"Price\":price})\n"
   ]
  },
  {
   "cell_type": "markdown",
   "id": "ca8232c0",
   "metadata": {},
   "source": [
    "# Q5. Scrape 100 reviews data from flipkart.com for iphone11 phone\n"
   ]
  },
  {
   "cell_type": "code",
   "execution_count": 101,
   "id": "c610abf8",
   "metadata": {},
   "outputs": [],
   "source": [
    "driver=webdriver.Chrome(r\"chromedriver.exe\")\n"
   ]
  },
  {
   "cell_type": "code",
   "execution_count": 102,
   "id": "e1ea7653",
   "metadata": {},
   "outputs": [],
   "source": [
    "driver.get(\"http://www.flipkart.com/\")\n"
   ]
  },
  {
   "cell_type": "code",
   "execution_count": 103,
   "id": "4ba98287",
   "metadata": {},
   "outputs": [],
   "source": [
    "cross=driver.find_element(By.XPATH,\"/html/body/div[2]/div/div/button\")\n",
    "cross.click()"
   ]
  },
  {
   "cell_type": "code",
   "execution_count": 104,
   "id": "5bc4ed45",
   "metadata": {},
   "outputs": [],
   "source": [
    "product=driver.find_element(By.XPATH,\"/html/body/div[1]/div/div[1]/div[1]/div[2]/div[2]/form/div/div/input\")\n",
    "product.send_keys('iphone11')"
   ]
  },
  {
   "cell_type": "code",
   "execution_count": 105,
   "id": "b61b8496",
   "metadata": {},
   "outputs": [],
   "source": [
    "search=driver.find_element(By.CLASS_NAME,\"L0Z3Pu\")\n",
    "search.click()"
   ]
  },
  {
   "cell_type": "code",
   "execution_count": 106,
   "id": "5def3fed",
   "metadata": {},
   "outputs": [],
   "source": [
    "product=driver.find_element(By.CLASS_NAME,\"_4rR01T\")\n",
    "product.click()"
   ]
  },
  {
   "cell_type": "code",
   "execution_count": 107,
   "id": "854d4c02",
   "metadata": {},
   "outputs": [],
   "source": [
    "rating=[]\n",
    "review_summary=[]\n",
    "full_review=[]"
   ]
  },
  {
   "cell_type": "code",
   "execution_count": 108,
   "id": "0f094e4a",
   "metadata": {},
   "outputs": [],
   "source": [
    "rating_tags=driver.find_elements(By.XPATH,'//div[@class=\"_3LWZlK _1BLPMq\"]')\n",
    "for i in rating_tags[0:5]:\n",
    "    RA=i.text\n",
    "    rating.append(RA)"
   ]
  },
  {
   "cell_type": "code",
   "execution_count": 109,
   "id": "6aa261df",
   "metadata": {},
   "outputs": [],
   "source": [
    "review_tags=driver.find_elements(By.XPATH,'//p[@class=\"_2-N8zT\"]')\n",
    "for i in review_tags[0:5]:\n",
    "    RE=i.text\n",
    "    review_summary.append(RE)"
   ]
  },
  {
   "cell_type": "code",
   "execution_count": 110,
   "id": "dbb5a1a9",
   "metadata": {},
   "outputs": [],
   "source": [
    "reviewfull_tags=driver.find_elements(By.XPATH,'//div[@class=\"t-ZTKy\"]')\n",
    "for i in reviewfull_tags[0:5]:\n",
    "    RS=i.text\n",
    "    full_review.append(RS)"
   ]
  },
  {
   "cell_type": "code",
   "execution_count": 111,
   "id": "fe432ef4",
   "metadata": {},
   "outputs": [
    {
     "name": "stdout",
     "output_type": "stream",
     "text": [
      "0 0 0\n"
     ]
    }
   ],
   "source": [
    "print(len(rating), len(review_summary),len(full_review))\n"
   ]
  },
  {
   "cell_type": "code",
   "execution_count": 112,
   "id": "048841e0",
   "metadata": {},
   "outputs": [
    {
     "data": {
      "text/html": [
       "<div>\n",
       "<style scoped>\n",
       "    .dataframe tbody tr th:only-of-type {\n",
       "        vertical-align: middle;\n",
       "    }\n",
       "\n",
       "    .dataframe tbody tr th {\n",
       "        vertical-align: top;\n",
       "    }\n",
       "\n",
       "    .dataframe thead th {\n",
       "        text-align: right;\n",
       "    }\n",
       "</style>\n",
       "<table border=\"1\" class=\"dataframe\">\n",
       "  <thead>\n",
       "    <tr style=\"text-align: right;\">\n",
       "      <th></th>\n",
       "      <th>Rating</th>\n",
       "      <th>Review Summary</th>\n",
       "      <th>Full Review</th>\n",
       "    </tr>\n",
       "  </thead>\n",
       "  <tbody>\n",
       "  </tbody>\n",
       "</table>\n",
       "</div>"
      ],
      "text/plain": [
       "Empty DataFrame\n",
       "Columns: [Rating, Review Summary, Full Review]\n",
       "Index: []"
      ]
     },
     "execution_count": 112,
     "metadata": {},
     "output_type": "execute_result"
    }
   ],
   "source": [
    "df=pd.DataFrame({'Rating':rating,'Review Summary':review_summary,'Full Review':full_review})\n",
    "df"
   ]
  },
  {
   "cell_type": "code",
   "execution_count": null,
   "id": "a83cfce1",
   "metadata": {},
   "outputs": [],
   "source": []
  },
  {
   "cell_type": "markdown",
   "id": "c9d8ca8c",
   "metadata": {},
   "source": [
    "# Q6. Scrape data for first 100 sneakers you find when you visit flipkart.com and search for “sneakers”\n"
   ]
  },
  {
   "cell_type": "code",
   "execution_count": 159,
   "id": "66047d77",
   "metadata": {},
   "outputs": [],
   "source": [
    "driver=webdriver.Chrome(r\"chromedriver.exe\")\n"
   ]
  },
  {
   "cell_type": "code",
   "execution_count": 160,
   "id": "9b1f2e44",
   "metadata": {},
   "outputs": [],
   "source": [
    "driver.get(\"https://www.flipkart.com/\")\n"
   ]
  },
  {
   "cell_type": "code",
   "execution_count": 161,
   "id": "89318062",
   "metadata": {},
   "outputs": [],
   "source": [
    "\n",
    "cross=driver.find_element(By.XPATH,\"/html/body/div[2]/div/div/button\")\n",
    "cross.click()"
   ]
  },
  {
   "cell_type": "code",
   "execution_count": 162,
   "id": "733d08ce",
   "metadata": {},
   "outputs": [],
   "source": [
    "product=driver.find_element(By.XPATH,\"/html/body/div[1]/div/div[1]/div[1]/div[2]/div[2]/form/div/div/input\")\n",
    "product.send_keys('Sneakers')"
   ]
  },
  {
   "cell_type": "code",
   "execution_count": 163,
   "id": "8aabf887",
   "metadata": {},
   "outputs": [],
   "source": [
    "search=driver.find_element(By.CLASS_NAME,\"L0Z3Pu\")\n",
    "search.click()"
   ]
  },
  {
   "cell_type": "code",
   "execution_count": 164,
   "id": "88756c25",
   "metadata": {},
   "outputs": [],
   "source": [
    "brand=[]\n",
    "price=[]\n",
    "product_description=[]"
   ]
  },
  {
   "cell_type": "code",
   "execution_count": 165,
   "id": "4df96c84",
   "metadata": {},
   "outputs": [],
   "source": [
    "brand_tags=driver.find_elements(By.XPATH,'//div[@class=\"_2WkVRV\"]')\n",
    "for i in brand_tags[0:100]:\n",
    "    bd=i.text\n",
    "    brand.append(bd)"
   ]
  },
  {
   "cell_type": "code",
   "execution_count": 166,
   "id": "5ee51397",
   "metadata": {},
   "outputs": [],
   "source": [
    "price_tags=driver.find_elements(By.XPATH,'//div[@class=\"_30jeq3\"]')\n",
    "for i in price_tags[0:100]:\n",
    "    PR=i.text\n",
    "    price.append(PR)"
   ]
  },
  {
   "cell_type": "code",
   "execution_count": 167,
   "id": "3f344b6f",
   "metadata": {},
   "outputs": [],
   "source": [
    "product_tags=driver.find_elements(By.XPATH,'//a[@class=\"IRpwTa _2-ICcC\"]')\n",
    "for i in product_tags[0:100]:\n",
    "    PD=i.text\n",
    "    product_description.append(PD)"
   ]
  },
  {
   "cell_type": "code",
   "execution_count": 168,
   "id": "57e017ba",
   "metadata": {},
   "outputs": [
    {
     "name": "stdout",
     "output_type": "stream",
     "text": [
      "40 40 5\n"
     ]
    }
   ],
   "source": [
    "print(len(brand),len(price),len(product_description))\n"
   ]
  },
  {
   "cell_type": "code",
   "execution_count": null,
   "id": "537d7523",
   "metadata": {},
   "outputs": [],
   "source": [
    "df=pd.DataFrame({'Brand':brand,\"Price\":price, \"Product Description\":product_description})\n",
    "df"
   ]
  },
  {
   "cell_type": "code",
   "execution_count": null,
   "id": "cef70042",
   "metadata": {},
   "outputs": [],
   "source": []
  },
  {
   "cell_type": "markdown",
   "id": "13e40911",
   "metadata": {},
   "source": [
    "# Q7. Scraping the first 100 shoes data\n"
   ]
  },
  {
   "cell_type": "code",
   "execution_count": 149,
   "id": "d4deecc7",
   "metadata": {},
   "outputs": [],
   "source": [
    "driver=webdriver.Chrome(r\"chromedriver.exe\")\n"
   ]
  },
  {
   "cell_type": "code",
   "execution_count": 150,
   "id": "4aa8c063",
   "metadata": {},
   "outputs": [],
   "source": [
    "driver.get(\"https://www.myntra.com/shoes\")\n"
   ]
  },
  {
   "cell_type": "code",
   "execution_count": 151,
   "id": "3b8e961c",
   "metadata": {},
   "outputs": [],
   "source": [
    "price=driver.find_element(By.XPATH,\"/html/body/div[2]/div/div[1]/main/div[3]/div[1]/section/div/div[5]/ul/li[2]/label\")\n",
    "price.click()"
   ]
  },
  {
   "cell_type": "code",
   "execution_count": 152,
   "id": "47089739",
   "metadata": {},
   "outputs": [],
   "source": [
    "colour=driver.find_element(By.XPATH,\"/html/body/div[2]/div/div[1]/main/div[3]/div[1]/section/div/div[6]/ul/li[1]/label/span[1]\")\n",
    "colour.click()"
   ]
  },
  {
   "cell_type": "code",
   "execution_count": 153,
   "id": "f0b1f584",
   "metadata": {},
   "outputs": [],
   "source": [
    "brand=[]\n",
    "price=[]\n",
    "product_description=[]\n"
   ]
  },
  {
   "cell_type": "code",
   "execution_count": 154,
   "id": "976280c8",
   "metadata": {},
   "outputs": [],
   "source": [
    "brand_tags=driver.find_elements(By.XPATH,'//h3[@class=\"product-brand\"]')\n",
    "for i in brand_tags[0:100]:\n",
    "    bd=i.text\n",
    "    brand.append(bd)"
   ]
  },
  {
   "cell_type": "code",
   "execution_count": 155,
   "id": "f38ce4be",
   "metadata": {},
   "outputs": [],
   "source": [
    "price_tags=driver.find_elements(By.XPATH,'//div[@class=\"product-price\"]')\n",
    "for i in price_tags[0:100]:\n",
    "    PR=i.text\n",
    "    price.append(PR)"
   ]
  },
  {
   "cell_type": "code",
   "execution_count": 156,
   "id": "1a8b572b",
   "metadata": {},
   "outputs": [],
   "source": [
    "product_tags=driver.find_elements(By.XPATH,'//h4[@class=\"product-product\"]')\n",
    "for i in product_tags[0:100]:\n",
    "    PD=i.text\n",
    "    product_description.append(PD)"
   ]
  },
  {
   "cell_type": "code",
   "execution_count": 157,
   "id": "77227d7e",
   "metadata": {},
   "outputs": [
    {
     "name": "stdout",
     "output_type": "stream",
     "text": [
      "50 50 50\n"
     ]
    }
   ],
   "source": [
    "print(len(brand),len(price),len(product_description))\n"
   ]
  },
  {
   "cell_type": "code",
   "execution_count": 158,
   "id": "503dd514",
   "metadata": {},
   "outputs": [
    {
     "data": {
      "text/html": [
       "<div>\n",
       "<style scoped>\n",
       "    .dataframe tbody tr th:only-of-type {\n",
       "        vertical-align: middle;\n",
       "    }\n",
       "\n",
       "    .dataframe tbody tr th {\n",
       "        vertical-align: top;\n",
       "    }\n",
       "\n",
       "    .dataframe thead th {\n",
       "        text-align: right;\n",
       "    }\n",
       "</style>\n",
       "<table border=\"1\" class=\"dataframe\">\n",
       "  <thead>\n",
       "    <tr style=\"text-align: right;\">\n",
       "      <th></th>\n",
       "      <th>Brand</th>\n",
       "      <th>Price</th>\n",
       "      <th>Product Description</th>\n",
       "    </tr>\n",
       "  </thead>\n",
       "  <tbody>\n",
       "    <tr>\n",
       "      <th>0</th>\n",
       "      <td>Nike</td>\n",
       "      <td>Rs. 7465Rs. 8295(10% OFF)</td>\n",
       "      <td>Men ZOOM WINFLO8 Running Shoes</td>\n",
       "    </tr>\n",
       "    <tr>\n",
       "      <th>1</th>\n",
       "      <td>Skechers</td>\n",
       "      <td>Rs. 7199Rs. 8999(20% OFF)</td>\n",
       "      <td>Men Max Cushioning Running</td>\n",
       "    </tr>\n",
       "    <tr>\n",
       "      <th>2</th>\n",
       "      <td>Nike</td>\n",
       "      <td>Rs. 11895Rs. 13995(15% OFF)</td>\n",
       "      <td>Men React Infinity 3 Running</td>\n",
       "    </tr>\n",
       "    <tr>\n",
       "      <th>3</th>\n",
       "      <td>Nike</td>\n",
       "      <td>Rs. 10795</td>\n",
       "      <td>Men Colourblocked Sneakers</td>\n",
       "    </tr>\n",
       "    <tr>\n",
       "      <th>4</th>\n",
       "      <td>Skechers</td>\n",
       "      <td>Rs. 7199Rs. 8999(20% OFF)</td>\n",
       "      <td>Men Max Cushioning Running</td>\n",
       "    </tr>\n",
       "    <tr>\n",
       "      <th>5</th>\n",
       "      <td>Puma</td>\n",
       "      <td>Rs. 8999</td>\n",
       "      <td>Women UltraRide Running Shoes</td>\n",
       "    </tr>\n",
       "    <tr>\n",
       "      <th>6</th>\n",
       "      <td>ADIDAS Originals</td>\n",
       "      <td>Rs. 9899Rs. 10999(10% OFF)</td>\n",
       "      <td>Men Niteball II Sneakers</td>\n",
       "    </tr>\n",
       "    <tr>\n",
       "      <th>7</th>\n",
       "      <td>Nike</td>\n",
       "      <td>Rs. 12795</td>\n",
       "      <td>Men JORDAN LOW Basketball Shoe</td>\n",
       "    </tr>\n",
       "    <tr>\n",
       "      <th>8</th>\n",
       "      <td>Nike</td>\n",
       "      <td>Rs. 8005Rs. 8895(10% OFF)</td>\n",
       "      <td>Men SRG 3 FK Training Shoes</td>\n",
       "    </tr>\n",
       "    <tr>\n",
       "      <th>9</th>\n",
       "      <td>Puma</td>\n",
       "      <td>Rs. 9749Rs. 12999(25% OFF)</td>\n",
       "      <td>Eternity Nitro Running Shoes</td>\n",
       "    </tr>\n",
       "    <tr>\n",
       "      <th>10</th>\n",
       "      <td>Nike</td>\n",
       "      <td>Rs. 7915Rs. 8795(10% OFF)</td>\n",
       "      <td>Air Max Axis Sneakers</td>\n",
       "    </tr>\n",
       "    <tr>\n",
       "      <th>11</th>\n",
       "      <td>ADIDAS</td>\n",
       "      <td>Rs. 6719Rs. 13999(52% OFF)</td>\n",
       "      <td>Women X9000 H.RDY Running</td>\n",
       "    </tr>\n",
       "    <tr>\n",
       "      <th>12</th>\n",
       "      <td>ADIDAS</td>\n",
       "      <td>Rs. 8499Rs. 9999(15% OFF)</td>\n",
       "      <td>Men Defiant Generation Tennis</td>\n",
       "    </tr>\n",
       "    <tr>\n",
       "      <th>13</th>\n",
       "      <td>Hush Puppies</td>\n",
       "      <td>Rs. 7649Rs. 8999(15% OFF)</td>\n",
       "      <td>Men Solid Leather Formal Slip-Ons</td>\n",
       "    </tr>\n",
       "    <tr>\n",
       "      <th>14</th>\n",
       "      <td>ADIDAS</td>\n",
       "      <td>Rs. 11999Rs. 14999(20% OFF)</td>\n",
       "      <td>Men Solar Glide 4 ST Running</td>\n",
       "    </tr>\n",
       "    <tr>\n",
       "      <th>15</th>\n",
       "      <td>Puma</td>\n",
       "      <td>Rs. 6749Rs. 8999(25% OFF)</td>\n",
       "      <td>Unisex Wild Rider Sneakers</td>\n",
       "    </tr>\n",
       "    <tr>\n",
       "      <th>16</th>\n",
       "      <td>Nike</td>\n",
       "      <td>Rs. 7495</td>\n",
       "      <td>Men Running Shoes</td>\n",
       "    </tr>\n",
       "    <tr>\n",
       "      <th>17</th>\n",
       "      <td>ADIDAS</td>\n",
       "      <td>Rs. 9999</td>\n",
       "      <td>Men Supernova 2 Running Shoes</td>\n",
       "    </tr>\n",
       "    <tr>\n",
       "      <th>18</th>\n",
       "      <td>Skechers</td>\n",
       "      <td>Rs. 7124Rs. 9499(25% OFF)</td>\n",
       "      <td>Men ENIGMA Running Shoes</td>\n",
       "    </tr>\n",
       "    <tr>\n",
       "      <th>19</th>\n",
       "      <td>UNDER ARMOUR</td>\n",
       "      <td>Rs. 10999</td>\n",
       "      <td>Unisex Curry Basketball Shoes</td>\n",
       "    </tr>\n",
       "    <tr>\n",
       "      <th>20</th>\n",
       "      <td>Nike</td>\n",
       "      <td>Rs. 7465Rs. 8295(10% OFF)</td>\n",
       "      <td>Women Running Shoes</td>\n",
       "    </tr>\n",
       "    <tr>\n",
       "      <th>21</th>\n",
       "      <td>Nike</td>\n",
       "      <td>Rs. 8295</td>\n",
       "      <td>Unisex Lebron V Basketball</td>\n",
       "    </tr>\n",
       "    <tr>\n",
       "      <th>22</th>\n",
       "      <td>Hush Puppies</td>\n",
       "      <td>Rs. 8499Rs. 9999(15% OFF)</td>\n",
       "      <td>Men Solid Leather Formal Slip-Ons</td>\n",
       "    </tr>\n",
       "    <tr>\n",
       "      <th>23</th>\n",
       "      <td>ADIDAS</td>\n",
       "      <td>Rs. 7999</td>\n",
       "      <td>Women Eastrail 2 Hiking Shoes</td>\n",
       "    </tr>\n",
       "    <tr>\n",
       "      <th>24</th>\n",
       "      <td>Puma</td>\n",
       "      <td>Rs. 12999</td>\n",
       "      <td>Men M Nitro Running Shoess</td>\n",
       "    </tr>\n",
       "    <tr>\n",
       "      <th>25</th>\n",
       "      <td>Puma</td>\n",
       "      <td>Rs. 9999</td>\n",
       "      <td>Women Liberate NITRO Running</td>\n",
       "    </tr>\n",
       "    <tr>\n",
       "      <th>26</th>\n",
       "      <td>Nike</td>\n",
       "      <td>Rs. 7465Rs. 8295(10% OFF)</td>\n",
       "      <td>Men Air Max Sneakers</td>\n",
       "    </tr>\n",
       "    <tr>\n",
       "      <th>27</th>\n",
       "      <td>Puma</td>\n",
       "      <td>Rs. 9999</td>\n",
       "      <td>Electrify Nitro Running Shoes</td>\n",
       "    </tr>\n",
       "    <tr>\n",
       "      <th>28</th>\n",
       "      <td>ADIDAS</td>\n",
       "      <td>Rs. 9999</td>\n",
       "      <td>Women Supernova Running Shoes</td>\n",
       "    </tr>\n",
       "    <tr>\n",
       "      <th>29</th>\n",
       "      <td>Nike</td>\n",
       "      <td>Rs. 10495</td>\n",
       "      <td>Men REACT MILER 3 Running Shoe</td>\n",
       "    </tr>\n",
       "    <tr>\n",
       "      <th>30</th>\n",
       "      <td>ASICS</td>\n",
       "      <td>Rs. 8399Rs. 13999(40% OFF)</td>\n",
       "      <td>Men GEL-Quantum 360 6 Sports</td>\n",
       "    </tr>\n",
       "    <tr>\n",
       "      <th>31</th>\n",
       "      <td>ADIDAS Originals</td>\n",
       "      <td>Rs. 11999</td>\n",
       "      <td>Men Solid Oznova Sneakers</td>\n",
       "    </tr>\n",
       "    <tr>\n",
       "      <th>32</th>\n",
       "      <td>Nike</td>\n",
       "      <td>Rs. 6795</td>\n",
       "      <td>Women Air Max Bella Training</td>\n",
       "    </tr>\n",
       "    <tr>\n",
       "      <th>33</th>\n",
       "      <td>UNDER ARMOUR</td>\n",
       "      <td>Rs. 9999</td>\n",
       "      <td>Men HOVR Sonic SE Running Shoe</td>\n",
       "    </tr>\n",
       "    <tr>\n",
       "      <th>34</th>\n",
       "      <td>UNDER ARMOUR</td>\n",
       "      <td>Rs. 6999</td>\n",
       "      <td>Men Lockdown 5 Basketball</td>\n",
       "    </tr>\n",
       "    <tr>\n",
       "      <th>35</th>\n",
       "      <td>Puma</td>\n",
       "      <td>Rs. 10999</td>\n",
       "      <td>Men Velocity Nitro 2 Running</td>\n",
       "    </tr>\n",
       "    <tr>\n",
       "      <th>36</th>\n",
       "      <td>PUMA Hoops</td>\n",
       "      <td>Rs. 8249Rs. 10999(25% OFF)</td>\n",
       "      <td>Fives Blaze Court Basketball</td>\n",
       "    </tr>\n",
       "    <tr>\n",
       "      <th>37</th>\n",
       "      <td>Puma</td>\n",
       "      <td>Rs. 6999</td>\n",
       "      <td>Women Enlighten Shoes</td>\n",
       "    </tr>\n",
       "    <tr>\n",
       "      <th>38</th>\n",
       "      <td>Hush Puppies</td>\n",
       "      <td>Rs. 7999Rs. 9999(20% OFF)</td>\n",
       "      <td>Men Solid Formal Slip-Ons</td>\n",
       "    </tr>\n",
       "    <tr>\n",
       "      <th>39</th>\n",
       "      <td>Nike</td>\n",
       "      <td>Rs. 8725Rs. 9695(10% OFF)</td>\n",
       "      <td>Men FREE RUN 2 Sneakers</td>\n",
       "    </tr>\n",
       "    <tr>\n",
       "      <th>40</th>\n",
       "      <td>ADIDAS Originals</td>\n",
       "      <td>Rs. 11899Rs. 13999(15% OFF)</td>\n",
       "      <td>Men Woven NMD_31 Sneakers</td>\n",
       "    </tr>\n",
       "    <tr>\n",
       "      <th>41</th>\n",
       "      <td>Puma</td>\n",
       "      <td>Rs. 7199Rs. 8999(20% OFF)</td>\n",
       "      <td>Unisex Eliminate Pro II Shoes</td>\n",
       "    </tr>\n",
       "    <tr>\n",
       "      <th>42</th>\n",
       "      <td>ROSSO BRUNELLO</td>\n",
       "      <td>Rs. 12999</td>\n",
       "      <td>Men Printed Leather Monks</td>\n",
       "    </tr>\n",
       "    <tr>\n",
       "      <th>43</th>\n",
       "      <td>Tommy Hilfiger</td>\n",
       "      <td>Rs. 6799Rs. 7999(15% OFF)</td>\n",
       "      <td>Men Sneakers</td>\n",
       "    </tr>\n",
       "    <tr>\n",
       "      <th>44</th>\n",
       "      <td>ADIDAS Originals</td>\n",
       "      <td>Rs. 11049Rs. 12999(15% OFF)</td>\n",
       "      <td>Men Ozrah Leather Sneakers</td>\n",
       "    </tr>\n",
       "    <tr>\n",
       "      <th>45</th>\n",
       "      <td>ADIDAS</td>\n",
       "      <td>Rs. 10199Rs. 11999(15% OFF)</td>\n",
       "      <td>Men Adizero Adios 7 Running</td>\n",
       "    </tr>\n",
       "    <tr>\n",
       "      <th>46</th>\n",
       "      <td>Puma</td>\n",
       "      <td>Rs. 9749Rs. 12999(25% OFF)</td>\n",
       "      <td>Women Eternity NITRO Shoes</td>\n",
       "    </tr>\n",
       "    <tr>\n",
       "      <th>47</th>\n",
       "      <td>Puma</td>\n",
       "      <td>Rs. 7199Rs. 11999(40% OFF)</td>\n",
       "      <td>Men KING Top Football Shoes</td>\n",
       "    </tr>\n",
       "    <tr>\n",
       "      <th>48</th>\n",
       "      <td>ADIDAS</td>\n",
       "      <td>Rs. 12999</td>\n",
       "      <td>Men Dropset Training Shoes</td>\n",
       "    </tr>\n",
       "    <tr>\n",
       "      <th>49</th>\n",
       "      <td>GABICCI</td>\n",
       "      <td>Rs. 7450</td>\n",
       "      <td>Men Textured Leather Loafers</td>\n",
       "    </tr>\n",
       "  </tbody>\n",
       "</table>\n",
       "</div>"
      ],
      "text/plain": [
       "               Brand                        Price  \\\n",
       "0               Nike    Rs. 7465Rs. 8295(10% OFF)   \n",
       "1           Skechers    Rs. 7199Rs. 8999(20% OFF)   \n",
       "2               Nike  Rs. 11895Rs. 13995(15% OFF)   \n",
       "3               Nike                    Rs. 10795   \n",
       "4           Skechers    Rs. 7199Rs. 8999(20% OFF)   \n",
       "5               Puma                     Rs. 8999   \n",
       "6   ADIDAS Originals   Rs. 9899Rs. 10999(10% OFF)   \n",
       "7               Nike                    Rs. 12795   \n",
       "8               Nike    Rs. 8005Rs. 8895(10% OFF)   \n",
       "9               Puma   Rs. 9749Rs. 12999(25% OFF)   \n",
       "10              Nike    Rs. 7915Rs. 8795(10% OFF)   \n",
       "11            ADIDAS   Rs. 6719Rs. 13999(52% OFF)   \n",
       "12            ADIDAS    Rs. 8499Rs. 9999(15% OFF)   \n",
       "13      Hush Puppies    Rs. 7649Rs. 8999(15% OFF)   \n",
       "14            ADIDAS  Rs. 11999Rs. 14999(20% OFF)   \n",
       "15              Puma    Rs. 6749Rs. 8999(25% OFF)   \n",
       "16              Nike                     Rs. 7495   \n",
       "17            ADIDAS                     Rs. 9999   \n",
       "18          Skechers    Rs. 7124Rs. 9499(25% OFF)   \n",
       "19      UNDER ARMOUR                    Rs. 10999   \n",
       "20              Nike    Rs. 7465Rs. 8295(10% OFF)   \n",
       "21              Nike                     Rs. 8295   \n",
       "22      Hush Puppies    Rs. 8499Rs. 9999(15% OFF)   \n",
       "23            ADIDAS                     Rs. 7999   \n",
       "24              Puma                    Rs. 12999   \n",
       "25              Puma                     Rs. 9999   \n",
       "26              Nike    Rs. 7465Rs. 8295(10% OFF)   \n",
       "27              Puma                     Rs. 9999   \n",
       "28            ADIDAS                     Rs. 9999   \n",
       "29              Nike                    Rs. 10495   \n",
       "30             ASICS   Rs. 8399Rs. 13999(40% OFF)   \n",
       "31  ADIDAS Originals                    Rs. 11999   \n",
       "32              Nike                     Rs. 6795   \n",
       "33      UNDER ARMOUR                     Rs. 9999   \n",
       "34      UNDER ARMOUR                     Rs. 6999   \n",
       "35              Puma                    Rs. 10999   \n",
       "36        PUMA Hoops   Rs. 8249Rs. 10999(25% OFF)   \n",
       "37              Puma                     Rs. 6999   \n",
       "38      Hush Puppies    Rs. 7999Rs. 9999(20% OFF)   \n",
       "39              Nike    Rs. 8725Rs. 9695(10% OFF)   \n",
       "40  ADIDAS Originals  Rs. 11899Rs. 13999(15% OFF)   \n",
       "41              Puma    Rs. 7199Rs. 8999(20% OFF)   \n",
       "42    ROSSO BRUNELLO                    Rs. 12999   \n",
       "43    Tommy Hilfiger    Rs. 6799Rs. 7999(15% OFF)   \n",
       "44  ADIDAS Originals  Rs. 11049Rs. 12999(15% OFF)   \n",
       "45            ADIDAS  Rs. 10199Rs. 11999(15% OFF)   \n",
       "46              Puma   Rs. 9749Rs. 12999(25% OFF)   \n",
       "47              Puma   Rs. 7199Rs. 11999(40% OFF)   \n",
       "48            ADIDAS                    Rs. 12999   \n",
       "49           GABICCI                     Rs. 7450   \n",
       "\n",
       "                  Product Description  \n",
       "0      Men ZOOM WINFLO8 Running Shoes  \n",
       "1          Men Max Cushioning Running  \n",
       "2        Men React Infinity 3 Running  \n",
       "3          Men Colourblocked Sneakers  \n",
       "4          Men Max Cushioning Running  \n",
       "5       Women UltraRide Running Shoes  \n",
       "6            Men Niteball II Sneakers  \n",
       "7      Men JORDAN LOW Basketball Shoe  \n",
       "8         Men SRG 3 FK Training Shoes  \n",
       "9        Eternity Nitro Running Shoes  \n",
       "10              Air Max Axis Sneakers  \n",
       "11          Women X9000 H.RDY Running  \n",
       "12      Men Defiant Generation Tennis  \n",
       "13  Men Solid Leather Formal Slip-Ons  \n",
       "14       Men Solar Glide 4 ST Running  \n",
       "15         Unisex Wild Rider Sneakers  \n",
       "16                  Men Running Shoes  \n",
       "17      Men Supernova 2 Running Shoes  \n",
       "18           Men ENIGMA Running Shoes  \n",
       "19      Unisex Curry Basketball Shoes  \n",
       "20                Women Running Shoes  \n",
       "21         Unisex Lebron V Basketball  \n",
       "22  Men Solid Leather Formal Slip-Ons  \n",
       "23      Women Eastrail 2 Hiking Shoes  \n",
       "24         Men M Nitro Running Shoess  \n",
       "25       Women Liberate NITRO Running  \n",
       "26               Men Air Max Sneakers  \n",
       "27      Electrify Nitro Running Shoes  \n",
       "28      Women Supernova Running Shoes  \n",
       "29     Men REACT MILER 3 Running Shoe  \n",
       "30       Men GEL-Quantum 360 6 Sports  \n",
       "31          Men Solid Oznova Sneakers  \n",
       "32       Women Air Max Bella Training  \n",
       "33     Men HOVR Sonic SE Running Shoe  \n",
       "34          Men Lockdown 5 Basketball  \n",
       "35       Men Velocity Nitro 2 Running  \n",
       "36       Fives Blaze Court Basketball  \n",
       "37              Women Enlighten Shoes  \n",
       "38          Men Solid Formal Slip-Ons  \n",
       "39            Men FREE RUN 2 Sneakers  \n",
       "40          Men Woven NMD_31 Sneakers  \n",
       "41      Unisex Eliminate Pro II Shoes  \n",
       "42          Men Printed Leather Monks  \n",
       "43                       Men Sneakers  \n",
       "44         Men Ozrah Leather Sneakers  \n",
       "45        Men Adizero Adios 7 Running  \n",
       "46         Women Eternity NITRO Shoes  \n",
       "47        Men KING Top Football Shoes  \n",
       "48         Men Dropset Training Shoes  \n",
       "49       Men Textured Leather Loafers  "
      ]
     },
     "execution_count": 158,
     "metadata": {},
     "output_type": "execute_result"
    }
   ],
   "source": [
    "df=pd.DataFrame({'Brand':brand,'Price':price,'Product Description':product_description})\n",
    "df"
   ]
  },
  {
   "cell_type": "code",
   "execution_count": null,
   "id": "885db012",
   "metadata": {},
   "outputs": [],
   "source": []
  },
  {
   "cell_type": "markdown",
   "id": "bb412b02",
   "metadata": {},
   "source": [
    "# Q8. Scrape first 10 laptops data.\n"
   ]
  },
  {
   "cell_type": "code",
   "execution_count": 192,
   "id": "ade17e4f",
   "metadata": {},
   "outputs": [],
   "source": [
    "driver=webdriver.Chrome(r\"chromedriver.exe\")\n"
   ]
  },
  {
   "cell_type": "code",
   "execution_count": 193,
   "id": "8c77565f",
   "metadata": {},
   "outputs": [],
   "source": [
    "driver.get(\"https://www.amazon.in/\")\n"
   ]
  },
  {
   "cell_type": "code",
   "execution_count": 194,
   "id": "65976b14",
   "metadata": {},
   "outputs": [],
   "source": [
    "product=driver.find_element(By.XPATH,\"/html/body/div[1]/header/div/div[1]/div[2]/div/form/div[2]/div[1]/input\")\n",
    "product.send_keys('Laptops')"
   ]
  },
  {
   "cell_type": "code",
   "execution_count": 195,
   "id": "b23df99d",
   "metadata": {},
   "outputs": [],
   "source": [
    "search=driver.find_element(By.XPATH,\"/html/body/div[1]/header/div/div[1]/div[2]/div/form/div[3]/div\")\n",
    "search.click()"
   ]
  },
  {
   "cell_type": "code",
   "execution_count": 196,
   "id": "35e7f7b4",
   "metadata": {},
   "outputs": [],
   "source": [
    "CPU=driver.find_element(By.XPATH,\"/html/body/div[1]/div[2]/div[1]/div[2]/div/div[3]/span/div[1]/div/div/div[6]/ul[4]/li[14]/span/a/span\")\n",
    "CPU.click()"
   ]
  },
  {
   "cell_type": "code",
   "execution_count": 197,
   "id": "b6537d5d",
   "metadata": {},
   "outputs": [],
   "source": [
    "title=[]\n",
    "rating=[]\n",
    "price=[]"
   ]
  },
  {
   "cell_type": "code",
   "execution_count": 198,
   "id": "4a59462d",
   "metadata": {},
   "outputs": [],
   "source": [
    "title_tags=driver.find_elements(By.XPATH,'//span[@class=\"a-size-medium a-color-base a-text-normal\"]')\n",
    "for i in title_tags[0:10]:\n",
    "    tt=i.text\n",
    "    title.append(tt)"
   ]
  },
  {
   "cell_type": "code",
   "execution_count": 199,
   "id": "c5e867c0",
   "metadata": {},
   "outputs": [],
   "source": [
    "price_tags=driver.find_elements(By.XPATH,'//span[@class=\"a-price-whole\"]')\n",
    "for i in price_tags[0:10]:\n",
    "    PR=i.text\n",
    "    price.append(PR)"
   ]
  },
  {
   "cell_type": "code",
   "execution_count": 200,
   "id": "a4b55006",
   "metadata": {},
   "outputs": [],
   "source": [
    "rating_tags=driver.find_elements(By.XPATH,'//a[@class=\"a-popover-trigger a-declarative\"]//span')\n",
    "for i in rating_tags[0:10]:\n",
    "    RA=i.text\n",
    "    rating.append(RA)"
   ]
  },
  {
   "cell_type": "code",
   "execution_count": 201,
   "id": "251d903a",
   "metadata": {},
   "outputs": [
    {
     "name": "stdout",
     "output_type": "stream",
     "text": [
      "10 10 10\n"
     ]
    }
   ],
   "source": [
    "print(len(rating), len(title),len(price))\n"
   ]
  },
  {
   "cell_type": "code",
   "execution_count": 202,
   "id": "1f204a75",
   "metadata": {},
   "outputs": [
    {
     "data": {
      "text/html": [
       "<div>\n",
       "<style scoped>\n",
       "    .dataframe tbody tr th:only-of-type {\n",
       "        vertical-align: middle;\n",
       "    }\n",
       "\n",
       "    .dataframe tbody tr th {\n",
       "        vertical-align: top;\n",
       "    }\n",
       "\n",
       "    .dataframe thead th {\n",
       "        text-align: right;\n",
       "    }\n",
       "</style>\n",
       "<table border=\"1\" class=\"dataframe\">\n",
       "  <thead>\n",
       "    <tr style=\"text-align: right;\">\n",
       "      <th></th>\n",
       "      <th>Rating</th>\n",
       "      <th>Title</th>\n",
       "      <th>Price</th>\n",
       "    </tr>\n",
       "  </thead>\n",
       "  <tbody>\n",
       "    <tr>\n",
       "      <th>0</th>\n",
       "      <td></td>\n",
       "      <td>Microsoft Surface GO 3 8VA-00013 10.5\" (26.67 ...</td>\n",
       "      <td>49,936</td>\n",
       "    </tr>\n",
       "    <tr>\n",
       "      <th>1</th>\n",
       "      <td></td>\n",
       "      <td>Acer Extensa 15 Thin &amp; Light Intel Processor P...</td>\n",
       "      <td>24,999</td>\n",
       "    </tr>\n",
       "    <tr>\n",
       "      <th>2</th>\n",
       "      <td></td>\n",
       "      <td>Dell Inspiron 3521 Laptop, Intel PQC-N5030, Wi...</td>\n",
       "      <td>32,690</td>\n",
       "    </tr>\n",
       "    <tr>\n",
       "      <th>3</th>\n",
       "      <td></td>\n",
       "      <td>Acer Travelmate Intel® Pentium® Gold 7505 Proc...</td>\n",
       "      <td>24,490</td>\n",
       "    </tr>\n",
       "    <tr>\n",
       "      <th>4</th>\n",
       "      <td></td>\n",
       "      <td>ASUS VivoBook 14 (2021), 14-inch (35.56 cm) HD...</td>\n",
       "      <td>31,990</td>\n",
       "    </tr>\n",
       "    <tr>\n",
       "      <th>5</th>\n",
       "      <td></td>\n",
       "      <td>Acer Aspire 3 Laptop (Made in India) A314-35 3...</td>\n",
       "      <td>26,490</td>\n",
       "    </tr>\n",
       "    <tr>\n",
       "      <th>6</th>\n",
       "      <td></td>\n",
       "      <td>HP 15 Intel Pentium Gold 6405U Processor Entry...</td>\n",
       "      <td>28,990</td>\n",
       "    </tr>\n",
       "    <tr>\n",
       "      <th>7</th>\n",
       "      <td></td>\n",
       "      <td>Microsoft Surface GO 2 STQ-00013 10.1\" (26.54 ...</td>\n",
       "      <td>31,805</td>\n",
       "    </tr>\n",
       "    <tr>\n",
       "      <th>8</th>\n",
       "      <td></td>\n",
       "      <td>Acer Travelmate Business Laptop Intel Pentium ...</td>\n",
       "      <td>29,990</td>\n",
       "    </tr>\n",
       "    <tr>\n",
       "      <th>9</th>\n",
       "      <td></td>\n",
       "      <td>ASUS X515MA-EJ101T PQC-N5030 Intel Pentium N50...</td>\n",
       "      <td>59,990</td>\n",
       "    </tr>\n",
       "  </tbody>\n",
       "</table>\n",
       "</div>"
      ],
      "text/plain": [
       "  Rating                                              Title   Price\n",
       "0         Microsoft Surface GO 3 8VA-00013 10.5\" (26.67 ...  49,936\n",
       "1         Acer Extensa 15 Thin & Light Intel Processor P...  24,999\n",
       "2         Dell Inspiron 3521 Laptop, Intel PQC-N5030, Wi...  32,690\n",
       "3         Acer Travelmate Intel® Pentium® Gold 7505 Proc...  24,490\n",
       "4         ASUS VivoBook 14 (2021), 14-inch (35.56 cm) HD...  31,990\n",
       "5         Acer Aspire 3 Laptop (Made in India) A314-35 3...  26,490\n",
       "6         HP 15 Intel Pentium Gold 6405U Processor Entry...  28,990\n",
       "7         Microsoft Surface GO 2 STQ-00013 10.1\" (26.54 ...  31,805\n",
       "8         Acer Travelmate Business Laptop Intel Pentium ...  29,990\n",
       "9         ASUS X515MA-EJ101T PQC-N5030 Intel Pentium N50...  59,990"
      ]
     },
     "execution_count": 202,
     "metadata": {},
     "output_type": "execute_result"
    }
   ],
   "source": [
    "df=pd.DataFrame({'Rating':rating,'Title':title,'Price':price})\n",
    "df"
   ]
  },
  {
   "cell_type": "markdown",
   "id": "92d7ae51",
   "metadata": {},
   "source": [
    "# Q9. Python program to scrape the salary data for Data Scientist designation.\n"
   ]
  },
  {
   "cell_type": "code",
   "execution_count": 203,
   "id": "32329bfc",
   "metadata": {},
   "outputs": [],
   "source": [
    "driver=webdriver.Chrome(r\"chromedriver.exe\")\n"
   ]
  },
  {
   "cell_type": "code",
   "execution_count": 204,
   "id": "9726c12c",
   "metadata": {},
   "outputs": [],
   "source": [
    "driver.get(\"https://www.ambitionbox.com/\")\n"
   ]
  },
  {
   "cell_type": "code",
   "execution_count": 205,
   "id": "cad4a417",
   "metadata": {},
   "outputs": [],
   "source": [
    "jobs=driver.find_element(By.XPATH,\"/html/body/div[1]/nav[2]/div/ul/li[5]/a\")\n",
    "jobs.click()"
   ]
  },
  {
   "cell_type": "code",
   "execution_count": 206,
   "id": "91908d50",
   "metadata": {},
   "outputs": [],
   "source": [
    "designation=driver.find_element(By.XPATH,\"/html/body/div/div/div/div[2]/div[1]/div[1]/div/div/div/div/span/input\")\n",
    "designation.send_keys('Data Scientist')"
   ]
  },
  {
   "cell_type": "code",
   "execution_count": 207,
   "id": "4d4eb2e3",
   "metadata": {},
   "outputs": [],
   "source": [
    "search=driver.find_element(By.XPATH,\"/html/body/div/div/div/div[2]/div[1]/div[1]/div/div/div/button\")\n",
    "search.click()"
   ]
  },
  {
   "cell_type": "code",
   "execution_count": 208,
   "id": "576faeae",
   "metadata": {},
   "outputs": [],
   "source": [
    "select=driver.find_element(By.XPATH,\"/html/body/div/div/div/div[2]/div[1]/div[2]/div[1]/div/div/div/div[2]/div[1]/i\")\n",
    "select.click()"
   ]
  },
  {
   "cell_type": "code",
   "execution_count": 209,
   "id": "bddf5568",
   "metadata": {},
   "outputs": [],
   "source": [
    "location=driver.find_element(By.XPATH,\"/html/body/div/div/div/div[2]/div[1]/div[2]/div[1]/div/div/div/div[2]/div[2]/div/div[2]/input\")\n",
    "location.send_keys('Noida')"
   ]
  },
  {
   "cell_type": "code",
   "execution_count": 210,
   "id": "87322536",
   "metadata": {},
   "outputs": [],
   "source": [
    "ND=driver.find_element(By.XPATH,\"/html/body/div/div/div/div[2]/div[1]/div[2]/div[1]/div/div/div/div[2]/div[2]/div/div[3]/div[1]/div[1]/div/label\")\n",
    "ND.click()"
   ]
  },
  {
   "cell_type": "code",
   "execution_count": 211,
   "id": "24c7cfeb",
   "metadata": {},
   "outputs": [],
   "source": [
    "job_title=[]\n",
    "company_name=[]"
   ]
  },
  {
   "cell_type": "code",
   "execution_count": 212,
   "id": "b6b815cb",
   "metadata": {},
   "outputs": [],
   "source": [
    "title_tags=driver.find_elements(By.XPATH,'//a[@class=\"title noclick\"]')\n",
    "for i in title_tags[0:10]:\n",
    "    title=i.text\n",
    "    job_title.append(title)"
   ]
  },
  {
   "cell_type": "code",
   "execution_count": 213,
   "id": "7234addb",
   "metadata": {},
   "outputs": [],
   "source": [
    "company_tags=driver.find_elements(By.XPATH,'//div[@class=\"company-info\"]')\n",
    "for i in company_tags[0:10]:\n",
    "  company=i.text\n",
    "  company_name.append(company)"
   ]
  },
  {
   "cell_type": "code",
   "execution_count": 214,
   "id": "943daa43",
   "metadata": {},
   "outputs": [
    {
     "name": "stdout",
     "output_type": "stream",
     "text": [
      "10 10\n"
     ]
    }
   ],
   "source": [
    "print(len(job_title),len(company_name))"
   ]
  },
  {
   "cell_type": "code",
   "execution_count": 215,
   "id": "0f0a855a",
   "metadata": {},
   "outputs": [
    {
     "data": {
      "text/html": [
       "<div>\n",
       "<style scoped>\n",
       "    .dataframe tbody tr th:only-of-type {\n",
       "        vertical-align: middle;\n",
       "    }\n",
       "\n",
       "    .dataframe tbody tr th {\n",
       "        vertical-align: top;\n",
       "    }\n",
       "\n",
       "    .dataframe thead th {\n",
       "        text-align: right;\n",
       "    }\n",
       "</style>\n",
       "<table border=\"1\" class=\"dataframe\">\n",
       "  <thead>\n",
       "    <tr style=\"text-align: right;\">\n",
       "      <th></th>\n",
       "      <th>Job Title</th>\n",
       "      <th>Company Name</th>\n",
       "    </tr>\n",
       "  </thead>\n",
       "  <tbody>\n",
       "    <tr>\n",
       "      <th>0</th>\n",
       "      <td>Hiring Data Scientist #productbasecompany #CBRE</td>\n",
       "      <td>CBRE South Asia Pvt Ltd\\n · \\n4.3\\nbased on 2....</td>\n",
       "    </tr>\n",
       "    <tr>\n",
       "      <th>1</th>\n",
       "      <td>Hiring For Genpact-Data Scientist- Forecasting...</td>\n",
       "      <td>CBRE South Asia Pvt Ltd\\n4.3\\n(2.3k Reviews)</td>\n",
       "    </tr>\n",
       "    <tr>\n",
       "      <th>2</th>\n",
       "      <td>Genpact - Data Scientist - Forecasting/Python/...</td>\n",
       "      <td>GENPACT India Private Limited\\n4.0\\n(19.9k Rev...</td>\n",
       "    </tr>\n",
       "    <tr>\n",
       "      <th>3</th>\n",
       "      <td>Data Scientist</td>\n",
       "      <td>Genpact\\n4.0\\n(19.9k Reviews)</td>\n",
       "    </tr>\n",
       "    <tr>\n",
       "      <th>4</th>\n",
       "      <td>Data Scientist</td>\n",
       "      <td>Ericsson India Global Services Pvt. Ltd.\\n4.3\\...</td>\n",
       "    </tr>\n",
       "    <tr>\n",
       "      <th>5</th>\n",
       "      <td>Data Scientist</td>\n",
       "      <td>GENPACT India Private Limited\\n4.0\\n(19.9k Rev...</td>\n",
       "    </tr>\n",
       "    <tr>\n",
       "      <th>6</th>\n",
       "      <td>Associate Manager - Data Scientist</td>\n",
       "      <td>Optum Global Solutions (India) Private Limited...</td>\n",
       "    </tr>\n",
       "    <tr>\n",
       "      <th>7</th>\n",
       "      <td>Data Scientist</td>\n",
       "      <td>Optum Global Solutions (India) Private Limited...</td>\n",
       "    </tr>\n",
       "    <tr>\n",
       "      <th>8</th>\n",
       "      <td>Data Scientist</td>\n",
       "      <td>Ericsson India Global Services Pvt. Ltd.\\n4.3\\...</td>\n",
       "    </tr>\n",
       "    <tr>\n",
       "      <th>9</th>\n",
       "      <td>Data Scientist - Noida/Bangalore</td>\n",
       "      <td>SOPRA STERIA INDIA LIMITED\\n4.2\\n(1.2k Reviews)</td>\n",
       "    </tr>\n",
       "  </tbody>\n",
       "</table>\n",
       "</div>"
      ],
      "text/plain": [
       "                                           Job Title  \\\n",
       "0    Hiring Data Scientist #productbasecompany #CBRE   \n",
       "1  Hiring For Genpact-Data Scientist- Forecasting...   \n",
       "2  Genpact - Data Scientist - Forecasting/Python/...   \n",
       "3                                     Data Scientist   \n",
       "4                                     Data Scientist   \n",
       "5                                     Data Scientist   \n",
       "6                 Associate Manager - Data Scientist   \n",
       "7                                     Data Scientist   \n",
       "8                                     Data Scientist   \n",
       "9                   Data Scientist - Noida/Bangalore   \n",
       "\n",
       "                                        Company Name  \n",
       "0  CBRE South Asia Pvt Ltd\\n · \\n4.3\\nbased on 2....  \n",
       "1       CBRE South Asia Pvt Ltd\\n4.3\\n(2.3k Reviews)  \n",
       "2  GENPACT India Private Limited\\n4.0\\n(19.9k Rev...  \n",
       "3                      Genpact\\n4.0\\n(19.9k Reviews)  \n",
       "4  Ericsson India Global Services Pvt. Ltd.\\n4.3\\...  \n",
       "5  GENPACT India Private Limited\\n4.0\\n(19.9k Rev...  \n",
       "6  Optum Global Solutions (India) Private Limited...  \n",
       "7  Optum Global Solutions (India) Private Limited...  \n",
       "8  Ericsson India Global Services Pvt. Ltd.\\n4.3\\...  \n",
       "9    SOPRA STERIA INDIA LIMITED\\n4.2\\n(1.2k Reviews)  "
      ]
     },
     "execution_count": 215,
     "metadata": {},
     "output_type": "execute_result"
    }
   ],
   "source": [
    "df=pd.DataFrame({'Job Title':job_title,'Company Name':company_name})\n",
    "df"
   ]
  },
  {
   "cell_type": "markdown",
   "id": "6bffe025",
   "metadata": {},
   "source": [
    "# Q10.python program to scrape the salary data for Data Scientist designation. You have to scrape Company name, Number of salaries, Average salary, Minsalary, Max Salary.\n"
   ]
  },
  {
   "cell_type": "code",
   "execution_count": 216,
   "id": "ce546e66",
   "metadata": {},
   "outputs": [],
   "source": [
    "driver=webdriver.Chrome(r\"chromedriver.exe\")\n"
   ]
  },
  {
   "cell_type": "code",
   "execution_count": 217,
   "id": "19b973d2",
   "metadata": {},
   "outputs": [],
   "source": [
    "driver.get(\"https://www.ambitionbox.com/\")\n"
   ]
  },
  {
   "cell_type": "code",
   "execution_count": 218,
   "id": "6de354f2",
   "metadata": {},
   "outputs": [],
   "source": [
    "Select=driver.find_element(By.XPATH,\"/html/body/div[1]/nav[2]/div/ul/li[3]/a\")\n",
    "Select.click()"
   ]
  },
  {
   "cell_type": "code",
   "execution_count": 219,
   "id": "d9e379e1",
   "metadata": {},
   "outputs": [],
   "source": [
    "bsalary=driver.find_element(By.XPATH,\"/html/body/div[1]/nav[2]/div/ul/li[3]/div/ul/li[1]/div\")\n",
    "bsalary.click()"
   ]
  },
  {
   "cell_type": "code",
   "execution_count": 220,
   "id": "72c17231",
   "metadata": {},
   "outputs": [],
   "source": [
    "designation=driver.find_element(By.XPATH,\"/html/body/div/div/div/main/section[1]/div[2]/div[1]/span/input\")\n",
    "designation.send_keys('Data Scientist')"
   ]
  },
  {
   "cell_type": "code",
   "execution_count": 221,
   "id": "de60750b",
   "metadata": {},
   "outputs": [],
   "source": [
    "dclick=driver.find_element(By.XPATH,\"/html/body/div/div/div/main/section[1]/div[2]/div[1]/span/div/div/div[1]\")\n",
    "dclick.click()"
   ]
  },
  {
   "cell_type": "code",
   "execution_count": 222,
   "id": "2b749753",
   "metadata": {},
   "outputs": [],
   "source": [
    "Experience_Required=[]\n",
    "company_name=[]\n",
    "Total_Salary=[]\n",
    "Average=[]\n",
    "Minimum=[]\n",
    "Maximum=[]\n"
   ]
  },
  {
   "cell_type": "code",
   "execution_count": 223,
   "id": "cfbaefa9",
   "metadata": {},
   "outputs": [],
   "source": [
    "experience_tags=driver.find_elements(By.CLASS_NAME,'sbold-list-header')\n",
    "for i in title_tags[0:10]:\n",
    "    exp=i.text\n",
    "    Experience_Required.append(exp)"
   ]
  },
  {
   "cell_type": "code",
   "execution_count": 224,
   "id": "84464212",
   "metadata": {},
   "outputs": [
    {
     "data": {
      "text/plain": [
       "10"
      ]
     },
     "execution_count": 224,
     "metadata": {},
     "output_type": "execute_result"
    }
   ],
   "source": [
    "len(Experience_Required)\n"
   ]
  },
  {
   "cell_type": "code",
   "execution_count": 225,
   "id": "b7a25753",
   "metadata": {},
   "outputs": [],
   "source": [
    "company_tags=driver.find_elements(By.XPATH,'//div[@class=\"company-info\"]//a')\n",
    "for i in company_tags[0:10]:\n",
    "  company=i.text\n",
    "  company_name.append(company)"
   ]
  },
  {
   "cell_type": "code",
   "execution_count": 226,
   "id": "ddc6b718",
   "metadata": {},
   "outputs": [],
   "source": [
    "avg_tags=driver.find_elements(By.XPATH,'//p[@class=\"averageCtc\"]')\n",
    "for i in avg_tags[0:10]:\n",
    "  avg=i.text\n",
    "  Average.append(avg)"
   ]
  },
  {
   "cell_type": "code",
   "execution_count": 227,
   "id": "646cd4b8",
   "metadata": {},
   "outputs": [],
   "source": [
    "TS_tags=driver.find_elements(By.XPATH,'//span[@class=\"datapoints\"]')\n",
    "for i in TS_tags[0:10]:\n",
    "  TS=i.text\n",
    "  Total_Salary.append(TS)"
   ]
  },
  {
   "cell_type": "code",
   "execution_count": 228,
   "id": "65fd83e5",
   "metadata": {},
   "outputs": [],
   "source": [
    "min_tags=driver.find_elements(By.XPATH,'//div[@class=\"value body-medium\"]')\n",
    "for i in min_tags[0:10]:\n",
    "  min=i.text\n",
    "  Minimum.append(min)"
   ]
  },
  {
   "cell_type": "code",
   "execution_count": 229,
   "id": "5b778757",
   "metadata": {},
   "outputs": [],
   "source": [
    "max_tags=driver.find_elements(By.XPATH,'//div[@class=\"value body-medium\"]')\n",
    "for i in max_tags[0:10]:\n",
    "  max=i.text\n",
    "  Maximum.append(max)"
   ]
  },
  {
   "cell_type": "code",
   "execution_count": 230,
   "id": "f7d6f2ec",
   "metadata": {},
   "outputs": [
    {
     "name": "stdout",
     "output_type": "stream",
     "text": [
      "10 10 10 10 10\n"
     ]
    }
   ],
   "source": [
    "print(len(Experience_Required),len(company_name),len(Total_Salary),len(Minimum),len(Maximum))\n"
   ]
  },
  {
   "cell_type": "code",
   "execution_count": 231,
   "id": "67d2c724",
   "metadata": {},
   "outputs": [
    {
     "data": {
      "text/html": [
       "<div>\n",
       "<style scoped>\n",
       "    .dataframe tbody tr th:only-of-type {\n",
       "        vertical-align: middle;\n",
       "    }\n",
       "\n",
       "    .dataframe tbody tr th {\n",
       "        vertical-align: top;\n",
       "    }\n",
       "\n",
       "    .dataframe thead th {\n",
       "        text-align: right;\n",
       "    }\n",
       "</style>\n",
       "<table border=\"1\" class=\"dataframe\">\n",
       "  <thead>\n",
       "    <tr style=\"text-align: right;\">\n",
       "      <th></th>\n",
       "      <th>Company Name</th>\n",
       "      <th>Total Salary Record</th>\n",
       "      <th>Maximum Salary</th>\n",
       "      <th>Minimum Salary</th>\n",
       "    </tr>\n",
       "  </thead>\n",
       "  <tbody>\n",
       "    <tr>\n",
       "      <th>0</th>\n",
       "      <td>Walmart\\nData Scientist Salary</td>\n",
       "      <td>(based on 22 salaries)</td>\n",
       "      <td>₹ 25.0L</td>\n",
       "      <td>₹ 25.0L</td>\n",
       "    </tr>\n",
       "    <tr>\n",
       "      <th>1</th>\n",
       "      <td>Ab Inbev\\nData Scientist Salary</td>\n",
       "      <td>(based on 53 salaries)</td>\n",
       "      <td>₹ 45.0L</td>\n",
       "      <td>₹ 45.0L</td>\n",
       "    </tr>\n",
       "    <tr>\n",
       "      <th>2</th>\n",
       "      <td>Optum\\nData Scientist Salary</td>\n",
       "      <td>(based on 48 salaries)</td>\n",
       "      <td>₹ 15.0L</td>\n",
       "      <td>₹ 15.0L</td>\n",
       "    </tr>\n",
       "    <tr>\n",
       "      <th>3</th>\n",
       "      <td>ZS\\nData Scientist Salary</td>\n",
       "      <td>(based on 33 salaries)</td>\n",
       "      <td>₹ 25.5L</td>\n",
       "      <td>₹ 25.5L</td>\n",
       "    </tr>\n",
       "    <tr>\n",
       "      <th>4</th>\n",
       "      <td>Fractal Analytics\\nData Scientist Salary</td>\n",
       "      <td>(based on 109 salaries)</td>\n",
       "      <td>₹ 11.0L</td>\n",
       "      <td>₹ 11.0L</td>\n",
       "    </tr>\n",
       "    <tr>\n",
       "      <th>5</th>\n",
       "      <td>Tiger Analytics\\nData Scientist Salary</td>\n",
       "      <td>(based on 65 salaries)</td>\n",
       "      <td>₹ 22.6L</td>\n",
       "      <td>₹ 22.6L</td>\n",
       "    </tr>\n",
       "    <tr>\n",
       "      <th>6</th>\n",
       "      <td>Legato Health Technologies\\nData Scientist Salary</td>\n",
       "      <td>(based on 11 salaries)</td>\n",
       "      <td>₹ 11.0L</td>\n",
       "      <td>₹ 11.0L</td>\n",
       "    </tr>\n",
       "    <tr>\n",
       "      <th>7</th>\n",
       "      <td>Tredence\\nData Scientist Salary</td>\n",
       "      <td>(based on 12 salaries)</td>\n",
       "      <td>₹ 22.0L</td>\n",
       "      <td>₹ 22.0L</td>\n",
       "    </tr>\n",
       "    <tr>\n",
       "      <th>8</th>\n",
       "      <td>UnitedHealth\\nData Scientist Salary</td>\n",
       "      <td>(based on 91 salaries)</td>\n",
       "      <td>₹ 9.0L</td>\n",
       "      <td>₹ 9.0L</td>\n",
       "    </tr>\n",
       "    <tr>\n",
       "      <th>9</th>\n",
       "      <td>Ford Motor\\nData Scientist Salary</td>\n",
       "      <td>(based on 21 salaries)</td>\n",
       "      <td>₹ 23.0L</td>\n",
       "      <td>₹ 23.0L</td>\n",
       "    </tr>\n",
       "  </tbody>\n",
       "</table>\n",
       "</div>"
      ],
      "text/plain": [
       "                                        Company Name      Total Salary Record  \\\n",
       "0                     Walmart\\nData Scientist Salary   (based on 22 salaries)   \n",
       "1                    Ab Inbev\\nData Scientist Salary   (based on 53 salaries)   \n",
       "2                       Optum\\nData Scientist Salary   (based on 48 salaries)   \n",
       "3                          ZS\\nData Scientist Salary   (based on 33 salaries)   \n",
       "4           Fractal Analytics\\nData Scientist Salary  (based on 109 salaries)   \n",
       "5             Tiger Analytics\\nData Scientist Salary   (based on 65 salaries)   \n",
       "6  Legato Health Technologies\\nData Scientist Salary   (based on 11 salaries)   \n",
       "7                    Tredence\\nData Scientist Salary   (based on 12 salaries)   \n",
       "8                UnitedHealth\\nData Scientist Salary   (based on 91 salaries)   \n",
       "9                  Ford Motor\\nData Scientist Salary   (based on 21 salaries)   \n",
       "\n",
       "  Maximum Salary Minimum Salary  \n",
       "0        ₹ 25.0L        ₹ 25.0L  \n",
       "1        ₹ 45.0L        ₹ 45.0L  \n",
       "2        ₹ 15.0L        ₹ 15.0L  \n",
       "3        ₹ 25.5L        ₹ 25.5L  \n",
       "4        ₹ 11.0L        ₹ 11.0L  \n",
       "5        ₹ 22.6L        ₹ 22.6L  \n",
       "6        ₹ 11.0L        ₹ 11.0L  \n",
       "7        ₹ 22.0L        ₹ 22.0L  \n",
       "8         ₹ 9.0L         ₹ 9.0L  \n",
       "9        ₹ 23.0L        ₹ 23.0L  "
      ]
     },
     "execution_count": 231,
     "metadata": {},
     "output_type": "execute_result"
    }
   ],
   "source": [
    "df=pd.DataFrame({'Company Name':company_name,\"Total Salary Record\":Total_Salary,\"Maximum Salary\":Maximum, \"Minimum Salary\":Minimum})\n",
    "df"
   ]
  },
  {
   "cell_type": "code",
   "execution_count": null,
   "id": "a5f20643",
   "metadata": {},
   "outputs": [],
   "source": []
  }
 ],
 "metadata": {
  "kernelspec": {
   "display_name": "Python 3 (ipykernel)",
   "language": "python",
   "name": "python3"
  },
  "language_info": {
   "codemirror_mode": {
    "name": "ipython",
    "version": 3
   },
   "file_extension": ".py",
   "mimetype": "text/x-python",
   "name": "python",
   "nbconvert_exporter": "python",
   "pygments_lexer": "ipython3",
   "version": "3.9.7"
  }
 },
 "nbformat": 4,
 "nbformat_minor": 5
}
