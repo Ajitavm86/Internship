{
 "cells": [
  {
   "cell_type": "markdown",
   "id": "9a9fd379",
   "metadata": {},
   "source": [
    "# 1.Write a python program to display all the header tags from wikipedia.org.\n"
   ]
  },
  {
   "cell_type": "code",
   "execution_count": 1,
   "id": "2bb2580a",
   "metadata": {},
   "outputs": [
    {
     "name": "stdout",
     "output_type": "stream",
     "text": [
      "Requirement already satisfied: bs4 in c:\\users\\ajita\\anaconda3\\lib\\site-packages (0.0.1)\n",
      "Requirement already satisfied: beautifulsoup4 in c:\\users\\ajita\\anaconda3\\lib\\site-packages (from bs4) (4.10.0)\n",
      "Requirement already satisfied: soupsieve>1.2 in c:\\users\\ajita\\anaconda3\\lib\\site-packages (from beautifulsoup4->bs4) (2.2.1)\n",
      "Requirement already satisfied: requests in c:\\users\\ajita\\anaconda3\\lib\\site-packages (2.26.0)\n",
      "Requirement already satisfied: urllib3<1.27,>=1.21.1 in c:\\users\\ajita\\anaconda3\\lib\\site-packages (from requests) (1.26.7)\n",
      "Requirement already satisfied: certifi>=2017.4.17 in c:\\users\\ajita\\anaconda3\\lib\\site-packages (from requests) (2021.10.8)\n",
      "Requirement already satisfied: charset-normalizer~=2.0.0 in c:\\users\\ajita\\anaconda3\\lib\\site-packages (from requests) (2.0.4)\n",
      "Requirement already satisfied: idna<4,>=2.5 in c:\\users\\ajita\\anaconda3\\lib\\site-packages (from requests) (3.2)\n"
     ]
    }
   ],
   "source": [
    "!pip install bs4\n",
    "!pip install requests"
   ]
  },
  {
   "cell_type": "code",
   "execution_count": 2,
   "id": "e423b9e7",
   "metadata": {},
   "outputs": [],
   "source": [
    "import pandas as pd\n",
    "from bs4 import BeautifulSoup\n",
    "import requests"
   ]
  },
  {
   "cell_type": "code",
   "execution_count": 3,
   "id": "a526e750",
   "metadata": {},
   "outputs": [],
   "source": [
    "page_1 = requests.get('https://en.wikipedia.org/wiki/Main_Page')\n"
   ]
  },
  {
   "cell_type": "code",
   "execution_count": 4,
   "id": "5eddb986",
   "metadata": {},
   "outputs": [
    {
     "data": {
      "text/plain": [
       "<Response [200]>"
      ]
     },
     "execution_count": 4,
     "metadata": {},
     "output_type": "execute_result"
    }
   ],
   "source": [
    "page_1"
   ]
  },
  {
   "cell_type": "code",
   "execution_count": 5,
   "id": "c70cfbac",
   "metadata": {},
   "outputs": [],
   "source": [
    "soup= BeautifulSoup(page_1.content)\n"
   ]
  },
  {
   "cell_type": "code",
   "execution_count": 7,
   "id": "60324270",
   "metadata": {},
   "outputs": [
    {
     "data": {
      "text/plain": [
       "['h1Main Page',\n",
       " 'h1Welcome to Wikipedia',\n",
       " \"h2From today's featured article\",\n",
       " 'h2Did you know\\xa0...',\n",
       " 'h2In the news',\n",
       " 'h2On this day',\n",
       " \"h2Today's featured picture\",\n",
       " 'h2Other areas of Wikipedia',\n",
       " \"h2Wikipedia's sister projects\",\n",
       " 'h2Wikipedia languages',\n",
       " 'h2Navigation menu',\n",
       " 'h3 Personal tools ',\n",
       " 'h3 Namespaces ',\n",
       " 'h3 Views ',\n",
       " 'h3 Search ',\n",
       " 'h3 Navigation ',\n",
       " 'h3 Contribute ',\n",
       " 'h3 Tools ',\n",
       " 'h3 Print/export ',\n",
       " 'h3 In other projects ',\n",
       " 'h3 Languages ']"
      ]
     },
     "execution_count": 7,
     "metadata": {},
     "output_type": "execute_result"
    }
   ],
   "source": [
    "Header_tags = []\n",
    "for header in soup.find_all([\"h1\",\"h2\",\"h3\",\"h4\",\"h5\",\"h6\"]):\n",
    "    Header_tags.append(header.name+header.text.replace(\"\\n\",\" \"))\n",
    "Header_tags  "
   ]
  },
  {
   "cell_type": "code",
   "execution_count": null,
   "id": "1453caa6",
   "metadata": {},
   "outputs": [],
   "source": []
  },
  {
   "cell_type": "markdown",
   "id": "3dc8fcbe",
   "metadata": {},
   "source": [
    "# 2. Write a python program to display IMDB’s Top rated 100 movies’ data (i.e. name, rating, year of release) and make data frame.\n"
   ]
  },
  {
   "cell_type": "code",
   "execution_count": 19,
   "id": "5764798f",
   "metadata": {},
   "outputs": [
    {
     "data": {
      "text/plain": [
       "<Response [200]>"
      ]
     },
     "execution_count": 19,
     "metadata": {},
     "output_type": "execute_result"
    }
   ],
   "source": [
    "url= \"https://www.imdb.com/list/ls091520106/\"\n",
    "page_2 = requests.get(url)\n",
    "page_2"
   ]
  },
  {
   "cell_type": "code",
   "execution_count": 20,
   "id": "ef7e5a09",
   "metadata": {},
   "outputs": [],
   "source": [
    "soup = BeautifulSoup(page_2.content)\n"
   ]
  },
  {
   "cell_type": "code",
   "execution_count": 21,
   "id": "19ced53a",
   "metadata": {},
   "outputs": [],
   "source": [
    "Name = soup.find_all(\"h3\", class_=\"lister-item-header\")"
   ]
  },
  {
   "cell_type": "code",
   "execution_count": 23,
   "id": "b01dc2e9",
   "metadata": {},
   "outputs": [],
   "source": [
    "Movies_Name = []\n",
    "\n",
    "for i in Name:\n",
    "    for j in i.find_all(\"a\"):\n",
    "        Movies_Name.append(j.text)"
   ]
  },
  {
   "cell_type": "code",
   "execution_count": 24,
   "id": "713836e4",
   "metadata": {},
   "outputs": [],
   "source": [
    "Rating = soup.find_all(\"div\",class_=\"ipl-rating-star small\")"
   ]
  },
  {
   "cell_type": "code",
   "execution_count": 25,
   "id": "8fbb979f",
   "metadata": {},
   "outputs": [],
   "source": [
    "IMDB_Rating = []\n",
    "for i in Rating:\n",
    "      IMDB_Rating.append(float(i.text))"
   ]
  },
  {
   "cell_type": "code",
   "execution_count": 26,
   "id": "e68dc88a",
   "metadata": {},
   "outputs": [],
   "source": [
    "Year = soup.find_all(\"span\",class_=\"lister-item-year text-muted unbold\")"
   ]
  },
  {
   "cell_type": "code",
   "execution_count": 27,
   "id": "eb716ff7",
   "metadata": {},
   "outputs": [],
   "source": [
    "year_of_release = []\n",
    "for k in year:\n",
    "    year_of_release.append(k.text)"
   ]
  },
  {
   "cell_type": "code",
   "execution_count": 30,
   "id": "7517af0b",
   "metadata": {},
   "outputs": [
    {
     "data": {
      "text/html": [
       "<div>\n",
       "<style scoped>\n",
       "    .dataframe tbody tr th:only-of-type {\n",
       "        vertical-align: middle;\n",
       "    }\n",
       "\n",
       "    .dataframe tbody tr th {\n",
       "        vertical-align: top;\n",
       "    }\n",
       "\n",
       "    .dataframe thead th {\n",
       "        text-align: right;\n",
       "    }\n",
       "</style>\n",
       "<table border=\"1\" class=\"dataframe\">\n",
       "  <thead>\n",
       "    <tr style=\"text-align: right;\">\n",
       "      <th></th>\n",
       "      <th>Movies Name</th>\n",
       "      <th>Year of release</th>\n",
       "      <th>IMDB Rating</th>\n",
       "    </tr>\n",
       "  </thead>\n",
       "  <tbody>\n",
       "    <tr>\n",
       "      <th>0</th>\n",
       "      <td>The Shawshank Redemption</td>\n",
       "      <td>(1994)</td>\n",
       "      <td>9.3</td>\n",
       "    </tr>\n",
       "    <tr>\n",
       "      <th>1</th>\n",
       "      <td>The Godfather</td>\n",
       "      <td>(1972)</td>\n",
       "      <td>9.2</td>\n",
       "    </tr>\n",
       "    <tr>\n",
       "      <th>2</th>\n",
       "      <td>The Godfather Part II</td>\n",
       "      <td>(1974)</td>\n",
       "      <td>9.0</td>\n",
       "    </tr>\n",
       "    <tr>\n",
       "      <th>3</th>\n",
       "      <td>The Dark Knight</td>\n",
       "      <td>(2008)</td>\n",
       "      <td>9.0</td>\n",
       "    </tr>\n",
       "    <tr>\n",
       "      <th>4</th>\n",
       "      <td>12 Angry Men</td>\n",
       "      <td>(1957)</td>\n",
       "      <td>9.0</td>\n",
       "    </tr>\n",
       "    <tr>\n",
       "      <th>...</th>\n",
       "      <td>...</td>\n",
       "      <td>...</td>\n",
       "      <td>...</td>\n",
       "    </tr>\n",
       "    <tr>\n",
       "      <th>95</th>\n",
       "      <td>North by Northwest</td>\n",
       "      <td>(1959)</td>\n",
       "      <td>8.3</td>\n",
       "    </tr>\n",
       "    <tr>\n",
       "      <th>96</th>\n",
       "      <td>A Clockwork Orange</td>\n",
       "      <td>(1971)</td>\n",
       "      <td>8.3</td>\n",
       "    </tr>\n",
       "    <tr>\n",
       "      <th>97</th>\n",
       "      <td>Snatch</td>\n",
       "      <td>(2000)</td>\n",
       "      <td>8.3</td>\n",
       "    </tr>\n",
       "    <tr>\n",
       "      <th>98</th>\n",
       "      <td>Le fabuleux destin d'Amélie Poulain</td>\n",
       "      <td>(2001)</td>\n",
       "      <td>8.3</td>\n",
       "    </tr>\n",
       "    <tr>\n",
       "      <th>99</th>\n",
       "      <td>The Kid</td>\n",
       "      <td>(1921)</td>\n",
       "      <td>8.3</td>\n",
       "    </tr>\n",
       "  </tbody>\n",
       "</table>\n",
       "<p>100 rows × 3 columns</p>\n",
       "</div>"
      ],
      "text/plain": [
       "                            Movies Name Year of release  IMDB Rating\n",
       "0              The Shawshank Redemption          (1994)          9.3\n",
       "1                         The Godfather          (1972)          9.2\n",
       "2                 The Godfather Part II          (1974)          9.0\n",
       "3                       The Dark Knight          (2008)          9.0\n",
       "4                          12 Angry Men          (1957)          9.0\n",
       "..                                  ...             ...          ...\n",
       "95                   North by Northwest          (1959)          8.3\n",
       "96                   A Clockwork Orange          (1971)          8.3\n",
       "97                               Snatch          (2000)          8.3\n",
       "98  Le fabuleux destin d'Amélie Poulain          (2001)          8.3\n",
       "99                              The Kid          (1921)          8.3\n",
       "\n",
       "[100 rows x 3 columns]"
      ]
     },
     "execution_count": 30,
     "metadata": {},
     "output_type": "execute_result"
    }
   ],
   "source": [
    "IMDB_top_100=pd.DataFrame({})\n",
    "IMDB_top_100['Movies Name']=Movies_Name\n",
    "IMDB_top_100['Year of release']=year_of_release\n",
    "IMDB_top_100['IMDB Rating']=IMDB_Rating\n",
    "IMDB_top_100"
   ]
  },
  {
   "cell_type": "markdown",
   "id": "b076b4a5",
   "metadata": {},
   "source": [
    "# 3. Write a python program to display IMDB’s Top rated 100 Indian movies’ data (i.e. name, rating, year of release) and make data frame.\n"
   ]
  },
  {
   "cell_type": "code",
   "execution_count": 31,
   "id": "316d3e6a",
   "metadata": {},
   "outputs": [
    {
     "data": {
      "text/plain": [
       "<Response [200]>"
      ]
     },
     "execution_count": 31,
     "metadata": {},
     "output_type": "execute_result"
    }
   ],
   "source": [
    "url = \"https://www.imdb.com/list/ls009997493/\"\n",
    "page_3 = requests.get(url)\n",
    "page_3\n"
   ]
  },
  {
   "cell_type": "code",
   "execution_count": 32,
   "id": "68ca45c1",
   "metadata": {},
   "outputs": [],
   "source": [
    "soup = BeautifulSoup(page_3.content)\n"
   ]
  },
  {
   "cell_type": "code",
   "execution_count": 33,
   "id": "c41f0dcc",
   "metadata": {},
   "outputs": [],
   "source": [
    "name = soup.find_all(\"h3\", class_=\"lister-item-header\")\n"
   ]
  },
  {
   "cell_type": "code",
   "execution_count": 36,
   "id": "39832842",
   "metadata": {},
   "outputs": [],
   "source": [
    "movies_name = []\n",
    "for i in name:\n",
    "    for j in i.find_all(\"a\"):\n",
    "        movies_name.append(j.text)"
   ]
  },
  {
   "cell_type": "code",
   "execution_count": 37,
   "id": "34d6a56d",
   "metadata": {},
   "outputs": [],
   "source": [
    "Year = soup3.find_all(\"span\",class_=\"lister-item-year text-muted unbold\")\n"
   ]
  },
  {
   "cell_type": "code",
   "execution_count": 38,
   "id": "f4ad1928",
   "metadata": {},
   "outputs": [],
   "source": [
    "year_of_release = []\n",
    "for k in year:\n",
    "    a=k.text.replace('(','')\n",
    "    year_of_release.append(a.replace(')','')) "
   ]
  },
  {
   "cell_type": "code",
   "execution_count": 39,
   "id": "a9b050d1",
   "metadata": {},
   "outputs": [],
   "source": [
    "rating = soup.find_all(\"div\",class_=\"ipl-rating-star small\")\n"
   ]
  },
  {
   "cell_type": "code",
   "execution_count": 40,
   "id": "79579e13",
   "metadata": {},
   "outputs": [],
   "source": [
    "IMDB_rating = []\n",
    "for i in rating:\n",
    "      IMDB_rating.append(float(i.text))"
   ]
  },
  {
   "cell_type": "code",
   "execution_count": 41,
   "id": "4d5b5835",
   "metadata": {},
   "outputs": [
    {
     "data": {
      "text/html": [
       "<div>\n",
       "<style scoped>\n",
       "    .dataframe tbody tr th:only-of-type {\n",
       "        vertical-align: middle;\n",
       "    }\n",
       "\n",
       "    .dataframe tbody tr th {\n",
       "        vertical-align: top;\n",
       "    }\n",
       "\n",
       "    .dataframe thead th {\n",
       "        text-align: right;\n",
       "    }\n",
       "</style>\n",
       "<table border=\"1\" class=\"dataframe\">\n",
       "  <thead>\n",
       "    <tr style=\"text-align: right;\">\n",
       "      <th></th>\n",
       "      <th>Movies Name</th>\n",
       "      <th>Year of release</th>\n",
       "      <th>IMDB rating</th>\n",
       "    </tr>\n",
       "  </thead>\n",
       "  <tbody>\n",
       "    <tr>\n",
       "      <th>0</th>\n",
       "      <td>The Shawshank Redemption</td>\n",
       "      <td>1994</td>\n",
       "      <td>9.3</td>\n",
       "    </tr>\n",
       "    <tr>\n",
       "      <th>1</th>\n",
       "      <td>The Godfather</td>\n",
       "      <td>1972</td>\n",
       "      <td>9.2</td>\n",
       "    </tr>\n",
       "    <tr>\n",
       "      <th>2</th>\n",
       "      <td>The Godfather Part II</td>\n",
       "      <td>1974</td>\n",
       "      <td>9.0</td>\n",
       "    </tr>\n",
       "    <tr>\n",
       "      <th>3</th>\n",
       "      <td>The Dark Knight</td>\n",
       "      <td>2008</td>\n",
       "      <td>9.0</td>\n",
       "    </tr>\n",
       "    <tr>\n",
       "      <th>4</th>\n",
       "      <td>12 Angry Men</td>\n",
       "      <td>1957</td>\n",
       "      <td>9.0</td>\n",
       "    </tr>\n",
       "    <tr>\n",
       "      <th>...</th>\n",
       "      <td>...</td>\n",
       "      <td>...</td>\n",
       "      <td>...</td>\n",
       "    </tr>\n",
       "    <tr>\n",
       "      <th>95</th>\n",
       "      <td>North by Northwest</td>\n",
       "      <td>1959</td>\n",
       "      <td>8.3</td>\n",
       "    </tr>\n",
       "    <tr>\n",
       "      <th>96</th>\n",
       "      <td>A Clockwork Orange</td>\n",
       "      <td>1971</td>\n",
       "      <td>8.3</td>\n",
       "    </tr>\n",
       "    <tr>\n",
       "      <th>97</th>\n",
       "      <td>Snatch</td>\n",
       "      <td>2000</td>\n",
       "      <td>8.3</td>\n",
       "    </tr>\n",
       "    <tr>\n",
       "      <th>98</th>\n",
       "      <td>Le fabuleux destin d'Amélie Poulain</td>\n",
       "      <td>2001</td>\n",
       "      <td>8.3</td>\n",
       "    </tr>\n",
       "    <tr>\n",
       "      <th>99</th>\n",
       "      <td>The Kid</td>\n",
       "      <td>1921</td>\n",
       "      <td>8.3</td>\n",
       "    </tr>\n",
       "  </tbody>\n",
       "</table>\n",
       "<p>100 rows × 3 columns</p>\n",
       "</div>"
      ],
      "text/plain": [
       "                            Movies Name Year of release  IMDB rating\n",
       "0              The Shawshank Redemption            1994          9.3\n",
       "1                         The Godfather            1972          9.2\n",
       "2                 The Godfather Part II            1974          9.0\n",
       "3                       The Dark Knight            2008          9.0\n",
       "4                          12 Angry Men            1957          9.0\n",
       "..                                  ...             ...          ...\n",
       "95                   North by Northwest            1959          8.3\n",
       "96                   A Clockwork Orange            1971          8.3\n",
       "97                               Snatch            2000          8.3\n",
       "98  Le fabuleux destin d'Amélie Poulain            2001          8.3\n",
       "99                              The Kid            1921          8.3\n",
       "\n",
       "[100 rows x 3 columns]"
      ]
     },
     "execution_count": 41,
     "metadata": {},
     "output_type": "execute_result"
    }
   ],
   "source": [
    "indian_top_100=pd.DataFrame({})\n",
    "indian_top_100['Movies Name']=movies_name\n",
    "indian_top_100['Year of release']=year_of_release\n",
    "indian_top_100['IMDB rating']=IMDB_rating\n",
    "indian_top_100"
   ]
  },
  {
   "cell_type": "markdown",
   "id": "a7afae6a",
   "metadata": {},
   "source": [
    "# 4.Write s python program to display list of respected former presidents of India(i.e. Name , Term of office) from https://presidentofindia.nic.in/former-presidents.htm"
   ]
  },
  {
   "cell_type": "code",
   "execution_count": 63,
   "id": "c1e6e627",
   "metadata": {},
   "outputs": [
    {
     "data": {
      "text/plain": [
       "<Response [200]>"
      ]
     },
     "execution_count": 63,
     "metadata": {},
     "output_type": "execute_result"
    }
   ],
   "source": [
    "url = \"https://presidentofindia.nic.in/former-presidents.htm\"\n",
    "page_4 = requests.get(url)\n",
    "page_4"
   ]
  },
  {
   "cell_type": "code",
   "execution_count": 92,
   "id": "ebac1160",
   "metadata": {},
   "outputs": [],
   "source": [
    "soup = BeautifulSoup(page_4.content)"
   ]
  },
  {
   "cell_type": "code",
   "execution_count": 93,
   "id": "0cdf7ec6",
   "metadata": {},
   "outputs": [],
   "source": [
    "name = soup.find_all(\"h3\")\n"
   ]
  },
  {
   "cell_type": "code",
   "execution_count": 94,
   "id": "f1bda1c4",
   "metadata": {},
   "outputs": [],
   "source": [
    "presidents_name = []\n",
    "for i in name:\n",
    "    presidents_name.append(i.text.split(\"(\")[0])"
   ]
  },
  {
   "cell_type": "code",
   "execution_count": 95,
   "id": "982e682b",
   "metadata": {},
   "outputs": [],
   "source": [
    "Year = soup.find_all(\"div\",class_=\"presidentListing\")"
   ]
  },
  {
   "cell_type": "code",
   "execution_count": 103,
   "id": "b44eebf2",
   "metadata": {},
   "outputs": [],
   "source": [
    "Term_of_office = []\n",
    "for i in soup.find_all('div', class_=\"presidentListing\"):\n",
    "    cells = i.find_all('p')\n",
    "    Term_of_office.append(cells[0].text.strip().replace('Term of Office:',''))"
   ]
  },
  {
   "cell_type": "code",
   "execution_count": 105,
   "id": "de6849e1",
   "metadata": {},
   "outputs": [
    {
     "data": {
      "text/html": [
       "<div>\n",
       "<style scoped>\n",
       "    .dataframe tbody tr th:only-of-type {\n",
       "        vertical-align: middle;\n",
       "    }\n",
       "\n",
       "    .dataframe tbody tr th {\n",
       "        vertical-align: top;\n",
       "    }\n",
       "\n",
       "    .dataframe thead th {\n",
       "        text-align: right;\n",
       "    }\n",
       "</style>\n",
       "<table border=\"1\" class=\"dataframe\">\n",
       "  <thead>\n",
       "    <tr style=\"text-align: right;\">\n",
       "      <th></th>\n",
       "      <th>Presidents Name</th>\n",
       "      <th>Term of office</th>\n",
       "    </tr>\n",
       "  </thead>\n",
       "  <tbody>\n",
       "    <tr>\n",
       "      <th>0</th>\n",
       "      <td>Shri Ram Nath Kovind</td>\n",
       "      <td>25 July, 2017 to 25 July, 2022</td>\n",
       "    </tr>\n",
       "    <tr>\n",
       "      <th>1</th>\n",
       "      <td>Shri Pranab Mukherjee</td>\n",
       "      <td>25 July, 2012 to 25 July, 2017</td>\n",
       "    </tr>\n",
       "    <tr>\n",
       "      <th>2</th>\n",
       "      <td>Smt Pratibha Devisingh Patil</td>\n",
       "      <td>25 July, 2007 to 25 July, 2012</td>\n",
       "    </tr>\n",
       "    <tr>\n",
       "      <th>3</th>\n",
       "      <td>DR. A.P.J. Abdul Kalam</td>\n",
       "      <td>25 July, 2002 to 25 July, 2007</td>\n",
       "    </tr>\n",
       "    <tr>\n",
       "      <th>4</th>\n",
       "      <td>Shri K. R. Narayanan</td>\n",
       "      <td>25 July, 1997 to 25 July, 2002</td>\n",
       "    </tr>\n",
       "    <tr>\n",
       "      <th>5</th>\n",
       "      <td>Dr Shankar Dayal Sharma</td>\n",
       "      <td>25 July, 1992 to 25 July, 1997</td>\n",
       "    </tr>\n",
       "    <tr>\n",
       "      <th>6</th>\n",
       "      <td>Shri R Venkataraman</td>\n",
       "      <td>25 July, 1987 to 25 July, 1992</td>\n",
       "    </tr>\n",
       "    <tr>\n",
       "      <th>7</th>\n",
       "      <td>Giani Zail Singh</td>\n",
       "      <td>25 July, 1982 to 25 July, 1987</td>\n",
       "    </tr>\n",
       "    <tr>\n",
       "      <th>8</th>\n",
       "      <td>Shri Neelam Sanjiva Reddy</td>\n",
       "      <td>25 July, 1977 to 25 July, 1982</td>\n",
       "    </tr>\n",
       "    <tr>\n",
       "      <th>9</th>\n",
       "      <td>Dr. Fakhruddin Ali Ahmed</td>\n",
       "      <td>24 August, 1974 to 11 February, 1977</td>\n",
       "    </tr>\n",
       "    <tr>\n",
       "      <th>10</th>\n",
       "      <td>Shri Varahagiri Venkata Giri</td>\n",
       "      <td>3 May, 1969 to 20 July, 1969 and 24 August, 1...</td>\n",
       "    </tr>\n",
       "    <tr>\n",
       "      <th>11</th>\n",
       "      <td>Dr. Zakir Husain</td>\n",
       "      <td>13 May, 1967 to 3 May, 1969</td>\n",
       "    </tr>\n",
       "    <tr>\n",
       "      <th>12</th>\n",
       "      <td>Dr. Sarvepalli Radhakrishnan</td>\n",
       "      <td>13 May, 1962 to 13 May, 1967</td>\n",
       "    </tr>\n",
       "    <tr>\n",
       "      <th>13</th>\n",
       "      <td>Dr. Rajendra Prasad</td>\n",
       "      <td>26 January, 1950 to 13 May, 1962</td>\n",
       "    </tr>\n",
       "  </tbody>\n",
       "</table>\n",
       "</div>"
      ],
      "text/plain": [
       "                  Presidents Name  \\\n",
       "0           Shri Ram Nath Kovind    \n",
       "1          Shri Pranab Mukherjee    \n",
       "2   Smt Pratibha Devisingh Patil    \n",
       "3         DR. A.P.J. Abdul Kalam    \n",
       "4           Shri K. R. Narayanan    \n",
       "5        Dr Shankar Dayal Sharma    \n",
       "6            Shri R Venkataraman    \n",
       "7               Giani Zail Singh    \n",
       "8      Shri Neelam Sanjiva Reddy    \n",
       "9       Dr. Fakhruddin Ali Ahmed    \n",
       "10  Shri Varahagiri Venkata Giri    \n",
       "11              Dr. Zakir Husain    \n",
       "12  Dr. Sarvepalli Radhakrishnan    \n",
       "13           Dr. Rajendra Prasad    \n",
       "\n",
       "                                       Term of office  \n",
       "0                      25 July, 2017 to 25 July, 2022  \n",
       "1                      25 July, 2012 to 25 July, 2017  \n",
       "2                      25 July, 2007 to 25 July, 2012  \n",
       "3                      25 July, 2002 to 25 July, 2007  \n",
       "4                      25 July, 1997 to 25 July, 2002  \n",
       "5                      25 July, 1992 to 25 July, 1997  \n",
       "6                      25 July, 1987 to 25 July, 1992  \n",
       "7                      25 July, 1982 to 25 July, 1987  \n",
       "8                      25 July, 1977 to 25 July, 1982  \n",
       "9                24 August, 1974 to 11 February, 1977  \n",
       "10   3 May, 1969 to 20 July, 1969 and 24 August, 1...  \n",
       "11                        13 May, 1967 to 3 May, 1969  \n",
       "12                       13 May, 1962 to 13 May, 1967  \n",
       "13                   26 January, 1950 to 13 May, 1962  "
      ]
     },
     "execution_count": 105,
     "metadata": {},
     "output_type": "execute_result"
    }
   ],
   "source": [
    "Former_president=pd.DataFrame({})\n",
    "Former_president[\"Presidents Name\"]=presidents_name\n",
    "Former_president[\"Term of office\"]=Term_of_office\n",
    "Former_president"
   ]
  },
  {
   "cell_type": "markdown",
   "id": "34c046cc",
   "metadata": {},
   "source": [
    "# 5. Write a python program to scrape cricket rankings from icc-cricket.com. You have to scrape:\n"
   ]
  },
  {
   "cell_type": "markdown",
   "id": "46b9a823",
   "metadata": {},
   "source": [
    "a) Top 10 ODI teams in men’s cricket along with the records for matches, points and rating.\n",
    "\n"
   ]
  },
  {
   "cell_type": "code",
   "execution_count": 106,
   "id": "7eed9c40",
   "metadata": {},
   "outputs": [
    {
     "data": {
      "text/plain": [
       "<Response [200]>"
      ]
     },
     "execution_count": 106,
     "metadata": {},
     "output_type": "execute_result"
    }
   ],
   "source": [
    "url=\"https://www.icc-cricket.com/rankings/mens/team-rankings/odi\"\n",
    "page_5a= requests.get(url)\n",
    "page_5a"
   ]
  },
  {
   "cell_type": "code",
   "execution_count": 107,
   "id": "ad4ee687",
   "metadata": {},
   "outputs": [],
   "source": [
    "soup=BeautifulSoup(page_5a.content)\n"
   ]
  },
  {
   "cell_type": "code",
   "execution_count": 109,
   "id": "a71fee66",
   "metadata": {},
   "outputs": [],
   "source": [
    "team=soup.find_all(\"span\",class_=\"u-hide-phablet\")\n"
   ]
  },
  {
   "cell_type": "code",
   "execution_count": 110,
   "id": "e0d1af71",
   "metadata": {},
   "outputs": [],
   "source": [
    "team_name=[] \n",
    "for i in team:\n",
    "    team_name.append(i.text)"
   ]
  },
  {
   "cell_type": "code",
   "execution_count": 112,
   "id": "a9582552",
   "metadata": {},
   "outputs": [],
   "source": [
    "\n",
    "matches=[] \n",
    "for i in soup.find_all(\"td\",class_='rankings-block__banner--matches'):\n",
    "    matches.append(i.text)"
   ]
  },
  {
   "cell_type": "code",
   "execution_count": 114,
   "id": "b4065df8",
   "metadata": {},
   "outputs": [],
   "source": [
    "points=[]\n",
    "for i in soup.find_all(\"td\",class_='rankings-block__banner--points'):\n",
    "    points.append(i.text)"
   ]
  },
  {
   "cell_type": "code",
   "execution_count": 116,
   "id": "6ce06287",
   "metadata": {},
   "outputs": [],
   "source": [
    "ratings=[]\n",
    "for i in soup.find_all(\"td\",class_='rankings-block__banner--rating u-text-right'):\n",
    "    ratings.append(i.text.replace(\"\\n\",\"\"))"
   ]
  },
  {
   "cell_type": "code",
   "execution_count": 118,
   "id": "f27e726c",
   "metadata": {},
   "outputs": [],
   "source": [
    "new_list=[]\n",
    "for i in soup.find_all(\"td\",class_='table-body__cell u-center-text'):\n",
    "    new_list.append(i.text)"
   ]
  },
  {
   "cell_type": "code",
   "execution_count": 119,
   "id": "a3f85ec3",
   "metadata": {},
   "outputs": [],
   "source": [
    "for i in soup.find_all(\"td\",class_='table-body__cell u-text-right rating'):\n",
    "    ratings.append(i.text)"
   ]
  },
  {
   "cell_type": "code",
   "execution_count": 120,
   "id": "8eadcba9",
   "metadata": {},
   "outputs": [],
   "source": [
    "for i in range(0,len(new_list)-1,2):\n",
    "    matches.append(new_list[i]) \n",
    "    points.append(new_list[i+1])"
   ]
  },
  {
   "cell_type": "code",
   "execution_count": 121,
   "id": "9366d72d",
   "metadata": {},
   "outputs": [
    {
     "data": {
      "text/html": [
       "<div>\n",
       "<style scoped>\n",
       "    .dataframe tbody tr th:only-of-type {\n",
       "        vertical-align: middle;\n",
       "    }\n",
       "\n",
       "    .dataframe tbody tr th {\n",
       "        vertical-align: top;\n",
       "    }\n",
       "\n",
       "    .dataframe thead th {\n",
       "        text-align: right;\n",
       "    }\n",
       "</style>\n",
       "<table border=\"1\" class=\"dataframe\">\n",
       "  <thead>\n",
       "    <tr style=\"text-align: right;\">\n",
       "      <th></th>\n",
       "      <th>Team name</th>\n",
       "      <th>Matches</th>\n",
       "      <th>Points</th>\n",
       "      <th>Ratings</th>\n",
       "    </tr>\n",
       "  </thead>\n",
       "  <tbody>\n",
       "    <tr>\n",
       "      <th>0</th>\n",
       "      <td>New Zealand</td>\n",
       "      <td>16</td>\n",
       "      <td>2,051</td>\n",
       "      <td>128               ...</td>\n",
       "    </tr>\n",
       "    <tr>\n",
       "      <th>1</th>\n",
       "      <td>England</td>\n",
       "      <td>27</td>\n",
       "      <td>3,226</td>\n",
       "      <td>119</td>\n",
       "    </tr>\n",
       "    <tr>\n",
       "      <th>2</th>\n",
       "      <td>India</td>\n",
       "      <td>28</td>\n",
       "      <td>3,085</td>\n",
       "      <td>110</td>\n",
       "    </tr>\n",
       "    <tr>\n",
       "      <th>3</th>\n",
       "      <td>Pakistan</td>\n",
       "      <td>19</td>\n",
       "      <td>2,005</td>\n",
       "      <td>106</td>\n",
       "    </tr>\n",
       "    <tr>\n",
       "      <th>4</th>\n",
       "      <td>Australia</td>\n",
       "      <td>23</td>\n",
       "      <td>2,325</td>\n",
       "      <td>101</td>\n",
       "    </tr>\n",
       "    <tr>\n",
       "      <th>5</th>\n",
       "      <td>South Africa</td>\n",
       "      <td>21</td>\n",
       "      <td>2,111</td>\n",
       "      <td>101</td>\n",
       "    </tr>\n",
       "    <tr>\n",
       "      <th>6</th>\n",
       "      <td>Bangladesh</td>\n",
       "      <td>27</td>\n",
       "      <td>2,639</td>\n",
       "      <td>98</td>\n",
       "    </tr>\n",
       "    <tr>\n",
       "      <th>7</th>\n",
       "      <td>Sri Lanka</td>\n",
       "      <td>29</td>\n",
       "      <td>2,658</td>\n",
       "      <td>92</td>\n",
       "    </tr>\n",
       "    <tr>\n",
       "      <th>8</th>\n",
       "      <td>West Indies</td>\n",
       "      <td>38</td>\n",
       "      <td>2,621</td>\n",
       "      <td>69</td>\n",
       "    </tr>\n",
       "    <tr>\n",
       "      <th>9</th>\n",
       "      <td>Afghanistan</td>\n",
       "      <td>18</td>\n",
       "      <td>1,238</td>\n",
       "      <td>69</td>\n",
       "    </tr>\n",
       "  </tbody>\n",
       "</table>\n",
       "</div>"
      ],
      "text/plain": [
       "      Team name Matches Points  \\\n",
       "0   New Zealand      16  2,051   \n",
       "1       England      27  3,226   \n",
       "2         India      28  3,085   \n",
       "3      Pakistan      19  2,005   \n",
       "4     Australia      23  2,325   \n",
       "5  South Africa      21  2,111   \n",
       "6    Bangladesh      27  2,639   \n",
       "7     Sri Lanka      29  2,658   \n",
       "8   West Indies      38  2,621   \n",
       "9   Afghanistan      18  1,238   \n",
       "\n",
       "                                             Ratings  \n",
       "0                              128               ...  \n",
       "1                                                119  \n",
       "2                                                110  \n",
       "3                                                106  \n",
       "4                                                101  \n",
       "5                                                101  \n",
       "6                                                 98  \n",
       "7                                                 92  \n",
       "8                                                 69  \n",
       "9                                                 69  "
      ]
     },
     "execution_count": 121,
     "metadata": {},
     "output_type": "execute_result"
    }
   ],
   "source": [
    "icc=pd.DataFrame({})\n",
    "icc['Team name']=team_name[:10]\n",
    "icc['Matches']=matches[:10]\n",
    "icc['Points']=points[:10]\n",
    "icc['Ratings']=ratings[:10]\n",
    "icc"
   ]
  },
  {
   "cell_type": "markdown",
   "id": "736a7b83",
   "metadata": {},
   "source": [
    "b) Top 10 ODI Batsmen along with the records of their team and rating."
   ]
  },
  {
   "cell_type": "code",
   "execution_count": 122,
   "id": "1d5aaa3d",
   "metadata": {},
   "outputs": [
    {
     "data": {
      "text/plain": [
       "<Response [200]>"
      ]
     },
     "execution_count": 122,
     "metadata": {},
     "output_type": "execute_result"
    }
   ],
   "source": [
    "url=\"https://www.icc-cricket.com/rankings/mens/player-rankings/odi/batting\"\n",
    "page_5b= requests.get(url)\n",
    "page_5b"
   ]
  },
  {
   "cell_type": "code",
   "execution_count": 123,
   "id": "df60b5f4",
   "metadata": {},
   "outputs": [],
   "source": [
    "soup=BeautifulSoup(page_5b.content)\n"
   ]
  },
  {
   "cell_type": "code",
   "execution_count": 126,
   "id": "94b56f59",
   "metadata": {},
   "outputs": [],
   "source": [
    "players=[]\n",
    "for i in soup.find_all(\"div\",class_=\"rankings-block__banner--name-large\"):\n",
    "    players.append(i.text.replace(\"\\n\",\"\"))\n",
    "for i in soup.find_all(\"td\",class_=\"table-body__cell rankings-table__name name\"):\n",
    "    players.append(i.text.replace(\"\\n\",\"\"))"
   ]
  },
  {
   "cell_type": "code",
   "execution_count": 128,
   "id": "0462d08a",
   "metadata": {},
   "outputs": [],
   "source": [
    "teams=[]\n",
    "for i in soup.find_all(\"div\",class_=\"rankings-block__banner--nationality\"):\n",
    "    teams.append(i.text.replace(\"\\n\",\"\"))\n",
    "for i in soup.find_all(\"span\",class_=\"table-body__logo-text\"):\n",
    "    teams.append(i.text)"
   ]
  },
  {
   "cell_type": "code",
   "execution_count": 129,
   "id": "76b59798",
   "metadata": {},
   "outputs": [],
   "source": [
    "ratings=[]\n",
    "for i in soup.find_all(\"div\",class_=\"rankings-block__banner--rating\"):\n",
    "    ratings.append(i.text)\n",
    "for i in soup.find_all(\"td\",class_=\"table-body__cell rating\"):\n",
    "    ratings.append(i.text)"
   ]
  },
  {
   "cell_type": "code",
   "execution_count": 130,
   "id": "eac9f16a",
   "metadata": {},
   "outputs": [
    {
     "data": {
      "text/html": [
       "<div>\n",
       "<style scoped>\n",
       "    .dataframe tbody tr th:only-of-type {\n",
       "        vertical-align: middle;\n",
       "    }\n",
       "\n",
       "    .dataframe tbody tr th {\n",
       "        vertical-align: top;\n",
       "    }\n",
       "\n",
       "    .dataframe thead th {\n",
       "        text-align: right;\n",
       "    }\n",
       "</style>\n",
       "<table border=\"1\" class=\"dataframe\">\n",
       "  <thead>\n",
       "    <tr style=\"text-align: right;\">\n",
       "      <th></th>\n",
       "      <th>Players</th>\n",
       "      <th>Teams</th>\n",
       "      <th>Ratings</th>\n",
       "    </tr>\n",
       "  </thead>\n",
       "  <tbody>\n",
       "    <tr>\n",
       "      <th>0</th>\n",
       "      <td>Babar Azam</td>\n",
       "      <td>PAK</td>\n",
       "      <td>892</td>\n",
       "    </tr>\n",
       "    <tr>\n",
       "      <th>1</th>\n",
       "      <td>Imam-ul-Haq</td>\n",
       "      <td>PAK</td>\n",
       "      <td>815</td>\n",
       "    </tr>\n",
       "    <tr>\n",
       "      <th>2</th>\n",
       "      <td>Rassie van der Dussen</td>\n",
       "      <td>SA</td>\n",
       "      <td>789</td>\n",
       "    </tr>\n",
       "    <tr>\n",
       "      <th>3</th>\n",
       "      <td>Quinton de Kock</td>\n",
       "      <td>SA</td>\n",
       "      <td>784</td>\n",
       "    </tr>\n",
       "    <tr>\n",
       "      <th>4</th>\n",
       "      <td>Virat Kohli</td>\n",
       "      <td>IND</td>\n",
       "      <td>767</td>\n",
       "    </tr>\n",
       "    <tr>\n",
       "      <th>5</th>\n",
       "      <td>Rohit Sharma</td>\n",
       "      <td>IND</td>\n",
       "      <td>763</td>\n",
       "    </tr>\n",
       "    <tr>\n",
       "      <th>6</th>\n",
       "      <td>Ross Taylor</td>\n",
       "      <td>NZ</td>\n",
       "      <td>744</td>\n",
       "    </tr>\n",
       "    <tr>\n",
       "      <th>7</th>\n",
       "      <td>David Warner</td>\n",
       "      <td>AUS</td>\n",
       "      <td>737</td>\n",
       "    </tr>\n",
       "    <tr>\n",
       "      <th>8</th>\n",
       "      <td>Jonny Bairstow</td>\n",
       "      <td>ENG</td>\n",
       "      <td>732</td>\n",
       "    </tr>\n",
       "    <tr>\n",
       "      <th>9</th>\n",
       "      <td>Aaron Finch</td>\n",
       "      <td>AUS</td>\n",
       "      <td>715</td>\n",
       "    </tr>\n",
       "  </tbody>\n",
       "</table>\n",
       "</div>"
      ],
      "text/plain": [
       "                 Players                    Teams Ratings\n",
       "0             Babar Azam  PAK                         892\n",
       "1            Imam-ul-Haq                      PAK     815\n",
       "2  Rassie van der Dussen                       SA     789\n",
       "3        Quinton de Kock                       SA     784\n",
       "4            Virat Kohli                      IND     767\n",
       "5           Rohit Sharma                      IND     763\n",
       "6            Ross Taylor                       NZ     744\n",
       "7           David Warner                      AUS     737\n",
       "8         Jonny Bairstow                      ENG     732\n",
       "9            Aaron Finch                      AUS     715"
      ]
     },
     "execution_count": 130,
     "metadata": {},
     "output_type": "execute_result"
    }
   ],
   "source": [
    "Batsmen=pd.DataFrame({})\n",
    "Batsmen['Players']=players[:10]\n",
    "Batsmen['Teams']=teams[:10]\n",
    "Batsmen['Ratings']=ratings[:10]\n",
    "Batsmen"
   ]
  },
  {
   "cell_type": "markdown",
   "id": "2bd7aca2",
   "metadata": {},
   "source": [
    "c) Top 10 ODI bowlers along with the records of their team and rating."
   ]
  },
  {
   "cell_type": "code",
   "execution_count": 131,
   "id": "c02da885",
   "metadata": {},
   "outputs": [
    {
     "data": {
      "text/plain": [
       "<Response [200]>"
      ]
     },
     "execution_count": 131,
     "metadata": {},
     "output_type": "execute_result"
    }
   ],
   "source": [
    "url=\"https://www.icc-cricket.com/rankings/mens/player-rankings/test/bowling\"\n",
    "page_5c= requests.get(url)\n",
    "page_5c\n"
   ]
  },
  {
   "cell_type": "code",
   "execution_count": 132,
   "id": "85e963cb",
   "metadata": {},
   "outputs": [],
   "source": [
    "soup=BeautifulSoup(page_5c.content)\n"
   ]
  },
  {
   "cell_type": "code",
   "execution_count": 133,
   "id": "b268d6b8",
   "metadata": {},
   "outputs": [],
   "source": [
    "players=[]\n",
    "for i in soup.find_all(\"div\",class_=\"rankings-block__banner--name-large\"):  #first place player\n",
    "    players.append(i.text.replace(\"\\n\",\"\"))\n",
    "\n",
    "for i in soup.find_all(\"td\",class_=\"table-body__cell rankings-table__name name\"):# for other players\n",
    "    players.append(i.text.replace(\"\\n\",\"\"))"
   ]
  },
  {
   "cell_type": "code",
   "execution_count": 134,
   "id": "3740f035",
   "metadata": {},
   "outputs": [],
   "source": [
    "teams=[]\n",
    "for i in soup.find_all(\"div\",class_=\"rankings-block__banner--nationality\"): #first place player\n",
    "    teams.append(i.text.replace(\"\\n\",\"\"))\n",
    "    \n",
    "for i in soup.find_all(\"span\",class_=\"table-body__logo-text\"):# for other players\n",
    "    teams.append(i.text)"
   ]
  },
  {
   "cell_type": "code",
   "execution_count": 135,
   "id": "ebd3cc30",
   "metadata": {},
   "outputs": [],
   "source": [
    "ratings=[]\n",
    "for i in soup.find_all(\"div\",class_=\"rankings-block__banner--rating\"): #first place player\n",
    "    ratings.append(i.text)\n",
    "    \n",
    "for i in soup.find_all(\"td\",class_=\"table-body__cell rating\"):# for other players\n",
    "     ratings.append(i.text)"
   ]
  },
  {
   "cell_type": "code",
   "execution_count": 136,
   "id": "f99f54fe",
   "metadata": {},
   "outputs": [
    {
     "data": {
      "text/html": [
       "<div>\n",
       "<style scoped>\n",
       "    .dataframe tbody tr th:only-of-type {\n",
       "        vertical-align: middle;\n",
       "    }\n",
       "\n",
       "    .dataframe tbody tr th {\n",
       "        vertical-align: top;\n",
       "    }\n",
       "\n",
       "    .dataframe thead th {\n",
       "        text-align: right;\n",
       "    }\n",
       "</style>\n",
       "<table border=\"1\" class=\"dataframe\">\n",
       "  <thead>\n",
       "    <tr style=\"text-align: right;\">\n",
       "      <th></th>\n",
       "      <th>Players</th>\n",
       "      <th>Teams</th>\n",
       "      <th>Ratings</th>\n",
       "    </tr>\n",
       "  </thead>\n",
       "  <tbody>\n",
       "    <tr>\n",
       "      <th>0</th>\n",
       "      <td>Pat Cummins</td>\n",
       "      <td>AUS</td>\n",
       "      <td>891</td>\n",
       "    </tr>\n",
       "    <tr>\n",
       "      <th>1</th>\n",
       "      <td>Ravichandran Ashwin</td>\n",
       "      <td>IND</td>\n",
       "      <td>842</td>\n",
       "    </tr>\n",
       "    <tr>\n",
       "      <th>2</th>\n",
       "      <td>Shaheen Afridi</td>\n",
       "      <td>PAK</td>\n",
       "      <td>828</td>\n",
       "    </tr>\n",
       "    <tr>\n",
       "      <th>3</th>\n",
       "      <td>Jasprit Bumrah</td>\n",
       "      <td>IND</td>\n",
       "      <td>828</td>\n",
       "    </tr>\n",
       "    <tr>\n",
       "      <th>4</th>\n",
       "      <td>Kagiso Rabada</td>\n",
       "      <td>SA</td>\n",
       "      <td>818</td>\n",
       "    </tr>\n",
       "    <tr>\n",
       "      <th>5</th>\n",
       "      <td>James Anderson</td>\n",
       "      <td>ENG</td>\n",
       "      <td>811</td>\n",
       "    </tr>\n",
       "    <tr>\n",
       "      <th>6</th>\n",
       "      <td>Kyle Jamieson</td>\n",
       "      <td>NZ</td>\n",
       "      <td>788</td>\n",
       "    </tr>\n",
       "    <tr>\n",
       "      <th>7</th>\n",
       "      <td>Kemar Roach</td>\n",
       "      <td>WI</td>\n",
       "      <td>756</td>\n",
       "    </tr>\n",
       "    <tr>\n",
       "      <th>8</th>\n",
       "      <td>Neil Wagner</td>\n",
       "      <td>NZ</td>\n",
       "      <td>747</td>\n",
       "    </tr>\n",
       "    <tr>\n",
       "      <th>9</th>\n",
       "      <td>Mitchell Starc</td>\n",
       "      <td>AUS</td>\n",
       "      <td>739</td>\n",
       "    </tr>\n",
       "  </tbody>\n",
       "</table>\n",
       "</div>"
      ],
      "text/plain": [
       "               Players                    Teams Ratings\n",
       "0          Pat Cummins  AUS                         891\n",
       "1  Ravichandran Ashwin                      IND     842\n",
       "2       Shaheen Afridi                      PAK     828\n",
       "3       Jasprit Bumrah                      IND     828\n",
       "4        Kagiso Rabada                       SA     818\n",
       "5       James Anderson                      ENG     811\n",
       "6        Kyle Jamieson                       NZ     788\n",
       "7          Kemar Roach                       WI     756\n",
       "8          Neil Wagner                       NZ     747\n",
       "9       Mitchell Starc                      AUS     739"
      ]
     },
     "execution_count": 136,
     "metadata": {},
     "output_type": "execute_result"
    }
   ],
   "source": [
    "bowlers=pd.DataFrame({})\n",
    "bowlers['Players']=players[:10]\n",
    "bowlers['Teams']=teams[:10]\n",
    "bowlers['Ratings']=ratings[:10]\n",
    "bowlers"
   ]
  },
  {
   "cell_type": "markdown",
   "id": "35a16598",
   "metadata": {},
   "source": [
    "# 6. Write a python program to scrape cricket rankings from icc-cricket.com. You have to scrape:\n"
   ]
  },
  {
   "cell_type": "code",
   "execution_count": 137,
   "id": "271c2103",
   "metadata": {},
   "outputs": [
    {
     "data": {
      "text/plain": [
       "<Response [200]>"
      ]
     },
     "execution_count": 137,
     "metadata": {},
     "output_type": "execute_result"
    }
   ],
   "source": [
    "url=\"https://www.icc-cricket.com/rankings/womens/team-rankings/odi\"\n",
    "page_6a=requests.get(url)\n",
    "page_6a"
   ]
  },
  {
   "cell_type": "code",
   "execution_count": 138,
   "id": "ff467c1f",
   "metadata": {},
   "outputs": [],
   "source": [
    "soup=BeautifulSoup(page_6a.content)\n"
   ]
  },
  {
   "cell_type": "code",
   "execution_count": 139,
   "id": "24d1c1a0",
   "metadata": {},
   "outputs": [],
   "source": [
    "team=[]\n",
    "for i in soup.find_all(\"span\",class_=\"u-hide-phablet\"):\n",
    "    team.append(i.text)"
   ]
  },
  {
   "cell_type": "code",
   "execution_count": 140,
   "id": "6d23b6e5",
   "metadata": {},
   "outputs": [],
   "source": [
    "matches=[]\n",
    "for i in soup.find_all(\"td\",class_=\"rankings-block__banner--matches\"):\n",
    "    matches.append(i.text)\n",
    "    "
   ]
  },
  {
   "cell_type": "code",
   "execution_count": 141,
   "id": "04712c1e",
   "metadata": {},
   "outputs": [],
   "source": [
    "points=[]\n",
    "for i in soup.find_all(\"td\",class_=\"rankings-block__banner--points\"):\n",
    "    points.append(i.text)"
   ]
  },
  {
   "cell_type": "code",
   "execution_count": 145,
   "id": "d4f80886",
   "metadata": {},
   "outputs": [],
   "source": [
    "ratings=[]\n",
    "for i in soup.find_all(\"td\",class_=\"rankings-block__banner--rating u-text-right\"):\n",
    "    ratings.append(i.text.replace(\"\\n\",\"\"))\n",
    "    \n",
    "for i in soup.find_all(\"td\",class_=\"table-body__cell u-text-right rating\"):\n",
    "    ratings.append(i.text)"
   ]
  },
  {
   "cell_type": "code",
   "execution_count": 146,
   "id": "a69ddf18",
   "metadata": {},
   "outputs": [],
   "source": [
    "new_list=[]\n",
    "for i in soup.find_all(\"td\",class_=\"table-body__cell u-center-text\"):\n",
    "    new_list.append(i.text)"
   ]
  },
  {
   "cell_type": "code",
   "execution_count": 147,
   "id": "90f5a76a",
   "metadata": {},
   "outputs": [],
   "source": [
    "for i in range(0,len(new_list)-1,2):\n",
    "    matches.append(new_list[i])\n",
    "    points.append(new_list[i+1]) "
   ]
  },
  {
   "cell_type": "code",
   "execution_count": 148,
   "id": "4fa7241c",
   "metadata": {},
   "outputs": [
    {
     "data": {
      "text/html": [
       "<div>\n",
       "<style scoped>\n",
       "    .dataframe tbody tr th:only-of-type {\n",
       "        vertical-align: middle;\n",
       "    }\n",
       "\n",
       "    .dataframe tbody tr th {\n",
       "        vertical-align: top;\n",
       "    }\n",
       "\n",
       "    .dataframe thead th {\n",
       "        text-align: right;\n",
       "    }\n",
       "</style>\n",
       "<table border=\"1\" class=\"dataframe\">\n",
       "  <thead>\n",
       "    <tr style=\"text-align: right;\">\n",
       "      <th></th>\n",
       "      <th>Team</th>\n",
       "      <th>Matches</th>\n",
       "      <th>Points</th>\n",
       "      <th>Ratings</th>\n",
       "    </tr>\n",
       "  </thead>\n",
       "  <tbody>\n",
       "    <tr>\n",
       "      <th>0</th>\n",
       "      <td>Australia</td>\n",
       "      <td>29</td>\n",
       "      <td>4,837</td>\n",
       "      <td>167               ...</td>\n",
       "    </tr>\n",
       "    <tr>\n",
       "      <th>1</th>\n",
       "      <td>England</td>\n",
       "      <td>33</td>\n",
       "      <td>4,046</td>\n",
       "      <td>123</td>\n",
       "    </tr>\n",
       "    <tr>\n",
       "      <th>2</th>\n",
       "      <td>South Africa</td>\n",
       "      <td>35</td>\n",
       "      <td>4,157</td>\n",
       "      <td>119</td>\n",
       "    </tr>\n",
       "    <tr>\n",
       "      <th>3</th>\n",
       "      <td>India</td>\n",
       "      <td>32</td>\n",
       "      <td>3,219</td>\n",
       "      <td>101</td>\n",
       "    </tr>\n",
       "    <tr>\n",
       "      <th>4</th>\n",
       "      <td>New Zealand</td>\n",
       "      <td>31</td>\n",
       "      <td>3,019</td>\n",
       "      <td>97</td>\n",
       "    </tr>\n",
       "    <tr>\n",
       "      <th>5</th>\n",
       "      <td>West Indies</td>\n",
       "      <td>30</td>\n",
       "      <td>2,768</td>\n",
       "      <td>92</td>\n",
       "    </tr>\n",
       "    <tr>\n",
       "      <th>6</th>\n",
       "      <td>Bangladesh</td>\n",
       "      <td>12</td>\n",
       "      <td>930</td>\n",
       "      <td>78</td>\n",
       "    </tr>\n",
       "    <tr>\n",
       "      <th>7</th>\n",
       "      <td>Pakistan</td>\n",
       "      <td>30</td>\n",
       "      <td>1,962</td>\n",
       "      <td>65</td>\n",
       "    </tr>\n",
       "    <tr>\n",
       "      <th>8</th>\n",
       "      <td>Sri Lanka</td>\n",
       "      <td>11</td>\n",
       "      <td>495</td>\n",
       "      <td>45</td>\n",
       "    </tr>\n",
       "    <tr>\n",
       "      <th>9</th>\n",
       "      <td>Ireland</td>\n",
       "      <td>8</td>\n",
       "      <td>351</td>\n",
       "      <td>44</td>\n",
       "    </tr>\n",
       "  </tbody>\n",
       "</table>\n",
       "</div>"
      ],
      "text/plain": [
       "           Team Matches Points  \\\n",
       "0     Australia      29  4,837   \n",
       "1       England      33  4,046   \n",
       "2  South Africa      35  4,157   \n",
       "3         India      32  3,219   \n",
       "4   New Zealand      31  3,019   \n",
       "5   West Indies      30  2,768   \n",
       "6    Bangladesh      12    930   \n",
       "7      Pakistan      30  1,962   \n",
       "8     Sri Lanka      11    495   \n",
       "9       Ireland       8    351   \n",
       "\n",
       "                                             Ratings  \n",
       "0                              167               ...  \n",
       "1                                                123  \n",
       "2                                                119  \n",
       "3                                                101  \n",
       "4                                                 97  \n",
       "5                                                 92  \n",
       "6                                                 78  \n",
       "7                                                 65  \n",
       "8                                                 45  \n",
       "9                                                 44  "
      ]
     },
     "execution_count": 148,
     "metadata": {},
     "output_type": "execute_result"
    }
   ],
   "source": [
    "icc=pd.DataFrame({})\n",
    "icc['Team']=team[:10]\n",
    "icc['Matches']=matches[:10]\n",
    "icc['Points']=points[:10]\n",
    "icc['Ratings']=ratings[:10]\n",
    "icc"
   ]
  },
  {
   "cell_type": "markdown",
   "id": "c1c0a2f7",
   "metadata": {},
   "source": [
    "b) Top 10 women’s ODI Batting players along with the records of their team and rating."
   ]
  },
  {
   "cell_type": "code",
   "execution_count": 149,
   "id": "fafcad7c",
   "metadata": {},
   "outputs": [
    {
     "data": {
      "text/plain": [
       "<Response [200]>"
      ]
     },
     "execution_count": 149,
     "metadata": {},
     "output_type": "execute_result"
    }
   ],
   "source": [
    "url=\"https://www.icc-cricket.com/rankings/womens/player-rankings/odi/batting\"\n",
    "page_6b=requests.get(url)\n",
    "page_6b"
   ]
  },
  {
   "cell_type": "code",
   "execution_count": 150,
   "id": "182ab416",
   "metadata": {},
   "outputs": [],
   "source": [
    "soup=BeautifulSoup(page_6b.content)\n"
   ]
  },
  {
   "cell_type": "code",
   "execution_count": 153,
   "id": "f2de8f17",
   "metadata": {},
   "outputs": [],
   "source": [
    "players=[]\n",
    "for i in soup.find_all(\"div\",class_=\"rankings-block__banner--name-large\"):\n",
    "    players.append(i.text.replace(\"\\n\",\"\"))\n",
    "for i in soup.find_all(\"td\",class_=\"table-body__cell rankings-table__name name\"):\n",
    "    players.append(i.text.replace(\"\\n\",\"\"))"
   ]
  },
  {
   "cell_type": "code",
   "execution_count": 156,
   "id": "421a1eb7",
   "metadata": {},
   "outputs": [],
   "source": [
    "team=[]\n",
    "for i in soup.find_all(\"div\",class_=\"rankings-block__banner--nationality\"):\n",
    "    team.append(i.text.replace(\"\\n\",\"\"))\n",
    "for i in soup.find_all(\"span\",class_=\"table-body__logo-text\"):\n",
    "    team.append(i.text)"
   ]
  },
  {
   "cell_type": "code",
   "execution_count": 160,
   "id": "5b9f640c",
   "metadata": {},
   "outputs": [],
   "source": [
    "ratings=[]\n",
    "for i in soup.find_all(\"div\",class_=\"rankings-block__banner--rating\"):\n",
    "    ratings.append(i.text)\n",
    "for i in soup.find_all(\"td\",class_=\"table-body__cell rating\"):\n",
    "    ratings.append(i.text)"
   ]
  },
  {
   "cell_type": "code",
   "execution_count": 161,
   "id": "9e3f36bb",
   "metadata": {},
   "outputs": [
    {
     "data": {
      "text/html": [
       "<div>\n",
       "<style scoped>\n",
       "    .dataframe tbody tr th:only-of-type {\n",
       "        vertical-align: middle;\n",
       "    }\n",
       "\n",
       "    .dataframe tbody tr th {\n",
       "        vertical-align: top;\n",
       "    }\n",
       "\n",
       "    .dataframe thead th {\n",
       "        text-align: right;\n",
       "    }\n",
       "</style>\n",
       "<table border=\"1\" class=\"dataframe\">\n",
       "  <thead>\n",
       "    <tr style=\"text-align: right;\">\n",
       "      <th></th>\n",
       "      <th>Players</th>\n",
       "      <th>Team</th>\n",
       "      <th>Ratings</th>\n",
       "    </tr>\n",
       "  </thead>\n",
       "  <tbody>\n",
       "    <tr>\n",
       "      <th>0</th>\n",
       "      <td>Alyssa Healy</td>\n",
       "      <td>AUS</td>\n",
       "      <td>785</td>\n",
       "    </tr>\n",
       "    <tr>\n",
       "      <th>1</th>\n",
       "      <td>Beth Mooney</td>\n",
       "      <td>AUS</td>\n",
       "      <td>749</td>\n",
       "    </tr>\n",
       "    <tr>\n",
       "      <th>2</th>\n",
       "      <td>Natalie Sciver</td>\n",
       "      <td>ENG</td>\n",
       "      <td>747</td>\n",
       "    </tr>\n",
       "    <tr>\n",
       "      <th>3</th>\n",
       "      <td>Laura Wolvaardt</td>\n",
       "      <td>SA</td>\n",
       "      <td>732</td>\n",
       "    </tr>\n",
       "    <tr>\n",
       "      <th>4</th>\n",
       "      <td>Meg Lanning</td>\n",
       "      <td>AUS</td>\n",
       "      <td>710</td>\n",
       "    </tr>\n",
       "    <tr>\n",
       "      <th>5</th>\n",
       "      <td>Rachael Haynes</td>\n",
       "      <td>AUS</td>\n",
       "      <td>701</td>\n",
       "    </tr>\n",
       "    <tr>\n",
       "      <th>6</th>\n",
       "      <td>Amy Satterthwaite</td>\n",
       "      <td>NZ</td>\n",
       "      <td>681</td>\n",
       "    </tr>\n",
       "    <tr>\n",
       "      <th>7</th>\n",
       "      <td>Tammy Beaumont</td>\n",
       "      <td>ENG</td>\n",
       "      <td>667</td>\n",
       "    </tr>\n",
       "    <tr>\n",
       "      <th>8</th>\n",
       "      <td>Chamari Athapaththu</td>\n",
       "      <td>SL</td>\n",
       "      <td>655</td>\n",
       "    </tr>\n",
       "    <tr>\n",
       "      <th>9</th>\n",
       "      <td>Smriti Mandhana</td>\n",
       "      <td>IND</td>\n",
       "      <td>649</td>\n",
       "    </tr>\n",
       "  </tbody>\n",
       "</table>\n",
       "</div>"
      ],
      "text/plain": [
       "               Players                     Team Ratings\n",
       "0         Alyssa Healy  AUS                         785\n",
       "1          Beth Mooney                      AUS     749\n",
       "2       Natalie Sciver                      ENG     747\n",
       "3      Laura Wolvaardt                       SA     732\n",
       "4          Meg Lanning                      AUS     710\n",
       "5       Rachael Haynes                      AUS     701\n",
       "6    Amy Satterthwaite                       NZ     681\n",
       "7       Tammy Beaumont                      ENG     667\n",
       "8  Chamari Athapaththu                       SL     655\n",
       "9      Smriti Mandhana                      IND     649"
      ]
     },
     "execution_count": 161,
     "metadata": {},
     "output_type": "execute_result"
    }
   ],
   "source": [
    "Women_batting=pd.DataFrame({})\n",
    "Women_batting['Players']=players[:10]\n",
    "Women_batting['Team']=team[:10]\n",
    "Women_batting['Ratings']=ratings[:10]\n",
    "Women_batting"
   ]
  },
  {
   "cell_type": "markdown",
   "id": "77824b74",
   "metadata": {},
   "source": [
    "C) Top 10 women’s ODI all-rounder along with the records of their team and rating.\n",
    "\n"
   ]
  },
  {
   "cell_type": "code",
   "execution_count": 162,
   "id": "2cf1b619",
   "metadata": {},
   "outputs": [
    {
     "data": {
      "text/plain": [
       "<Response [200]>"
      ]
     },
     "execution_count": 162,
     "metadata": {},
     "output_type": "execute_result"
    }
   ],
   "source": [
    "url=\"https://www.icc-cricket.com/rankings/womens/player-rankings/odi/all-rounder\"\n",
    "page_6c=requests.get(url)\n",
    "page_6c"
   ]
  },
  {
   "cell_type": "code",
   "execution_count": 163,
   "id": "a73c46bb",
   "metadata": {},
   "outputs": [],
   "source": [
    "soup=BeautifulSoup(page_6c.content)\n"
   ]
  },
  {
   "cell_type": "code",
   "execution_count": 164,
   "id": "2a12e6ad",
   "metadata": {},
   "outputs": [],
   "source": [
    "players=[]\n",
    "for i in soup.find_all(\"div\",class_=\"rankings-block__banner--name-large\"):\n",
    "    players.append(i.text.replace(\"\\n\",\"\"))\n",
    "for i in soup.find_all(\"td\",class_=\"table-body__cell rankings-table__name name\"):\n",
    "    players.append(i.text.replace(\"\\n\",\"\"))"
   ]
  },
  {
   "cell_type": "code",
   "execution_count": 165,
   "id": "fd605aed",
   "metadata": {},
   "outputs": [],
   "source": [
    "team=[]\n",
    "for i in soup.find_all(\"div\",class_=\"rankings-block__banner--nationality\"):\n",
    "    team.append(i.text.replace(\"\\n\",\"\"))\n",
    "for i in soup.find_all(\"span\",class_=\"table-body__logo-text\"):\n",
    "    team.append(i.text)"
   ]
  },
  {
   "cell_type": "code",
   "execution_count": 166,
   "id": "c2ddbcad",
   "metadata": {},
   "outputs": [],
   "source": [
    "ratings=[]\n",
    "for i in soup.find_all(\"div\",class_=\"rankings-block__banner--rating\"):\n",
    "    ratings.append(i.text)\n",
    "for i in soup.find_all(\"td\",class_=\"table-body__cell rating\"):\n",
    "    ratings.append(i.text)"
   ]
  },
  {
   "cell_type": "code",
   "execution_count": 167,
   "id": "11344325",
   "metadata": {},
   "outputs": [
    {
     "data": {
      "text/html": [
       "<div>\n",
       "<style scoped>\n",
       "    .dataframe tbody tr th:only-of-type {\n",
       "        vertical-align: middle;\n",
       "    }\n",
       "\n",
       "    .dataframe tbody tr th {\n",
       "        vertical-align: top;\n",
       "    }\n",
       "\n",
       "    .dataframe thead th {\n",
       "        text-align: right;\n",
       "    }\n",
       "</style>\n",
       "<table border=\"1\" class=\"dataframe\">\n",
       "  <thead>\n",
       "    <tr style=\"text-align: right;\">\n",
       "      <th></th>\n",
       "      <th>Players</th>\n",
       "      <th>Country</th>\n",
       "      <th>Ratings</th>\n",
       "    </tr>\n",
       "  </thead>\n",
       "  <tbody>\n",
       "    <tr>\n",
       "      <th>0</th>\n",
       "      <td>Natalie Sciver</td>\n",
       "      <td>ENG</td>\n",
       "      <td>379</td>\n",
       "    </tr>\n",
       "    <tr>\n",
       "      <th>1</th>\n",
       "      <td>Ellyse Perry</td>\n",
       "      <td>AUS</td>\n",
       "      <td>374</td>\n",
       "    </tr>\n",
       "    <tr>\n",
       "      <th>2</th>\n",
       "      <td>Marizanne Kapp</td>\n",
       "      <td>SA</td>\n",
       "      <td>349</td>\n",
       "    </tr>\n",
       "    <tr>\n",
       "      <th>3</th>\n",
       "      <td>Hayley Matthews</td>\n",
       "      <td>WI</td>\n",
       "      <td>339</td>\n",
       "    </tr>\n",
       "    <tr>\n",
       "      <th>4</th>\n",
       "      <td>Amelia Kerr</td>\n",
       "      <td>NZ</td>\n",
       "      <td>336</td>\n",
       "    </tr>\n",
       "    <tr>\n",
       "      <th>5</th>\n",
       "      <td>Ashleigh Gardner</td>\n",
       "      <td>AUS</td>\n",
       "      <td>270</td>\n",
       "    </tr>\n",
       "    <tr>\n",
       "      <th>6</th>\n",
       "      <td>Deepti Sharma</td>\n",
       "      <td>IND</td>\n",
       "      <td>252</td>\n",
       "    </tr>\n",
       "    <tr>\n",
       "      <th>7</th>\n",
       "      <td>Jess Jonassen</td>\n",
       "      <td>AUS</td>\n",
       "      <td>246</td>\n",
       "    </tr>\n",
       "    <tr>\n",
       "      <th>8</th>\n",
       "      <td>Katherine Brunt</td>\n",
       "      <td>ENG</td>\n",
       "      <td>220</td>\n",
       "    </tr>\n",
       "    <tr>\n",
       "      <th>9</th>\n",
       "      <td>Stafanie Taylor</td>\n",
       "      <td>WI</td>\n",
       "      <td>207</td>\n",
       "    </tr>\n",
       "  </tbody>\n",
       "</table>\n",
       "</div>"
      ],
      "text/plain": [
       "            Players                  Country Ratings\n",
       "0    Natalie Sciver  ENG                         379\n",
       "1      Ellyse Perry                      AUS     374\n",
       "2    Marizanne Kapp                       SA     349\n",
       "3   Hayley Matthews                       WI     339\n",
       "4       Amelia Kerr                       NZ     336\n",
       "5  Ashleigh Gardner                      AUS     270\n",
       "6     Deepti Sharma                      IND     252\n",
       "7     Jess Jonassen                      AUS     246\n",
       "8   Katherine Brunt                      ENG     220\n",
       "9   Stafanie Taylor                       WI     207"
      ]
     },
     "execution_count": 167,
     "metadata": {},
     "output_type": "execute_result"
    }
   ],
   "source": [
    "Women_all_rounder=pd.DataFrame({})\n",
    "Women_all_rounder['Players']=players[:10]\n",
    "Women_all_rounder['Country']=team[:10]\n",
    "Women_all_rounder['Ratings']=ratings[:10]\n",
    "Women_all_rounder"
   ]
  },
  {
   "cell_type": "markdown",
   "id": "38cabecf",
   "metadata": {},
   "source": [
    "# 7. Write a python program to scrape mentioned news details from https://www.cnbc.com/world/?region=world :"
   ]
  },
  {
   "cell_type": "markdown",
   "id": "83104a5e",
   "metadata": {},
   "source": [
    "A) Headline\n",
    "\n",
    "B) Time\n",
    "\n",
    "C) News Link\n",
    "\n"
   ]
  },
  {
   "cell_type": "code",
   "execution_count": 168,
   "id": "c12934d2",
   "metadata": {},
   "outputs": [
    {
     "data": {
      "text/plain": [
       "<Response [200]>"
      ]
     },
     "execution_count": 168,
     "metadata": {},
     "output_type": "execute_result"
    }
   ],
   "source": [
    "url=\"https://www.cnbc.com/world/?region=world\"\n",
    "page_7=requests.get(url)\n",
    "page_7"
   ]
  },
  {
   "cell_type": "code",
   "execution_count": 169,
   "id": "f375b222",
   "metadata": {},
   "outputs": [],
   "source": [
    "soup=BeautifulSoup(page_7.content)\n"
   ]
  },
  {
   "cell_type": "code",
   "execution_count": 170,
   "id": "c8ea9bb7",
   "metadata": {},
   "outputs": [],
   "source": [
    "Headline=[]\n",
    "for i in soup.find_all(\"div\",class_=\"LatestNews-container\"):\n",
    "    for j in i.find_all(\"a\",class_=\"LatestNews-headline\"):\n",
    "        Headline.append(j.text)"
   ]
  },
  {
   "cell_type": "code",
   "execution_count": 171,
   "id": "33d93988",
   "metadata": {},
   "outputs": [],
   "source": [
    "Time=[]\n",
    "for i in soup.find_all(\"span\",class_=\"LatestNews-wrapper\"):\n",
    "    Time.append(i.text)"
   ]
  },
  {
   "cell_type": "code",
   "execution_count": 174,
   "id": "b1a61594",
   "metadata": {},
   "outputs": [],
   "source": [
    "News_link=[]\n",
    "for i in soup.find_all(\"a\",class_=\"LatestNews-headline\"):\n",
    "    News_link.append(i.get(\"href\"))"
   ]
  },
  {
   "cell_type": "code",
   "execution_count": 175,
   "id": "cfe7e876",
   "metadata": {},
   "outputs": [
    {
     "data": {
      "text/html": [
       "<div>\n",
       "<style scoped>\n",
       "    .dataframe tbody tr th:only-of-type {\n",
       "        vertical-align: middle;\n",
       "    }\n",
       "\n",
       "    .dataframe tbody tr th {\n",
       "        vertical-align: top;\n",
       "    }\n",
       "\n",
       "    .dataframe thead th {\n",
       "        text-align: right;\n",
       "    }\n",
       "</style>\n",
       "<table border=\"1\" class=\"dataframe\">\n",
       "  <thead>\n",
       "    <tr style=\"text-align: right;\">\n",
       "      <th></th>\n",
       "      <th>Headline</th>\n",
       "      <th>Time</th>\n",
       "      <th>News_link</th>\n",
       "    </tr>\n",
       "  </thead>\n",
       "  <tbody>\n",
       "    <tr>\n",
       "      <th>0</th>\n",
       "      <td>The best and worst places to live in the world...</td>\n",
       "      <td>41 Min Ago</td>\n",
       "      <td>https://www.cnbc.com/2022/08/07/global-liveabi...</td>\n",
       "    </tr>\n",
       "    <tr>\n",
       "      <th>1</th>\n",
       "      <td>George Clooney had tequila, Ryan Reynolds gin....</td>\n",
       "      <td>3 Hours Ago</td>\n",
       "      <td>https://www.cnbc.com/2022/08/07/george-clooney...</td>\n",
       "    </tr>\n",
       "    <tr>\n",
       "      <th>2</th>\n",
       "      <td>9 corporate leaders share their best hacks for...</td>\n",
       "      <td>3 Hours Ago</td>\n",
       "      <td>https://www.cnbc.com/2022/08/07/9-busy-people-...</td>\n",
       "    </tr>\n",
       "    <tr>\n",
       "      <th>3</th>\n",
       "      <td>Bethenny Frankel: The most successful people h...</td>\n",
       "      <td>4 Hours Ago</td>\n",
       "      <td>https://www.cnbc.com/2022/08/07/bethenny-frank...</td>\n",
       "    </tr>\n",
       "    <tr>\n",
       "      <th>4</th>\n",
       "      <td>The 7 states with the least credit card debt</td>\n",
       "      <td>4 Hours Ago</td>\n",
       "      <td>https://www.cnbc.com/2022/08/07/states-with-th...</td>\n",
       "    </tr>\n",
       "    <tr>\n",
       "      <th>5</th>\n",
       "      <td>Albemarle beats estimates on lithium prices, C...</td>\n",
       "      <td>4 Hours Ago</td>\n",
       "      <td>https://www.cnbc.com/2022/08/07/lithium-is-key...</td>\n",
       "    </tr>\n",
       "    <tr>\n",
       "      <th>6</th>\n",
       "      <td>These stocks are best positioned to weather a ...</td>\n",
       "      <td>4 Hours Ago</td>\n",
       "      <td>https://www.cnbc.com/2022/08/07/these-stocks-a...</td>\n",
       "    </tr>\n",
       "    <tr>\n",
       "      <th>7</th>\n",
       "      <td>Strong returns are hard to find in 2022. Three...</td>\n",
       "      <td>5 Hours Ago</td>\n",
       "      <td>https://www.cnbc.com/2022/08/07/strong-returns...</td>\n",
       "    </tr>\n",
       "    <tr>\n",
       "      <th>8</th>\n",
       "      <td>Some consumers are cutting back on restaurant ...</td>\n",
       "      <td>5 Hours Ago</td>\n",
       "      <td>https://www.cnbc.com/2022/08/07/consumers-are-...</td>\n",
       "    </tr>\n",
       "    <tr>\n",
       "      <th>9</th>\n",
       "      <td>Climate change is making some homes to costly ...</td>\n",
       "      <td>5 Hours Ago</td>\n",
       "      <td>https://www.cnbc.com/2022/08/07/climate-change...</td>\n",
       "    </tr>\n",
       "    <tr>\n",
       "      <th>10</th>\n",
       "      <td>Why creating a horror movie haven on Netflix m...</td>\n",
       "      <td>6 Hours Ago</td>\n",
       "      <td>https://www.cnbc.com/2022/08/07/netflix-may-be...</td>\n",
       "    </tr>\n",
       "    <tr>\n",
       "      <th>11</th>\n",
       "      <td>Elon Musk challenges Twitter CEO Parag Agrawal...</td>\n",
       "      <td>20 Hours Ago</td>\n",
       "      <td>https://www.cnbc.com/2022/08/06/elon-musk-chal...</td>\n",
       "    </tr>\n",
       "    <tr>\n",
       "      <th>12</th>\n",
       "      <td>Large Indiana employers Eli Lilly and Cummins ...</td>\n",
       "      <td>21 Hours Ago</td>\n",
       "      <td>https://www.cnbc.com/2022/08/06/eli-lilly-says...</td>\n",
       "    </tr>\n",
       "    <tr>\n",
       "      <th>13</th>\n",
       "      <td>Czech prince raises $300,000 in NFTs to restor...</td>\n",
       "      <td>23 Hours Ago</td>\n",
       "      <td>https://www.cnbc.com/2022/08/06/27-year-old-bo...</td>\n",
       "    </tr>\n",
       "    <tr>\n",
       "      <th>14</th>\n",
       "      <td>President Joe Biden tests negative for Covid-1...</td>\n",
       "      <td>24 Hours Ago</td>\n",
       "      <td>https://www.cnbc.com/2022/08/06/president-joe-...</td>\n",
       "    </tr>\n",
       "    <tr>\n",
       "      <th>15</th>\n",
       "      <td>Fed Governor Bowman sees 'similarly sized' int...</td>\n",
       "      <td>August 6, 2022</td>\n",
       "      <td>https://www.cnbc.com/2022/08/06/fed-governor-b...</td>\n",
       "    </tr>\n",
       "    <tr>\n",
       "      <th>16</th>\n",
       "      <td>This 39-year-old makes $160K/month in passive ...</td>\n",
       "      <td>August 6, 2022</td>\n",
       "      <td>https://www.cnbc.com/2022/08/06/this-39-year-o...</td>\n",
       "    </tr>\n",
       "    <tr>\n",
       "      <th>17</th>\n",
       "      <td>Most of Buffett’s portfolio is tied up in just...</td>\n",
       "      <td>August 6, 2022</td>\n",
       "      <td>https://www.cnbc.com/2022/08/06/most-of-warren...</td>\n",
       "    </tr>\n",
       "    <tr>\n",
       "      <th>18</th>\n",
       "      <td>5 tips for cutting down on credit card costs a...</td>\n",
       "      <td>August 6, 2022</td>\n",
       "      <td>https://www.cnbc.com/2022/08/06/how-to-curb-cr...</td>\n",
       "    </tr>\n",
       "    <tr>\n",
       "      <th>19</th>\n",
       "      <td>This 41-year-old left the U.S. for Bangkok and...</td>\n",
       "      <td>August 6, 2022</td>\n",
       "      <td>https://www.cnbc.com/2022/08/06/this-digital-n...</td>\n",
       "    </tr>\n",
       "    <tr>\n",
       "      <th>20</th>\n",
       "      <td>It's time to cash in on these attractive stock...</td>\n",
       "      <td>August 6, 2022</td>\n",
       "      <td>https://www.cnbc.com/2022/08/06/goldman-analys...</td>\n",
       "    </tr>\n",
       "    <tr>\n",
       "      <th>21</th>\n",
       "      <td>Here's why getting fired from a job you hate c...</td>\n",
       "      <td>August 6, 2022</td>\n",
       "      <td>https://www.cnbc.com/2022/08/06/therapist-gett...</td>\n",
       "    </tr>\n",
       "    <tr>\n",
       "      <th>22</th>\n",
       "      <td>'Stressed out' STD clinics struggle with surge...</td>\n",
       "      <td>August 6, 2022</td>\n",
       "      <td>https://www.cnbc.com/2022/08/06/monkeypox-std-...</td>\n",
       "    </tr>\n",
       "    <tr>\n",
       "      <th>23</th>\n",
       "      <td>Want to build generational wealth? Avoid these...</td>\n",
       "      <td>August 6, 2022</td>\n",
       "      <td>https://www.cnbc.com/2022/08/06/building-gener...</td>\n",
       "    </tr>\n",
       "    <tr>\n",
       "      <th>24</th>\n",
       "      <td>A.I.-powered drug hunters are nearing a pivota...</td>\n",
       "      <td>August 6, 2022</td>\n",
       "      <td>https://www.cnbc.com/2022/08/06/ai-powered-dru...</td>\n",
       "    </tr>\n",
       "    <tr>\n",
       "      <th>25</th>\n",
       "      <td>The 2022 stock market doesn't have to repeat —...</td>\n",
       "      <td>August 6, 2022</td>\n",
       "      <td>https://www.cnbc.com/2022/08/06/the-2022-stock...</td>\n",
       "    </tr>\n",
       "    <tr>\n",
       "      <th>26</th>\n",
       "      <td>Berkshire reports operating earnings surge, bu...</td>\n",
       "      <td>August 6, 2022</td>\n",
       "      <td>https://www.cnbc.com/2022/08/06/berkshire-hath...</td>\n",
       "    </tr>\n",
       "    <tr>\n",
       "      <th>27</th>\n",
       "      <td>Why the best states for business may be the wo...</td>\n",
       "      <td>August 6, 2022</td>\n",
       "      <td>https://www.cnbc.com/2022/08/06/state-worker-p...</td>\n",
       "    </tr>\n",
       "    <tr>\n",
       "      <th>28</th>\n",
       "      <td>Higher prices, skimpier portions and apps — ho...</td>\n",
       "      <td>August 6, 2022</td>\n",
       "      <td>https://www.cnbc.com/2022/08/06/higher-prices-...</td>\n",
       "    </tr>\n",
       "    <tr>\n",
       "      <th>29</th>\n",
       "      <td>What to know before 'unretiring' if you're on ...</td>\n",
       "      <td>August 6, 2022</td>\n",
       "      <td>https://www.cnbc.com/2022/08/06/social-securit...</td>\n",
       "    </tr>\n",
       "  </tbody>\n",
       "</table>\n",
       "</div>"
      ],
      "text/plain": [
       "                                             Headline            Time  \\\n",
       "0   The best and worst places to live in the world...      41 Min Ago   \n",
       "1   George Clooney had tequila, Ryan Reynolds gin....     3 Hours Ago   \n",
       "2   9 corporate leaders share their best hacks for...     3 Hours Ago   \n",
       "3   Bethenny Frankel: The most successful people h...     4 Hours Ago   \n",
       "4       The 7 states with the least credit card debt      4 Hours Ago   \n",
       "5   Albemarle beats estimates on lithium prices, C...     4 Hours Ago   \n",
       "6   These stocks are best positioned to weather a ...     4 Hours Ago   \n",
       "7   Strong returns are hard to find in 2022. Three...     5 Hours Ago   \n",
       "8   Some consumers are cutting back on restaurant ...     5 Hours Ago   \n",
       "9   Climate change is making some homes to costly ...     5 Hours Ago   \n",
       "10  Why creating a horror movie haven on Netflix m...     6 Hours Ago   \n",
       "11  Elon Musk challenges Twitter CEO Parag Agrawal...    20 Hours Ago   \n",
       "12  Large Indiana employers Eli Lilly and Cummins ...    21 Hours Ago   \n",
       "13  Czech prince raises $300,000 in NFTs to restor...    23 Hours Ago   \n",
       "14  President Joe Biden tests negative for Covid-1...    24 Hours Ago   \n",
       "15  Fed Governor Bowman sees 'similarly sized' int...  August 6, 2022   \n",
       "16  This 39-year-old makes $160K/month in passive ...  August 6, 2022   \n",
       "17  Most of Buffett’s portfolio is tied up in just...  August 6, 2022   \n",
       "18  5 tips for cutting down on credit card costs a...  August 6, 2022   \n",
       "19  This 41-year-old left the U.S. for Bangkok and...  August 6, 2022   \n",
       "20  It's time to cash in on these attractive stock...  August 6, 2022   \n",
       "21  Here's why getting fired from a job you hate c...  August 6, 2022   \n",
       "22  'Stressed out' STD clinics struggle with surge...  August 6, 2022   \n",
       "23  Want to build generational wealth? Avoid these...  August 6, 2022   \n",
       "24  A.I.-powered drug hunters are nearing a pivota...  August 6, 2022   \n",
       "25  The 2022 stock market doesn't have to repeat —...  August 6, 2022   \n",
       "26  Berkshire reports operating earnings surge, bu...  August 6, 2022   \n",
       "27  Why the best states for business may be the wo...  August 6, 2022   \n",
       "28  Higher prices, skimpier portions and apps — ho...  August 6, 2022   \n",
       "29  What to know before 'unretiring' if you're on ...  August 6, 2022   \n",
       "\n",
       "                                            News_link  \n",
       "0   https://www.cnbc.com/2022/08/07/global-liveabi...  \n",
       "1   https://www.cnbc.com/2022/08/07/george-clooney...  \n",
       "2   https://www.cnbc.com/2022/08/07/9-busy-people-...  \n",
       "3   https://www.cnbc.com/2022/08/07/bethenny-frank...  \n",
       "4   https://www.cnbc.com/2022/08/07/states-with-th...  \n",
       "5   https://www.cnbc.com/2022/08/07/lithium-is-key...  \n",
       "6   https://www.cnbc.com/2022/08/07/these-stocks-a...  \n",
       "7   https://www.cnbc.com/2022/08/07/strong-returns...  \n",
       "8   https://www.cnbc.com/2022/08/07/consumers-are-...  \n",
       "9   https://www.cnbc.com/2022/08/07/climate-change...  \n",
       "10  https://www.cnbc.com/2022/08/07/netflix-may-be...  \n",
       "11  https://www.cnbc.com/2022/08/06/elon-musk-chal...  \n",
       "12  https://www.cnbc.com/2022/08/06/eli-lilly-says...  \n",
       "13  https://www.cnbc.com/2022/08/06/27-year-old-bo...  \n",
       "14  https://www.cnbc.com/2022/08/06/president-joe-...  \n",
       "15  https://www.cnbc.com/2022/08/06/fed-governor-b...  \n",
       "16  https://www.cnbc.com/2022/08/06/this-39-year-o...  \n",
       "17  https://www.cnbc.com/2022/08/06/most-of-warren...  \n",
       "18  https://www.cnbc.com/2022/08/06/how-to-curb-cr...  \n",
       "19  https://www.cnbc.com/2022/08/06/this-digital-n...  \n",
       "20  https://www.cnbc.com/2022/08/06/goldman-analys...  \n",
       "21  https://www.cnbc.com/2022/08/06/therapist-gett...  \n",
       "22  https://www.cnbc.com/2022/08/06/monkeypox-std-...  \n",
       "23  https://www.cnbc.com/2022/08/06/building-gener...  \n",
       "24  https://www.cnbc.com/2022/08/06/ai-powered-dru...  \n",
       "25  https://www.cnbc.com/2022/08/06/the-2022-stock...  \n",
       "26  https://www.cnbc.com/2022/08/06/berkshire-hath...  \n",
       "27  https://www.cnbc.com/2022/08/06/state-worker-p...  \n",
       "28  https://www.cnbc.com/2022/08/06/higher-prices-...  \n",
       "29  https://www.cnbc.com/2022/08/06/social-securit...  "
      ]
     },
     "execution_count": 175,
     "metadata": {},
     "output_type": "execute_result"
    }
   ],
   "source": [
    "News=pd.DataFrame({})\n",
    "News['Headline']=Headline\n",
    "News['Time']=Time\n",
    "News['News_link']=News_link\n",
    "News"
   ]
  },
  {
   "cell_type": "markdown",
   "id": "d2d9f333",
   "metadata": {},
   "source": [
    "# 8. Write a python program to scrape the details of most downloaded articles from AI in last 90 days.\n"
   ]
  },
  {
   "cell_type": "markdown",
   "id": "7287cd28",
   "metadata": {},
   "source": [
    "https://www.journals.elsevier.com/artificial-intelligence/most-downloaded-articles Scrape below mentioned details :\n",
    "\n",
    "i) Paper Title\n",
    "\n",
    "ii) Authors\n",
    "\n",
    "iii) Published Date\n",
    "\n",
    "iv) Paper URL"
   ]
  },
  {
   "cell_type": "code",
   "execution_count": 176,
   "id": "c47be061",
   "metadata": {},
   "outputs": [
    {
     "data": {
      "text/plain": [
       "<Response [200]>"
      ]
     },
     "execution_count": 176,
     "metadata": {},
     "output_type": "execute_result"
    }
   ],
   "source": [
    "url=\"https://www.journals.elsevier.com/artificial-intelligence/most-downloaded-articles\"\n",
    "page_8=requests.get(url)\n",
    "page_8"
   ]
  },
  {
   "cell_type": "code",
   "execution_count": 177,
   "id": "0d9a22ce",
   "metadata": {},
   "outputs": [],
   "source": [
    "soup=BeautifulSoup(page_8.content)\n"
   ]
  },
  {
   "cell_type": "code",
   "execution_count": 181,
   "id": "c17eee08",
   "metadata": {},
   "outputs": [],
   "source": [
    "Paper_Title=[]\n",
    "for i in soup.find_all(\"a\",class_=\"sc-5smygv-0 nrDZj\"):\n",
    "    Paper_Title.append(i.text)\n"
   ]
  },
  {
   "cell_type": "code",
   "execution_count": 182,
   "id": "6b8d30e6",
   "metadata": {},
   "outputs": [],
   "source": [
    "Authors=[]\n",
    "for i in soup.find_all(\"span\",class_=\"sc-1w3fpd7-0 pgLAT\"):\n",
    "    Authors.append(i.text)"
   ]
  },
  {
   "cell_type": "code",
   "execution_count": 183,
   "id": "90627cf0",
   "metadata": {},
   "outputs": [],
   "source": [
    "Published_Date=[]\n",
    "for i in soup.find_all(\"span\",class_=\"sc-1thf9ly-2 bKddwo\"):\n",
    "     Published_Date.append(i.text)"
   ]
  },
  {
   "cell_type": "code",
   "execution_count": 184,
   "id": "784094a1",
   "metadata": {},
   "outputs": [],
   "source": [
    "Paper_URL=[]\n",
    "for i in soup.find_all(\"a\",class_=\"sc-5smygv-0 nrDZj\"):\n",
    "    Paper_URL.append(i.get(\"href\"))"
   ]
  },
  {
   "cell_type": "code",
   "execution_count": 185,
   "id": "0604a85f",
   "metadata": {},
   "outputs": [
    {
     "data": {
      "text/html": [
       "<div>\n",
       "<style scoped>\n",
       "    .dataframe tbody tr th:only-of-type {\n",
       "        vertical-align: middle;\n",
       "    }\n",
       "\n",
       "    .dataframe tbody tr th {\n",
       "        vertical-align: top;\n",
       "    }\n",
       "\n",
       "    .dataframe thead th {\n",
       "        text-align: right;\n",
       "    }\n",
       "</style>\n",
       "<table border=\"1\" class=\"dataframe\">\n",
       "  <thead>\n",
       "    <tr style=\"text-align: right;\">\n",
       "      <th></th>\n",
       "      <th>Paper Title</th>\n",
       "      <th>Authors</th>\n",
       "      <th>Published Date</th>\n",
       "      <th>Paper URL</th>\n",
       "    </tr>\n",
       "  </thead>\n",
       "  <tbody>\n",
       "    <tr>\n",
       "      <th>0</th>\n",
       "      <td>Reward is enough</td>\n",
       "      <td>Silver, David, Singh, Satinder, Precup, Doina,...</td>\n",
       "      <td>October 2021</td>\n",
       "      <td>https://www.sciencedirect.com/science/article/...</td>\n",
       "    </tr>\n",
       "    <tr>\n",
       "      <th>1</th>\n",
       "      <td>Making sense of raw input</td>\n",
       "      <td>Evans, Richard, Bošnjak, Matko and 5 more</td>\n",
       "      <td>October 2021</td>\n",
       "      <td>https://www.sciencedirect.com/science/article/...</td>\n",
       "    </tr>\n",
       "    <tr>\n",
       "      <th>2</th>\n",
       "      <td>Law and logic: A review from an argumentation ...</td>\n",
       "      <td>Prakken, Henry, Sartor, Giovanni</td>\n",
       "      <td>October 2015</td>\n",
       "      <td>https://www.sciencedirect.com/science/article/...</td>\n",
       "    </tr>\n",
       "    <tr>\n",
       "      <th>3</th>\n",
       "      <td>Creativity and artificial intelligence</td>\n",
       "      <td>Boden, Margaret A.</td>\n",
       "      <td>August 1998</td>\n",
       "      <td>https://www.sciencedirect.com/science/article/...</td>\n",
       "    </tr>\n",
       "    <tr>\n",
       "      <th>4</th>\n",
       "      <td>Artificial cognition for social human–robot in...</td>\n",
       "      <td>Lemaignan, Séverin, Warnier, Mathieu and 3 more</td>\n",
       "      <td>June 2017</td>\n",
       "      <td>https://www.sciencedirect.com/science/article/...</td>\n",
       "    </tr>\n",
       "    <tr>\n",
       "      <th>5</th>\n",
       "      <td>Explanation in artificial intelligence: Insigh...</td>\n",
       "      <td>Miller, Tim</td>\n",
       "      <td>February 2019</td>\n",
       "      <td>https://www.sciencedirect.com/science/article/...</td>\n",
       "    </tr>\n",
       "    <tr>\n",
       "      <th>6</th>\n",
       "      <td>Making sense of sensory input</td>\n",
       "      <td>Evans, Richard, Hernández-Orallo, José and 3 more</td>\n",
       "      <td>April 2021</td>\n",
       "      <td>https://www.sciencedirect.com/science/article/...</td>\n",
       "    </tr>\n",
       "    <tr>\n",
       "      <th>7</th>\n",
       "      <td>Conflict-based search for optimal multi-agent ...</td>\n",
       "      <td>Sharon, Guni, Stern, Roni, Felner, Ariel, Stur...</td>\n",
       "      <td>February 2015</td>\n",
       "      <td>https://www.sciencedirect.com/science/article/...</td>\n",
       "    </tr>\n",
       "    <tr>\n",
       "      <th>8</th>\n",
       "      <td>Between MDPs and semi-MDPs: A framework for te...</td>\n",
       "      <td>Sutton, Richard S., Precup, Doina, Singh, Sati...</td>\n",
       "      <td>August 1999</td>\n",
       "      <td>https://www.sciencedirect.com/science/article/...</td>\n",
       "    </tr>\n",
       "    <tr>\n",
       "      <th>9</th>\n",
       "      <td>The Hanabi challenge: A new frontier for AI re...</td>\n",
       "      <td>Bard, Nolan, Foerster, Jakob N. and 13 more</td>\n",
       "      <td>March 2020</td>\n",
       "      <td>https://www.sciencedirect.com/science/article/...</td>\n",
       "    </tr>\n",
       "    <tr>\n",
       "      <th>10</th>\n",
       "      <td>Evaluating XAI: A comparison of rule-based and...</td>\n",
       "      <td>van der Waa, Jasper, Nieuwburg, Elisabeth, Cre...</td>\n",
       "      <td>February 2021</td>\n",
       "      <td>https://www.sciencedirect.com/science/article/...</td>\n",
       "    </tr>\n",
       "    <tr>\n",
       "      <th>11</th>\n",
       "      <td>Argumentation in artificial intelligence</td>\n",
       "      <td>Bench-Capon, T.J.M., Dunne, Paul E.</td>\n",
       "      <td>October 2007</td>\n",
       "      <td>https://www.sciencedirect.com/science/article/...</td>\n",
       "    </tr>\n",
       "    <tr>\n",
       "      <th>12</th>\n",
       "      <td>Algorithms for computing strategies in two-pla...</td>\n",
       "      <td>Bošanský, Branislav, Lisý, Viliam and 3 more</td>\n",
       "      <td>August 2016</td>\n",
       "      <td>https://www.sciencedirect.com/science/article/...</td>\n",
       "    </tr>\n",
       "    <tr>\n",
       "      <th>13</th>\n",
       "      <td>Multiple object tracking: A literature review</td>\n",
       "      <td>Luo, Wenhan, Xing, Junliang and 4 more</td>\n",
       "      <td>April 2021</td>\n",
       "      <td>https://www.sciencedirect.com/science/article/...</td>\n",
       "    </tr>\n",
       "    <tr>\n",
       "      <th>14</th>\n",
       "      <td>Selection of relevant features and examples in...</td>\n",
       "      <td>Blum, Avrim L., Langley, Pat</td>\n",
       "      <td>December 1997</td>\n",
       "      <td>https://www.sciencedirect.com/science/article/...</td>\n",
       "    </tr>\n",
       "    <tr>\n",
       "      <th>15</th>\n",
       "      <td>A survey of inverse reinforcement learning: Ch...</td>\n",
       "      <td>Arora, Saurabh, Doshi, Prashant</td>\n",
       "      <td>August 2021</td>\n",
       "      <td>https://www.sciencedirect.com/science/article/...</td>\n",
       "    </tr>\n",
       "    <tr>\n",
       "      <th>16</th>\n",
       "      <td>Explaining individual predictions when feature...</td>\n",
       "      <td>Aas, Kjersti, Jullum, Martin, Løland, Anders</td>\n",
       "      <td>September 2021</td>\n",
       "      <td>https://www.sciencedirect.com/science/article/...</td>\n",
       "    </tr>\n",
       "    <tr>\n",
       "      <th>17</th>\n",
       "      <td>A review of possible effects of cognitive bias...</td>\n",
       "      <td>Kliegr, Tomáš, Bahník, Štěpán, Fürnkranz, Joha...</td>\n",
       "      <td>June 2021</td>\n",
       "      <td>https://www.sciencedirect.com/science/article/...</td>\n",
       "    </tr>\n",
       "    <tr>\n",
       "      <th>18</th>\n",
       "      <td>Integrating social power into the decision-mak...</td>\n",
       "      <td>Pereira, Gonçalo, Prada, Rui, Santos, Pedro A.</td>\n",
       "      <td>December 2016</td>\n",
       "      <td>https://www.sciencedirect.com/science/article/...</td>\n",
       "    </tr>\n",
       "    <tr>\n",
       "      <th>19</th>\n",
       "      <td>“That's (not) the output I expected!” On the r...</td>\n",
       "      <td>Riveiro, Maria, Thill, Serge</td>\n",
       "      <td>September 2021</td>\n",
       "      <td>https://www.sciencedirect.com/science/article/...</td>\n",
       "    </tr>\n",
       "    <tr>\n",
       "      <th>20</th>\n",
       "      <td>Explaining black-box classifiers using post-ho...</td>\n",
       "      <td>Kenny, Eoin M., Ford, Courtney, Quinn, Molly, ...</td>\n",
       "      <td>May 2021</td>\n",
       "      <td>https://www.sciencedirect.com/science/article/...</td>\n",
       "    </tr>\n",
       "    <tr>\n",
       "      <th>21</th>\n",
       "      <td>Algorithm runtime prediction: Methods &amp; evalua...</td>\n",
       "      <td>Hutter, Frank, Xu, Lin, Hoos, Holger H., Leyto...</td>\n",
       "      <td>January 2014</td>\n",
       "      <td>https://www.sciencedirect.com/science/article/...</td>\n",
       "    </tr>\n",
       "    <tr>\n",
       "      <th>22</th>\n",
       "      <td>Wrappers for feature subset selection</td>\n",
       "      <td>Kohavi, Ron, John, George H.</td>\n",
       "      <td>December 1997</td>\n",
       "      <td>https://www.sciencedirect.com/science/article/...</td>\n",
       "    </tr>\n",
       "    <tr>\n",
       "      <th>23</th>\n",
       "      <td>Commonsense visual sensemaking for autonomous ...</td>\n",
       "      <td>Suchan, Jakob, Bhatt, Mehul, Varadarajan, Srik...</td>\n",
       "      <td>October 2021</td>\n",
       "      <td>https://www.sciencedirect.com/science/article/...</td>\n",
       "    </tr>\n",
       "    <tr>\n",
       "      <th>24</th>\n",
       "      <td>Quantum computation, quantum theory and AI</td>\n",
       "      <td>Ying, Mingsheng</td>\n",
       "      <td>February 2010</td>\n",
       "      <td>https://www.sciencedirect.com/science/article/...</td>\n",
       "    </tr>\n",
       "  </tbody>\n",
       "</table>\n",
       "</div>"
      ],
      "text/plain": [
       "                                          Paper Title  \\\n",
       "0                                    Reward is enough   \n",
       "1                           Making sense of raw input   \n",
       "2   Law and logic: A review from an argumentation ...   \n",
       "3              Creativity and artificial intelligence   \n",
       "4   Artificial cognition for social human–robot in...   \n",
       "5   Explanation in artificial intelligence: Insigh...   \n",
       "6                       Making sense of sensory input   \n",
       "7   Conflict-based search for optimal multi-agent ...   \n",
       "8   Between MDPs and semi-MDPs: A framework for te...   \n",
       "9   The Hanabi challenge: A new frontier for AI re...   \n",
       "10  Evaluating XAI: A comparison of rule-based and...   \n",
       "11           Argumentation in artificial intelligence   \n",
       "12  Algorithms for computing strategies in two-pla...   \n",
       "13      Multiple object tracking: A literature review   \n",
       "14  Selection of relevant features and examples in...   \n",
       "15  A survey of inverse reinforcement learning: Ch...   \n",
       "16  Explaining individual predictions when feature...   \n",
       "17  A review of possible effects of cognitive bias...   \n",
       "18  Integrating social power into the decision-mak...   \n",
       "19  “That's (not) the output I expected!” On the r...   \n",
       "20  Explaining black-box classifiers using post-ho...   \n",
       "21  Algorithm runtime prediction: Methods & evalua...   \n",
       "22              Wrappers for feature subset selection   \n",
       "23  Commonsense visual sensemaking for autonomous ...   \n",
       "24         Quantum computation, quantum theory and AI   \n",
       "\n",
       "                                              Authors  Published Date  \\\n",
       "0   Silver, David, Singh, Satinder, Precup, Doina,...    October 2021   \n",
       "1           Evans, Richard, Bošnjak, Matko and 5 more    October 2021   \n",
       "2                   Prakken, Henry, Sartor, Giovanni     October 2015   \n",
       "3                                 Boden, Margaret A.      August 1998   \n",
       "4     Lemaignan, Séverin, Warnier, Mathieu and 3 more       June 2017   \n",
       "5                                        Miller, Tim    February 2019   \n",
       "6   Evans, Richard, Hernández-Orallo, José and 3 more      April 2021   \n",
       "7   Sharon, Guni, Stern, Roni, Felner, Ariel, Stur...   February 2015   \n",
       "8   Sutton, Richard S., Precup, Doina, Singh, Sati...     August 1999   \n",
       "9         Bard, Nolan, Foerster, Jakob N. and 13 more      March 2020   \n",
       "10  van der Waa, Jasper, Nieuwburg, Elisabeth, Cre...   February 2021   \n",
       "11               Bench-Capon, T.J.M., Dunne, Paul E.     October 2007   \n",
       "12       Bošanský, Branislav, Lisý, Viliam and 3 more     August 2016   \n",
       "13             Luo, Wenhan, Xing, Junliang and 4 more      April 2021   \n",
       "14                      Blum, Avrim L., Langley, Pat    December 1997   \n",
       "15                   Arora, Saurabh, Doshi, Prashant      August 2021   \n",
       "16      Aas, Kjersti, Jullum, Martin, Løland, Anders   September 2021   \n",
       "17  Kliegr, Tomáš, Bahník, Štěpán, Fürnkranz, Joha...       June 2021   \n",
       "18    Pereira, Gonçalo, Prada, Rui, Santos, Pedro A.    December 2016   \n",
       "19                      Riveiro, Maria, Thill, Serge   September 2021   \n",
       "20  Kenny, Eoin M., Ford, Courtney, Quinn, Molly, ...        May 2021   \n",
       "21  Hutter, Frank, Xu, Lin, Hoos, Holger H., Leyto...    January 2014   \n",
       "22                      Kohavi, Ron, John, George H.    December 1997   \n",
       "23  Suchan, Jakob, Bhatt, Mehul, Varadarajan, Srik...    October 2021   \n",
       "24                                   Ying, Mingsheng    February 2010   \n",
       "\n",
       "                                            Paper URL  \n",
       "0   https://www.sciencedirect.com/science/article/...  \n",
       "1   https://www.sciencedirect.com/science/article/...  \n",
       "2   https://www.sciencedirect.com/science/article/...  \n",
       "3   https://www.sciencedirect.com/science/article/...  \n",
       "4   https://www.sciencedirect.com/science/article/...  \n",
       "5   https://www.sciencedirect.com/science/article/...  \n",
       "6   https://www.sciencedirect.com/science/article/...  \n",
       "7   https://www.sciencedirect.com/science/article/...  \n",
       "8   https://www.sciencedirect.com/science/article/...  \n",
       "9   https://www.sciencedirect.com/science/article/...  \n",
       "10  https://www.sciencedirect.com/science/article/...  \n",
       "11  https://www.sciencedirect.com/science/article/...  \n",
       "12  https://www.sciencedirect.com/science/article/...  \n",
       "13  https://www.sciencedirect.com/science/article/...  \n",
       "14  https://www.sciencedirect.com/science/article/...  \n",
       "15  https://www.sciencedirect.com/science/article/...  \n",
       "16  https://www.sciencedirect.com/science/article/...  \n",
       "17  https://www.sciencedirect.com/science/article/...  \n",
       "18  https://www.sciencedirect.com/science/article/...  \n",
       "19  https://www.sciencedirect.com/science/article/...  \n",
       "20  https://www.sciencedirect.com/science/article/...  \n",
       "21  https://www.sciencedirect.com/science/article/...  \n",
       "22  https://www.sciencedirect.com/science/article/...  \n",
       "23  https://www.sciencedirect.com/science/article/...  \n",
       "24  https://www.sciencedirect.com/science/article/...  "
      ]
     },
     "execution_count": 185,
     "metadata": {},
     "output_type": "execute_result"
    }
   ],
   "source": [
    "Articles=pd.DataFrame({})\n",
    "Articles['Paper Title']=Paper_Title\n",
    "Articles['Authors']=Authors\n",
    "Articles['Published Date']=Published_Date\n",
    "Articles['Paper URL']=Paper_URL\n",
    "Articles"
   ]
  },
  {
   "cell_type": "markdown",
   "id": "fa5d0911",
   "metadata": {},
   "source": [
    "# 9.Write a python program to scrape mentioned details from dineout.co.in :\n"
   ]
  },
  {
   "cell_type": "markdown",
   "id": "b4057a78",
   "metadata": {},
   "source": [
    "i) Restaurant name\n",
    "\n",
    "ii) Cuisine\n",
    "\n",
    "iii) Location\n",
    "\n",
    "iv) Ratings\n",
    "\n",
    "v) Image URL"
   ]
  },
  {
   "cell_type": "code",
   "execution_count": 186,
   "id": "bd3610e0",
   "metadata": {},
   "outputs": [
    {
     "data": {
      "text/plain": [
       "<Response [200]>"
      ]
     },
     "execution_count": 186,
     "metadata": {},
     "output_type": "execute_result"
    }
   ],
   "source": [
    "url=\"https://www.dineout.co.in/delhi-restaurants/buffet-special\"\n",
    "page_9=requests.get(url)\n",
    "page_9"
   ]
  },
  {
   "cell_type": "code",
   "execution_count": 187,
   "id": "d0012639",
   "metadata": {},
   "outputs": [],
   "source": [
    "soup=BeautifulSoup(page_9.content)"
   ]
  },
  {
   "cell_type": "code",
   "execution_count": 188,
   "id": "7e67ed07",
   "metadata": {},
   "outputs": [],
   "source": [
    "Restaurant_name=[]\n",
    "for i in soup.find_all('a',class_=\"restnt-name ellipsis\"):\n",
    "    Restaurant_name.append(i.text)"
   ]
  },
  {
   "cell_type": "code",
   "execution_count": 192,
   "id": "d1f5a44a",
   "metadata": {},
   "outputs": [],
   "source": [
    "Cuisine=[]\n",
    "for i in soup.find_all(\"span\",class_=\"double-line-ellipsis\"):\n",
    "            Cuisine.append(i.text.split('|')[1])"
   ]
  },
  {
   "cell_type": "code",
   "execution_count": 194,
   "id": "05319897",
   "metadata": {},
   "outputs": [],
   "source": [
    "Location=[]\n",
    "for i in soup.find_all(\"div\",class_=\"restnt-loc ellipsis\"):\n",
    "    Location.append(i.text)"
   ]
  },
  {
   "cell_type": "code",
   "execution_count": 195,
   "id": "a45bd44a",
   "metadata": {},
   "outputs": [],
   "source": [
    "Ratings=[]\n",
    "for i in soup.find_all(\"div\",class_=\"restnt-rating rating-4\"):\n",
    "    Ratings.append(i.text)"
   ]
  },
  {
   "cell_type": "code",
   "execution_count": 196,
   "id": "2bd3a0ff",
   "metadata": {},
   "outputs": [],
   "source": [
    "\n",
    "Image_URL=[]\n",
    "for i in soup.find_all(\"img\",class_=\"no-img\"):\n",
    "    Image_URL.append(i.get(\"data-src\"))"
   ]
  },
  {
   "cell_type": "code",
   "execution_count": 197,
   "id": "56cc93f7",
   "metadata": {},
   "outputs": [
    {
     "data": {
      "text/html": [
       "<div>\n",
       "<style scoped>\n",
       "    .dataframe tbody tr th:only-of-type {\n",
       "        vertical-align: middle;\n",
       "    }\n",
       "\n",
       "    .dataframe tbody tr th {\n",
       "        vertical-align: top;\n",
       "    }\n",
       "\n",
       "    .dataframe thead th {\n",
       "        text-align: right;\n",
       "    }\n",
       "</style>\n",
       "<table border=\"1\" class=\"dataframe\">\n",
       "  <thead>\n",
       "    <tr style=\"text-align: right;\">\n",
       "      <th></th>\n",
       "      <th>Restaurant name</th>\n",
       "      <th>Cuisine</th>\n",
       "      <th>Location</th>\n",
       "      <th>Ratings</th>\n",
       "      <th>Image URL</th>\n",
       "    </tr>\n",
       "  </thead>\n",
       "  <tbody>\n",
       "    <tr>\n",
       "      <th>0</th>\n",
       "      <td>Castle Barbeque</td>\n",
       "      <td>Chinese, North Indian</td>\n",
       "      <td>Connaught Place, Central Delhi</td>\n",
       "      <td>4.1</td>\n",
       "      <td>https://im1.dineout.co.in/images/uploads/resta...</td>\n",
       "    </tr>\n",
       "    <tr>\n",
       "      <th>1</th>\n",
       "      <td>Jungle Jamboree</td>\n",
       "      <td>North Indian, Asian, Italian</td>\n",
       "      <td>3CS Mall,Lajpat Nagar - 3, South Delhi</td>\n",
       "      <td>3.9</td>\n",
       "      <td>https://im1.dineout.co.in/images/uploads/resta...</td>\n",
       "    </tr>\n",
       "    <tr>\n",
       "      <th>2</th>\n",
       "      <td>Castle Barbeque</td>\n",
       "      <td>Chinese, North Indian</td>\n",
       "      <td>Pacific Mall,Tagore Garden, West Delhi</td>\n",
       "      <td>3.9</td>\n",
       "      <td>https://im1.dineout.co.in/images/uploads/resta...</td>\n",
       "    </tr>\n",
       "    <tr>\n",
       "      <th>3</th>\n",
       "      <td>Cafe Knosh</td>\n",
       "      <td>Italian, Continental</td>\n",
       "      <td>The Leela Ambience Convention Hotel,Shahdara, ...</td>\n",
       "      <td>4.3</td>\n",
       "      <td>https://im1.dineout.co.in/images/uploads/resta...</td>\n",
       "    </tr>\n",
       "    <tr>\n",
       "      <th>4</th>\n",
       "      <td>The Barbeque Company</td>\n",
       "      <td>North Indian, Chinese</td>\n",
       "      <td>Gardens Galleria,Sector 38A, Noida</td>\n",
       "      <td>4</td>\n",
       "      <td>https://im1.dineout.co.in/images/uploads/resta...</td>\n",
       "    </tr>\n",
       "    <tr>\n",
       "      <th>5</th>\n",
       "      <td>India Grill</td>\n",
       "      <td>North Indian, Italian</td>\n",
       "      <td>Hilton Garden Inn,Saket, South Delhi</td>\n",
       "      <td>3.9</td>\n",
       "      <td>https://im1.dineout.co.in/images/uploads/resta...</td>\n",
       "    </tr>\n",
       "    <tr>\n",
       "      <th>6</th>\n",
       "      <td>Delhi Barbeque</td>\n",
       "      <td>North Indian</td>\n",
       "      <td>Taurus Sarovar Portico,Mahipalpur, South Delhi</td>\n",
       "      <td>3.7</td>\n",
       "      <td>https://im1.dineout.co.in/images/uploads/resta...</td>\n",
       "    </tr>\n",
       "    <tr>\n",
       "      <th>7</th>\n",
       "      <td>The Monarch - Bar Be Que Village</td>\n",
       "      <td>North Indian</td>\n",
       "      <td>Indirapuram Habitat Centre,Indirapuram, Ghaziabad</td>\n",
       "      <td>3.8</td>\n",
       "      <td>https://im1.dineout.co.in/images/uploads/resta...</td>\n",
       "    </tr>\n",
       "    <tr>\n",
       "      <th>8</th>\n",
       "      <td>Indian Grill Room</td>\n",
       "      <td>North Indian, Mughlai</td>\n",
       "      <td>Suncity Business Tower,Golf Course Road, Gurgaon</td>\n",
       "      <td>4.3</td>\n",
       "      <td>https://im1.dineout.co.in/images/uploads/resta...</td>\n",
       "    </tr>\n",
       "  </tbody>\n",
       "</table>\n",
       "</div>"
      ],
      "text/plain": [
       "                    Restaurant name                        Cuisine  \\\n",
       "0                   Castle Barbeque          Chinese, North Indian   \n",
       "1                   Jungle Jamboree   North Indian, Asian, Italian   \n",
       "2                   Castle Barbeque          Chinese, North Indian   \n",
       "3                        Cafe Knosh           Italian, Continental   \n",
       "4              The Barbeque Company          North Indian, Chinese   \n",
       "5                       India Grill          North Indian, Italian   \n",
       "6                    Delhi Barbeque                   North Indian   \n",
       "7  The Monarch - Bar Be Que Village                   North Indian   \n",
       "8                 Indian Grill Room          North Indian, Mughlai   \n",
       "\n",
       "                                            Location Ratings  \\\n",
       "0                     Connaught Place, Central Delhi     4.1   \n",
       "1             3CS Mall,Lajpat Nagar - 3, South Delhi     3.9   \n",
       "2             Pacific Mall,Tagore Garden, West Delhi     3.9   \n",
       "3  The Leela Ambience Convention Hotel,Shahdara, ...     4.3   \n",
       "4                 Gardens Galleria,Sector 38A, Noida       4   \n",
       "5               Hilton Garden Inn,Saket, South Delhi     3.9   \n",
       "6     Taurus Sarovar Portico,Mahipalpur, South Delhi     3.7   \n",
       "7  Indirapuram Habitat Centre,Indirapuram, Ghaziabad     3.8   \n",
       "8   Suncity Business Tower,Golf Course Road, Gurgaon     4.3   \n",
       "\n",
       "                                           Image URL  \n",
       "0  https://im1.dineout.co.in/images/uploads/resta...  \n",
       "1  https://im1.dineout.co.in/images/uploads/resta...  \n",
       "2  https://im1.dineout.co.in/images/uploads/resta...  \n",
       "3  https://im1.dineout.co.in/images/uploads/resta...  \n",
       "4  https://im1.dineout.co.in/images/uploads/resta...  \n",
       "5  https://im1.dineout.co.in/images/uploads/resta...  \n",
       "6  https://im1.dineout.co.in/images/uploads/resta...  \n",
       "7  https://im1.dineout.co.in/images/uploads/resta...  \n",
       "8  https://im1.dineout.co.in/images/uploads/resta...  "
      ]
     },
     "execution_count": 197,
     "metadata": {},
     "output_type": "execute_result"
    }
   ],
   "source": [
    "Dineout=pd.DataFrame({})\n",
    "Dineout['Restaurant name']=Restaurant_name\n",
    "Dineout['Cuisine']=Cuisine\n",
    "Dineout['Location']=Location\n",
    "Dineout['Ratings']=Ratings\n",
    "Dineout['Image URL']=Image_URL\n",
    "Dineout"
   ]
  },
  {
   "cell_type": "markdown",
   "id": "f00a1aa8",
   "metadata": {},
   "source": [
    "# 10. Write a python program to scrape the details of top publications from Google Scholar from\n"
   ]
  },
  {
   "cell_type": "markdown",
   "id": "0fa16ab4",
   "metadata": {},
   "source": [
    "https://scholar.google.com/citations?view_op=top_venues&hl=en\n",
    "\n",
    "i) Rank\n",
    "\n",
    "ii) Publication\n",
    "\n",
    "iii) h5-index\n",
    "\n",
    "iv) h5-median"
   ]
  },
  {
   "cell_type": "code",
   "execution_count": 198,
   "id": "4c39574c",
   "metadata": {},
   "outputs": [
    {
     "data": {
      "text/plain": [
       "<Response [200]>"
      ]
     },
     "execution_count": 198,
     "metadata": {},
     "output_type": "execute_result"
    }
   ],
   "source": [
    "url=\"https://scholar.google.com/citations?view_op=top_venues&hl=en\"\n",
    "page_10=requests.get(url)\n",
    "page_10"
   ]
  },
  {
   "cell_type": "code",
   "execution_count": 199,
   "id": "9a773265",
   "metadata": {},
   "outputs": [],
   "source": [
    "soup=BeautifulSoup(page_10.content)\n"
   ]
  },
  {
   "cell_type": "code",
   "execution_count": 200,
   "id": "35846f5d",
   "metadata": {},
   "outputs": [],
   "source": [
    "Rank=[]\n",
    "for i in soup.find_all(\"td\",class_=\"gsc_mvt_p\"):\n",
    "    Rank.append(i.text)"
   ]
  },
  {
   "cell_type": "code",
   "execution_count": 201,
   "id": "bc385357",
   "metadata": {},
   "outputs": [],
   "source": [
    "Publication=[]\n",
    "for i in soup.find_all(\"td\",class_=\"gsc_mvt_t\"):\n",
    "    Publication.append(i.text)"
   ]
  },
  {
   "cell_type": "code",
   "execution_count": 202,
   "id": "2c6a790a",
   "metadata": {},
   "outputs": [],
   "source": [
    "h5_index=[]\n",
    "for i in soup.find_all(\"a\",class_=\"gs_ibl gsc_mp_anchor\"):\n",
    "    h5_index.append(i.text)"
   ]
  },
  {
   "cell_type": "code",
   "execution_count": 203,
   "id": "2571da59",
   "metadata": {},
   "outputs": [],
   "source": [
    "h5_median=[]\n",
    "for i in soup.find_all(\"span\",class_=\"gs_ibl gsc_mp_anchor\"):\n",
    "    h5_median.append(i.text)"
   ]
  },
  {
   "cell_type": "code",
   "execution_count": 205,
   "id": "7eb57d5f",
   "metadata": {},
   "outputs": [
    {
     "data": {
      "text/html": [
       "<div>\n",
       "<style scoped>\n",
       "    .dataframe tbody tr th:only-of-type {\n",
       "        vertical-align: middle;\n",
       "    }\n",
       "\n",
       "    .dataframe tbody tr th {\n",
       "        vertical-align: top;\n",
       "    }\n",
       "\n",
       "    .dataframe thead th {\n",
       "        text-align: right;\n",
       "    }\n",
       "</style>\n",
       "<table border=\"1\" class=\"dataframe\">\n",
       "  <thead>\n",
       "    <tr style=\"text-align: right;\">\n",
       "      <th></th>\n",
       "      <th>Rank</th>\n",
       "      <th>Publication</th>\n",
       "      <th>H5 Index</th>\n",
       "      <th>H5 Median</th>\n",
       "    </tr>\n",
       "  </thead>\n",
       "  <tbody>\n",
       "    <tr>\n",
       "      <th>0</th>\n",
       "      <td>1.</td>\n",
       "      <td>Nature</td>\n",
       "      <td>444</td>\n",
       "      <td>667</td>\n",
       "    </tr>\n",
       "    <tr>\n",
       "      <th>1</th>\n",
       "      <td>2.</td>\n",
       "      <td>The New England Journal of Medicine</td>\n",
       "      <td>432</td>\n",
       "      <td>780</td>\n",
       "    </tr>\n",
       "    <tr>\n",
       "      <th>2</th>\n",
       "      <td>3.</td>\n",
       "      <td>Science</td>\n",
       "      <td>401</td>\n",
       "      <td>614</td>\n",
       "    </tr>\n",
       "    <tr>\n",
       "      <th>3</th>\n",
       "      <td>4.</td>\n",
       "      <td>IEEE/CVF Conference on Computer Vision and Pat...</td>\n",
       "      <td>389</td>\n",
       "      <td>627</td>\n",
       "    </tr>\n",
       "    <tr>\n",
       "      <th>4</th>\n",
       "      <td>5.</td>\n",
       "      <td>The Lancet</td>\n",
       "      <td>354</td>\n",
       "      <td>635</td>\n",
       "    </tr>\n",
       "    <tr>\n",
       "      <th>...</th>\n",
       "      <td>...</td>\n",
       "      <td>...</td>\n",
       "      <td>...</td>\n",
       "      <td>...</td>\n",
       "    </tr>\n",
       "    <tr>\n",
       "      <th>95</th>\n",
       "      <td>96.</td>\n",
       "      <td>Journal of Business Research</td>\n",
       "      <td>145</td>\n",
       "      <td>233</td>\n",
       "    </tr>\n",
       "    <tr>\n",
       "      <th>96</th>\n",
       "      <td>97.</td>\n",
       "      <td>Molecular Cancer</td>\n",
       "      <td>145</td>\n",
       "      <td>209</td>\n",
       "    </tr>\n",
       "    <tr>\n",
       "      <th>97</th>\n",
       "      <td>98.</td>\n",
       "      <td>Sensors</td>\n",
       "      <td>145</td>\n",
       "      <td>201</td>\n",
       "    </tr>\n",
       "    <tr>\n",
       "      <th>98</th>\n",
       "      <td>99.</td>\n",
       "      <td>Nature Climate Change</td>\n",
       "      <td>144</td>\n",
       "      <td>228</td>\n",
       "    </tr>\n",
       "    <tr>\n",
       "      <th>99</th>\n",
       "      <td>100.</td>\n",
       "      <td>IEEE Internet of Things Journal</td>\n",
       "      <td>144</td>\n",
       "      <td>212</td>\n",
       "    </tr>\n",
       "  </tbody>\n",
       "</table>\n",
       "<p>100 rows × 4 columns</p>\n",
       "</div>"
      ],
      "text/plain": [
       "    Rank                                        Publication H5 Index H5 Median\n",
       "0     1.                                             Nature      444       667\n",
       "1     2.                The New England Journal of Medicine      432       780\n",
       "2     3.                                            Science      401       614\n",
       "3     4.  IEEE/CVF Conference on Computer Vision and Pat...      389       627\n",
       "4     5.                                         The Lancet      354       635\n",
       "..   ...                                                ...      ...       ...\n",
       "95   96.                       Journal of Business Research      145       233\n",
       "96   97.                                   Molecular Cancer      145       209\n",
       "97   98.                                            Sensors      145       201\n",
       "98   99.                              Nature Climate Change      144       228\n",
       "99  100.                    IEEE Internet of Things Journal      144       212\n",
       "\n",
       "[100 rows x 4 columns]"
      ]
     },
     "execution_count": 205,
     "metadata": {},
     "output_type": "execute_result"
    }
   ],
   "source": [
    "Top_publications=pd.DataFrame({})\n",
    "Top_publications[\"Rank\"]=Rank\n",
    "Top_publications[\"Publication\"]=Publication\n",
    "Top_publications[\"H5 Index\"]=h5_index\n",
    "Top_publications[\"H5 Median\"]=h5_median\n",
    "Top_publications"
   ]
  },
  {
   "cell_type": "code",
   "execution_count": null,
   "id": "d2c5ac43",
   "metadata": {},
   "outputs": [],
   "source": [
    "----------------------------------------------------"
   ]
  }
 ],
 "metadata": {
  "kernelspec": {
   "display_name": "Python 3 (ipykernel)",
   "language": "python",
   "name": "python3"
  },
  "language_info": {
   "codemirror_mode": {
    "name": "ipython",
    "version": 3
   },
   "file_extension": ".py",
   "mimetype": "text/x-python",
   "name": "python",
   "nbconvert_exporter": "python",
   "pygments_lexer": "ipython3",
   "version": "3.9.7"
  }
 },
 "nbformat": 4,
 "nbformat_minor": 5
}
